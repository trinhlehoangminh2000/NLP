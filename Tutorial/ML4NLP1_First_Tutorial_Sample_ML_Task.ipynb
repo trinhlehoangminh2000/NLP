{
  "cells": [
    {
      "cell_type": "code",
      "execution_count": null,
      "id": "6d70de4f",
      "metadata": {
        "_cell_guid": "b1076dfc-b9ad-4769-8c92-a6c4dae69d19",
        "_uuid": "8f2839f25d086af736a60e9eeb907d3b93b6e0e5",
        "execution": {
          "iopub.execute_input": "2022-09-15T06:55:38.356874Z",
          "iopub.status.busy": "2022-09-15T06:55:38.355580Z",
          "iopub.status.idle": "2022-09-15T06:55:38.377531Z",
          "shell.execute_reply": "2022-09-15T06:55:38.376639Z"
        },
        "papermill": {
          "duration": 0.041152,
          "end_time": "2022-09-15T06:55:38.380197",
          "exception": false,
          "start_time": "2022-09-15T06:55:38.339045",
          "status": "completed"
        },
        "tags": [],
        "id": "6d70de4f"
      },
      "outputs": [],
      "source": [
        "import numpy as np # linear algebra\n",
        "import pandas as pd # data processing, CSV file I/O (e.g. pd.read_csv)"
      ]
    },
    {
      "cell_type": "code",
      "execution_count": null,
      "id": "a50e3d42",
      "metadata": {
        "execution": {
          "iopub.execute_input": "2022-09-15T06:55:38.409876Z",
          "iopub.status.busy": "2022-09-15T06:55:38.409182Z",
          "iopub.status.idle": "2022-09-15T06:55:39.850798Z",
          "shell.execute_reply": "2022-09-15T06:55:39.849519Z"
        },
        "papermill": {
          "duration": 1.45955,
          "end_time": "2022-09-15T06:55:39.853679",
          "exception": false,
          "start_time": "2022-09-15T06:55:38.394129",
          "status": "completed"
        },
        "tags": [],
        "id": "a50e3d42"
      },
      "outputs": [],
      "source": [
        "df=pd.read_csv('IMDB Dataset.csv')"
      ]
    },
    {
      "cell_type": "code",
      "execution_count": null,
      "id": "29eb4820",
      "metadata": {
        "execution": {
          "iopub.execute_input": "2022-09-15T06:55:39.885391Z",
          "iopub.status.busy": "2022-09-15T06:55:39.885002Z",
          "iopub.status.idle": "2022-09-15T06:55:39.906650Z",
          "shell.execute_reply": "2022-09-15T06:55:39.905434Z"
        },
        "papermill": {
          "duration": 0.041578,
          "end_time": "2022-09-15T06:55:39.909358",
          "exception": false,
          "start_time": "2022-09-15T06:55:39.867780",
          "status": "completed"
        },
        "tags": [],
        "id": "29eb4820",
        "outputId": "f9ad293c-c97d-4da0-fdb4-4bdc871cb464",
        "colab": {
          "base_uri": "https://localhost:8080/",
          "height": 206
        }
      },
      "outputs": [
        {
          "output_type": "execute_result",
          "data": {
            "text/plain": [
              "                                              review sentiment\n",
              "0  One of the other reviewers has mentioned that ...  positive\n",
              "1  A wonderful little production. <br /><br />The...  positive\n",
              "2  I thought this was a wonderful way to spend ti...  positive\n",
              "3  Basically there's a family where a little boy ...  negative\n",
              "4  Petter Mattei's \"Love in the Time of Money\" is...  positive"
            ],
            "text/html": [
              "\n",
              "  <div id=\"df-f3140dea-9bca-4e9a-887b-083ebd4c3787\">\n",
              "    <div class=\"colab-df-container\">\n",
              "      <div>\n",
              "<style scoped>\n",
              "    .dataframe tbody tr th:only-of-type {\n",
              "        vertical-align: middle;\n",
              "    }\n",
              "\n",
              "    .dataframe tbody tr th {\n",
              "        vertical-align: top;\n",
              "    }\n",
              "\n",
              "    .dataframe thead th {\n",
              "        text-align: right;\n",
              "    }\n",
              "</style>\n",
              "<table border=\"1\" class=\"dataframe\">\n",
              "  <thead>\n",
              "    <tr style=\"text-align: right;\">\n",
              "      <th></th>\n",
              "      <th>review</th>\n",
              "      <th>sentiment</th>\n",
              "    </tr>\n",
              "  </thead>\n",
              "  <tbody>\n",
              "    <tr>\n",
              "      <th>0</th>\n",
              "      <td>One of the other reviewers has mentioned that ...</td>\n",
              "      <td>positive</td>\n",
              "    </tr>\n",
              "    <tr>\n",
              "      <th>1</th>\n",
              "      <td>A wonderful little production. &lt;br /&gt;&lt;br /&gt;The...</td>\n",
              "      <td>positive</td>\n",
              "    </tr>\n",
              "    <tr>\n",
              "      <th>2</th>\n",
              "      <td>I thought this was a wonderful way to spend ti...</td>\n",
              "      <td>positive</td>\n",
              "    </tr>\n",
              "    <tr>\n",
              "      <th>3</th>\n",
              "      <td>Basically there's a family where a little boy ...</td>\n",
              "      <td>negative</td>\n",
              "    </tr>\n",
              "    <tr>\n",
              "      <th>4</th>\n",
              "      <td>Petter Mattei's \"Love in the Time of Money\" is...</td>\n",
              "      <td>positive</td>\n",
              "    </tr>\n",
              "  </tbody>\n",
              "</table>\n",
              "</div>\n",
              "      <button class=\"colab-df-convert\" onclick=\"convertToInteractive('df-f3140dea-9bca-4e9a-887b-083ebd4c3787')\"\n",
              "              title=\"Convert this dataframe to an interactive table.\"\n",
              "              style=\"display:none;\">\n",
              "        \n",
              "  <svg xmlns=\"http://www.w3.org/2000/svg\" height=\"24px\"viewBox=\"0 0 24 24\"\n",
              "       width=\"24px\">\n",
              "    <path d=\"M0 0h24v24H0V0z\" fill=\"none\"/>\n",
              "    <path d=\"M18.56 5.44l.94 2.06.94-2.06 2.06-.94-2.06-.94-.94-2.06-.94 2.06-2.06.94zm-11 1L8.5 8.5l.94-2.06 2.06-.94-2.06-.94L8.5 2.5l-.94 2.06-2.06.94zm10 10l.94 2.06.94-2.06 2.06-.94-2.06-.94-.94-2.06-.94 2.06-2.06.94z\"/><path d=\"M17.41 7.96l-1.37-1.37c-.4-.4-.92-.59-1.43-.59-.52 0-1.04.2-1.43.59L10.3 9.45l-7.72 7.72c-.78.78-.78 2.05 0 2.83L4 21.41c.39.39.9.59 1.41.59.51 0 1.02-.2 1.41-.59l7.78-7.78 2.81-2.81c.8-.78.8-2.07 0-2.86zM5.41 20L4 18.59l7.72-7.72 1.47 1.35L5.41 20z\"/>\n",
              "  </svg>\n",
              "      </button>\n",
              "      \n",
              "  <style>\n",
              "    .colab-df-container {\n",
              "      display:flex;\n",
              "      flex-wrap:wrap;\n",
              "      gap: 12px;\n",
              "    }\n",
              "\n",
              "    .colab-df-convert {\n",
              "      background-color: #E8F0FE;\n",
              "      border: none;\n",
              "      border-radius: 50%;\n",
              "      cursor: pointer;\n",
              "      display: none;\n",
              "      fill: #1967D2;\n",
              "      height: 32px;\n",
              "      padding: 0 0 0 0;\n",
              "      width: 32px;\n",
              "    }\n",
              "\n",
              "    .colab-df-convert:hover {\n",
              "      background-color: #E2EBFA;\n",
              "      box-shadow: 0px 1px 2px rgba(60, 64, 67, 0.3), 0px 1px 3px 1px rgba(60, 64, 67, 0.15);\n",
              "      fill: #174EA6;\n",
              "    }\n",
              "\n",
              "    [theme=dark] .colab-df-convert {\n",
              "      background-color: #3B4455;\n",
              "      fill: #D2E3FC;\n",
              "    }\n",
              "\n",
              "    [theme=dark] .colab-df-convert:hover {\n",
              "      background-color: #434B5C;\n",
              "      box-shadow: 0px 1px 3px 1px rgba(0, 0, 0, 0.15);\n",
              "      filter: drop-shadow(0px 1px 2px rgba(0, 0, 0, 0.3));\n",
              "      fill: #FFFFFF;\n",
              "    }\n",
              "  </style>\n",
              "\n",
              "      <script>\n",
              "        const buttonEl =\n",
              "          document.querySelector('#df-f3140dea-9bca-4e9a-887b-083ebd4c3787 button.colab-df-convert');\n",
              "        buttonEl.style.display =\n",
              "          google.colab.kernel.accessAllowed ? 'block' : 'none';\n",
              "\n",
              "        async function convertToInteractive(key) {\n",
              "          const element = document.querySelector('#df-f3140dea-9bca-4e9a-887b-083ebd4c3787');\n",
              "          const dataTable =\n",
              "            await google.colab.kernel.invokeFunction('convertToInteractive',\n",
              "                                                     [key], {});\n",
              "          if (!dataTable) return;\n",
              "\n",
              "          const docLinkHtml = 'Like what you see? Visit the ' +\n",
              "            '<a target=\"_blank\" href=https://colab.research.google.com/notebooks/data_table.ipynb>data table notebook</a>'\n",
              "            + ' to learn more about interactive tables.';\n",
              "          element.innerHTML = '';\n",
              "          dataTable['output_type'] = 'display_data';\n",
              "          await google.colab.output.renderOutput(dataTable, element);\n",
              "          const docLink = document.createElement('div');\n",
              "          docLink.innerHTML = docLinkHtml;\n",
              "          element.appendChild(docLink);\n",
              "        }\n",
              "      </script>\n",
              "    </div>\n",
              "  </div>\n",
              "  "
            ]
          },
          "metadata": {},
          "execution_count": 3
        }
      ],
      "source": [
        "df.head()"
      ]
    },
    {
      "cell_type": "code",
      "execution_count": null,
      "id": "0aaaa4af",
      "metadata": {
        "execution": {
          "iopub.execute_input": "2022-09-15T06:55:39.939144Z",
          "iopub.status.busy": "2022-09-15T06:55:39.938722Z",
          "iopub.status.idle": "2022-09-15T06:55:39.950246Z",
          "shell.execute_reply": "2022-09-15T06:55:39.949035Z"
        },
        "papermill": {
          "duration": 0.030001,
          "end_time": "2022-09-15T06:55:39.953125",
          "exception": false,
          "start_time": "2022-09-15T06:55:39.923124",
          "status": "completed"
        },
        "tags": [],
        "id": "0aaaa4af",
        "outputId": "93149eb5-7379-488b-b55b-e26aa2d709ba",
        "colab": {
          "base_uri": "https://localhost:8080/",
          "height": 123
        }
      },
      "outputs": [
        {
          "output_type": "execute_result",
          "data": {
            "text/plain": [
              "\"One of the other reviewers has mentioned that after watching just 1 Oz episode you'll be hooked. They are right, as this is exactly what happened with me.<br /><br />The first thing that struck me about Oz was its brutality and unflinching scenes of violence, which set in right from the word GO. Trust me, this is not a show for the faint hearted or timid. This show pulls no punches with regards to drugs, sex or violence. Its is hardcore, in the classic use of the word.<br /><br />It is called OZ as that is the nickname given to the Oswald Maximum Security State Penitentary. It focuses mainly on Emerald City, an experimental section of the prison where all the cells have glass fronts and face inwards, so privacy is not high on the agenda. Em City is home to many..Aryans, Muslims, gangstas, Latinos, Christians, Italians, Irish and more....so scuffles, death stares, dodgy dealings and shady agreements are never far away.<br /><br />I would say the main appeal of the show is due to the fact that it goes where other shows wouldn't dare. Forget pretty pictures painted for mainstream audiences, forget charm, forget romance...OZ doesn't mess around. The first episode I ever saw struck me as so nasty it was surreal, I couldn't say I was ready for it, but as I watched more, I developed a taste for Oz, and got accustomed to the high levels of graphic violence. Not just violence, but injustice (crooked guards who'll be sold out for a nickel, inmates who'll kill on order and get away with it, well mannered, middle class inmates being turned into prison bitches due to their lack of street skills or prison experience) Watching Oz, you may become comfortable with what is uncomfortable viewing....thats if you can get in touch with your darker side.\""
            ],
            "application/vnd.google.colaboratory.intrinsic+json": {
              "type": "string"
            }
          },
          "metadata": {},
          "execution_count": 4
        }
      ],
      "source": [
        "# One review\n",
        "df['review'][0]"
      ]
    },
    {
      "cell_type": "markdown",
      "id": "b2b41b45",
      "metadata": {
        "papermill": {
          "duration": 0.014166,
          "end_time": "2022-09-15T06:55:39.982832",
          "exception": false,
          "start_time": "2022-09-15T06:55:39.968666",
          "status": "completed"
        },
        "tags": [],
        "id": "b2b41b45"
      },
      "source": [
        "**Text Cleaning**\n",
        "\n",
        "1. Remove html tags\n",
        "2. Remove Special Characters\n",
        "3. Converting every thing to lower case\n",
        "4. Removing Stop Words\n",
        "5. Stemming"
      ]
    },
    {
      "cell_type": "code",
      "execution_count": null,
      "id": "d4f73cbd",
      "metadata": {
        "execution": {
          "iopub.execute_input": "2022-09-15T06:55:40.063473Z",
          "iopub.status.busy": "2022-09-15T06:55:40.063040Z",
          "iopub.status.idle": "2022-09-15T06:55:40.071251Z",
          "shell.execute_reply": "2022-09-15T06:55:40.070079Z"
        },
        "papermill": {
          "duration": 0.027597,
          "end_time": "2022-09-15T06:55:40.073717",
          "exception": false,
          "start_time": "2022-09-15T06:55:40.046120",
          "status": "completed"
        },
        "tags": [],
        "id": "d4f73cbd",
        "outputId": "2ff2b7f5-4797-4474-f628-29af8e8e7ed8",
        "colab": {
          "base_uri": "https://localhost:8080/"
        }
      },
      "outputs": [
        {
          "output_type": "execute_result",
          "data": {
            "text/plain": [
              "(10000, 2)"
            ]
          },
          "metadata": {},
          "execution_count": 5
        }
      ],
      "source": [
        "df=df.sample(10000)\n",
        "df.shape"
      ]
    },
    {
      "cell_type": "code",
      "execution_count": null,
      "id": "2243f64c",
      "metadata": {
        "execution": {
          "iopub.execute_input": "2022-09-15T06:55:40.103750Z",
          "iopub.status.busy": "2022-09-15T06:55:40.103317Z",
          "iopub.status.idle": "2022-09-15T06:55:40.127406Z",
          "shell.execute_reply": "2022-09-15T06:55:40.126166Z"
        },
        "papermill": {
          "duration": 0.041699,
          "end_time": "2022-09-15T06:55:40.130000",
          "exception": false,
          "start_time": "2022-09-15T06:55:40.088301",
          "status": "completed"
        },
        "tags": [],
        "id": "2243f64c",
        "outputId": "7f5b56ae-be37-4648-a4e0-b866c74b26bb",
        "colab": {
          "base_uri": "https://localhost:8080/"
        }
      },
      "outputs": [
        {
          "output_type": "stream",
          "name": "stdout",
          "text": [
            "<class 'pandas.core.frame.DataFrame'>\n",
            "Int64Index: 10000 entries, 5406 to 30760\n",
            "Data columns (total 2 columns):\n",
            " #   Column     Non-Null Count  Dtype \n",
            "---  ------     --------------  ----- \n",
            " 0   review     10000 non-null  object\n",
            " 1   sentiment  10000 non-null  object\n",
            "dtypes: object(2)\n",
            "memory usage: 234.4+ KB\n"
          ]
        }
      ],
      "source": [
        "df.info()"
      ]
    },
    {
      "cell_type": "code",
      "execution_count": null,
      "id": "aae52e90",
      "metadata": {
        "execution": {
          "iopub.execute_input": "2022-09-15T06:55:40.161882Z",
          "iopub.status.busy": "2022-09-15T06:55:40.160645Z",
          "iopub.status.idle": "2022-09-15T06:55:40.178419Z",
          "shell.execute_reply": "2022-09-15T06:55:40.176662Z"
        },
        "papermill": {
          "duration": 0.037941,
          "end_time": "2022-09-15T06:55:40.182402",
          "exception": false,
          "start_time": "2022-09-15T06:55:40.144461",
          "status": "completed"
        },
        "tags": [],
        "id": "aae52e90"
      },
      "outputs": [],
      "source": [
        "df['sentiment'].replace({'positive':1, 'negative':0},inplace=True)"
      ]
    },
    {
      "cell_type": "code",
      "execution_count": null,
      "id": "65abe18d",
      "metadata": {
        "execution": {
          "iopub.execute_input": "2022-09-15T06:55:40.220896Z",
          "iopub.status.busy": "2022-09-15T06:55:40.220253Z",
          "iopub.status.idle": "2022-09-15T06:55:40.236868Z",
          "shell.execute_reply": "2022-09-15T06:55:40.235648Z"
        },
        "papermill": {
          "duration": 0.040665,
          "end_time": "2022-09-15T06:55:40.239262",
          "exception": false,
          "start_time": "2022-09-15T06:55:40.198597",
          "status": "completed"
        },
        "tags": [],
        "id": "65abe18d",
        "outputId": "fa5e8acb-9753-40e5-f36f-45c39a4a7590",
        "colab": {
          "base_uri": "https://localhost:8080/",
          "height": 206
        }
      },
      "outputs": [
        {
          "output_type": "execute_result",
          "data": {
            "text/plain": [
              "                                                  review  sentiment\n",
              "5406   i went to see this movie with a bunch of frien...          1\n",
              "37376  I saw \"Myra Breckinridge\" when it first came o...          0\n",
              "13698  I was looking forward to seeing Amanda Peet in...          0\n",
              "31357  (No spoilers, just plot details) I can't under...          1\n",
              "26440  DeCoteau has to be one of the worst \"directors...          0"
            ],
            "text/html": [
              "\n",
              "  <div id=\"df-7be72ab6-d28c-4f6b-b9be-dd50cbcd5d36\">\n",
              "    <div class=\"colab-df-container\">\n",
              "      <div>\n",
              "<style scoped>\n",
              "    .dataframe tbody tr th:only-of-type {\n",
              "        vertical-align: middle;\n",
              "    }\n",
              "\n",
              "    .dataframe tbody tr th {\n",
              "        vertical-align: top;\n",
              "    }\n",
              "\n",
              "    .dataframe thead th {\n",
              "        text-align: right;\n",
              "    }\n",
              "</style>\n",
              "<table border=\"1\" class=\"dataframe\">\n",
              "  <thead>\n",
              "    <tr style=\"text-align: right;\">\n",
              "      <th></th>\n",
              "      <th>review</th>\n",
              "      <th>sentiment</th>\n",
              "    </tr>\n",
              "  </thead>\n",
              "  <tbody>\n",
              "    <tr>\n",
              "      <th>5406</th>\n",
              "      <td>i went to see this movie with a bunch of frien...</td>\n",
              "      <td>1</td>\n",
              "    </tr>\n",
              "    <tr>\n",
              "      <th>37376</th>\n",
              "      <td>I saw \"Myra Breckinridge\" when it first came o...</td>\n",
              "      <td>0</td>\n",
              "    </tr>\n",
              "    <tr>\n",
              "      <th>13698</th>\n",
              "      <td>I was looking forward to seeing Amanda Peet in...</td>\n",
              "      <td>0</td>\n",
              "    </tr>\n",
              "    <tr>\n",
              "      <th>31357</th>\n",
              "      <td>(No spoilers, just plot details) I can't under...</td>\n",
              "      <td>1</td>\n",
              "    </tr>\n",
              "    <tr>\n",
              "      <th>26440</th>\n",
              "      <td>DeCoteau has to be one of the worst \"directors...</td>\n",
              "      <td>0</td>\n",
              "    </tr>\n",
              "  </tbody>\n",
              "</table>\n",
              "</div>\n",
              "      <button class=\"colab-df-convert\" onclick=\"convertToInteractive('df-7be72ab6-d28c-4f6b-b9be-dd50cbcd5d36')\"\n",
              "              title=\"Convert this dataframe to an interactive table.\"\n",
              "              style=\"display:none;\">\n",
              "        \n",
              "  <svg xmlns=\"http://www.w3.org/2000/svg\" height=\"24px\"viewBox=\"0 0 24 24\"\n",
              "       width=\"24px\">\n",
              "    <path d=\"M0 0h24v24H0V0z\" fill=\"none\"/>\n",
              "    <path d=\"M18.56 5.44l.94 2.06.94-2.06 2.06-.94-2.06-.94-.94-2.06-.94 2.06-2.06.94zm-11 1L8.5 8.5l.94-2.06 2.06-.94-2.06-.94L8.5 2.5l-.94 2.06-2.06.94zm10 10l.94 2.06.94-2.06 2.06-.94-2.06-.94-.94-2.06-.94 2.06-2.06.94z\"/><path d=\"M17.41 7.96l-1.37-1.37c-.4-.4-.92-.59-1.43-.59-.52 0-1.04.2-1.43.59L10.3 9.45l-7.72 7.72c-.78.78-.78 2.05 0 2.83L4 21.41c.39.39.9.59 1.41.59.51 0 1.02-.2 1.41-.59l7.78-7.78 2.81-2.81c.8-.78.8-2.07 0-2.86zM5.41 20L4 18.59l7.72-7.72 1.47 1.35L5.41 20z\"/>\n",
              "  </svg>\n",
              "      </button>\n",
              "      \n",
              "  <style>\n",
              "    .colab-df-container {\n",
              "      display:flex;\n",
              "      flex-wrap:wrap;\n",
              "      gap: 12px;\n",
              "    }\n",
              "\n",
              "    .colab-df-convert {\n",
              "      background-color: #E8F0FE;\n",
              "      border: none;\n",
              "      border-radius: 50%;\n",
              "      cursor: pointer;\n",
              "      display: none;\n",
              "      fill: #1967D2;\n",
              "      height: 32px;\n",
              "      padding: 0 0 0 0;\n",
              "      width: 32px;\n",
              "    }\n",
              "\n",
              "    .colab-df-convert:hover {\n",
              "      background-color: #E2EBFA;\n",
              "      box-shadow: 0px 1px 2px rgba(60, 64, 67, 0.3), 0px 1px 3px 1px rgba(60, 64, 67, 0.15);\n",
              "      fill: #174EA6;\n",
              "    }\n",
              "\n",
              "    [theme=dark] .colab-df-convert {\n",
              "      background-color: #3B4455;\n",
              "      fill: #D2E3FC;\n",
              "    }\n",
              "\n",
              "    [theme=dark] .colab-df-convert:hover {\n",
              "      background-color: #434B5C;\n",
              "      box-shadow: 0px 1px 3px 1px rgba(0, 0, 0, 0.15);\n",
              "      filter: drop-shadow(0px 1px 2px rgba(0, 0, 0, 0.3));\n",
              "      fill: #FFFFFF;\n",
              "    }\n",
              "  </style>\n",
              "\n",
              "      <script>\n",
              "        const buttonEl =\n",
              "          document.querySelector('#df-7be72ab6-d28c-4f6b-b9be-dd50cbcd5d36 button.colab-df-convert');\n",
              "        buttonEl.style.display =\n",
              "          google.colab.kernel.accessAllowed ? 'block' : 'none';\n",
              "\n",
              "        async function convertToInteractive(key) {\n",
              "          const element = document.querySelector('#df-7be72ab6-d28c-4f6b-b9be-dd50cbcd5d36');\n",
              "          const dataTable =\n",
              "            await google.colab.kernel.invokeFunction('convertToInteractive',\n",
              "                                                     [key], {});\n",
              "          if (!dataTable) return;\n",
              "\n",
              "          const docLinkHtml = 'Like what you see? Visit the ' +\n",
              "            '<a target=\"_blank\" href=https://colab.research.google.com/notebooks/data_table.ipynb>data table notebook</a>'\n",
              "            + ' to learn more about interactive tables.';\n",
              "          element.innerHTML = '';\n",
              "          dataTable['output_type'] = 'display_data';\n",
              "          await google.colab.output.renderOutput(dataTable, element);\n",
              "          const docLink = document.createElement('div');\n",
              "          docLink.innerHTML = docLinkHtml;\n",
              "          element.appendChild(docLink);\n",
              "        }\n",
              "      </script>\n",
              "    </div>\n",
              "  </div>\n",
              "  "
            ]
          },
          "metadata": {},
          "execution_count": 8
        }
      ],
      "source": [
        "df.head()"
      ]
    },
    {
      "cell_type": "code",
      "execution_count": null,
      "id": "29fa1a2a",
      "metadata": {
        "execution": {
          "iopub.execute_input": "2022-09-15T06:55:40.274290Z",
          "iopub.status.busy": "2022-09-15T06:55:40.273149Z",
          "iopub.status.idle": "2022-09-15T06:55:40.283992Z",
          "shell.execute_reply": "2022-09-15T06:55:40.282127Z"
        },
        "papermill": {
          "duration": 0.032176,
          "end_time": "2022-09-15T06:55:40.287083",
          "exception": false,
          "start_time": "2022-09-15T06:55:40.254907",
          "status": "completed"
        },
        "tags": [],
        "id": "29fa1a2a",
        "outputId": "6eefa64c-be42-48c2-eb70-fb381635484f",
        "colab": {
          "base_uri": "https://localhost:8080/",
          "height": 123
        }
      },
      "outputs": [
        {
          "output_type": "execute_result",
          "data": {
            "text/plain": [
              "'I was looking forward to seeing Amanda Peet in another good role after recently renting \"The Whole Nine Yards\"--easily worth the rental, by the way--but this wasn\\'t it.I remembered that the trailer for \"Whipped\" was somewhat funny and the plot about three oversexed New Yorker twenty somethings all falling for and getting manipulated by the charming Ms. Peet was worth a shot. So, I convinced two friends one afternoon to come see this movie with me. This review is my penance.In the first act we have the three lead studs, recounting their conquests in a diner. What should have been funny, or at least telling, comes out rather pathetic. Was there any redeeming quality about the three men and their encounters that we were supposed to get out of this?[And while I don\\'t mind movies that are cheerfully vulgar, I kept wondering why no one in the diner turned around when the studs talk loudly about sexual and scatalogical details. They do this every week at the same diner? You would think someone would complain. Oh, wait, I forgot: two other diners do notice in one scene. But this is just a setup for a punchline. Everyone else in the diner is deaf.]The second act has the three studs all falling for Mia and then developing brain rot, failing to ask each other or her about what\\'s really happening between the four of them. And I kept asking myself, as the studs keep acting like they have been, what redeeming qualities does she see in them to stick with them longer than one date? Does she start out with brain rot? I kept hoping for Eric\\'s character, the married buddy, to become something more than simply the annoying punching bag in this act. His role is clearly to dispense advice on being married. But why do they even bother to talk to him when they won\\'t talk to each other? And his advice? Sheeesh!The third act resolves what plot there is but by this time I was looking at my watch. My friends told me they were still waiting for something genuinely funny to happen and I had to agree. The Scene That Explains All was adequate and managed to explain all of the questions and mysterious dialogue bits throughout the movie but we were just checking them off a list. (\"Oh, okay, that\\'s why Brad had that happen and Jonathan says this and...\")What laughs we made were from the stupidity of the plot than at anything amusing. Even the outtakes during the credits weren\\'t very funny. Ultimately I was left with nothing except a desire to warn people away from this movie.Rating: 3'"
            ],
            "application/vnd.google.colaboratory.intrinsic+json": {
              "type": "string"
            }
          },
          "metadata": {},
          "execution_count": 9
        }
      ],
      "source": [
        "# Regular Expression Library to removes html tag= get this code from net\n",
        "import re\n",
        "clean=re.compile('<.*?>')\n",
        "re.sub(clean,'',df.iloc[2].review)"
      ]
    },
    {
      "cell_type": "code",
      "execution_count": null,
      "id": "5590de94",
      "metadata": {
        "execution": {
          "iopub.execute_input": "2022-09-15T06:55:40.318393Z",
          "iopub.status.busy": "2022-09-15T06:55:40.318003Z",
          "iopub.status.idle": "2022-09-15T06:55:40.323753Z",
          "shell.execute_reply": "2022-09-15T06:55:40.322361Z"
        },
        "papermill": {
          "duration": 0.024417,
          "end_time": "2022-09-15T06:55:40.326214",
          "exception": false,
          "start_time": "2022-09-15T06:55:40.301797",
          "status": "completed"
        },
        "tags": [],
        "id": "5590de94"
      },
      "outputs": [],
      "source": [
        "# Function to clean html tags\n",
        "def clean_html(text):\n",
        "    clean=re.compile('<.*?>')\n",
        "    return re.sub(clean, '', text)"
      ]
    },
    {
      "cell_type": "code",
      "execution_count": null,
      "id": "767d5308",
      "metadata": {
        "execution": {
          "iopub.execute_input": "2022-09-15T06:55:40.357575Z",
          "iopub.status.busy": "2022-09-15T06:55:40.357116Z",
          "iopub.status.idle": "2022-09-15T06:55:40.428942Z",
          "shell.execute_reply": "2022-09-15T06:55:40.427100Z"
        },
        "papermill": {
          "duration": 0.091209,
          "end_time": "2022-09-15T06:55:40.432025",
          "exception": false,
          "start_time": "2022-09-15T06:55:40.340816",
          "status": "completed"
        },
        "tags": [],
        "id": "767d5308"
      },
      "outputs": [],
      "source": [
        "df['review']=df['review'].apply(clean_html)"
      ]
    },
    {
      "cell_type": "code",
      "execution_count": null,
      "id": "8047ebc0",
      "metadata": {
        "execution": {
          "iopub.execute_input": "2022-09-15T06:55:40.463053Z",
          "iopub.status.busy": "2022-09-15T06:55:40.462447Z",
          "iopub.status.idle": "2022-09-15T06:55:40.469053Z",
          "shell.execute_reply": "2022-09-15T06:55:40.467549Z"
        },
        "papermill": {
          "duration": 0.025513,
          "end_time": "2022-09-15T06:55:40.471666",
          "exception": false,
          "start_time": "2022-09-15T06:55:40.446153",
          "status": "completed"
        },
        "tags": [],
        "id": "8047ebc0"
      },
      "outputs": [],
      "source": [
        "# converting everythimg to lower\n",
        "def convert_lower(text):\n",
        "    return text.lower()"
      ]
    },
    {
      "cell_type": "code",
      "execution_count": null,
      "id": "40ef7a92",
      "metadata": {
        "execution": {
          "iopub.execute_input": "2022-09-15T06:55:40.502281Z",
          "iopub.status.busy": "2022-09-15T06:55:40.501866Z",
          "iopub.status.idle": "2022-09-15T06:55:40.540243Z",
          "shell.execute_reply": "2022-09-15T06:55:40.538816Z"
        },
        "papermill": {
          "duration": 0.05672,
          "end_time": "2022-09-15T06:55:40.542899",
          "exception": false,
          "start_time": "2022-09-15T06:55:40.486179",
          "status": "completed"
        },
        "tags": [],
        "id": "40ef7a92"
      },
      "outputs": [],
      "source": [
        "df['review']=df['review'].apply(convert_lower)"
      ]
    },
    {
      "cell_type": "code",
      "execution_count": null,
      "id": "f7e01108",
      "metadata": {
        "execution": {
          "iopub.execute_input": "2022-09-15T06:55:40.573067Z",
          "iopub.status.busy": "2022-09-15T06:55:40.572655Z",
          "iopub.status.idle": "2022-09-15T06:55:40.577553Z",
          "shell.execute_reply": "2022-09-15T06:55:40.576671Z"
        },
        "papermill": {
          "duration": 0.022586,
          "end_time": "2022-09-15T06:55:40.579632",
          "exception": false,
          "start_time": "2022-09-15T06:55:40.557046",
          "status": "completed"
        },
        "tags": [],
        "id": "f7e01108"
      },
      "outputs": [],
      "source": [
        "# function to remove special characters\n",
        "\n",
        "def remove_special(text):\n",
        "    x=''\n",
        "    for i in text:\n",
        "        if i.isalnum():\n",
        "            x=x+i\n",
        "        else:\n",
        "            x=x+' '\n",
        "    return x"
      ]
    },
    {
      "cell_type": "code",
      "execution_count": null,
      "id": "cfc9cf48",
      "metadata": {
        "execution": {
          "iopub.execute_input": "2022-09-15T06:55:40.609337Z",
          "iopub.status.busy": "2022-09-15T06:55:40.608948Z",
          "iopub.status.idle": "2022-09-15T06:55:40.614417Z",
          "shell.execute_reply": "2022-09-15T06:55:40.613613Z"
        },
        "papermill": {
          "duration": 0.023239,
          "end_time": "2022-09-15T06:55:40.616685",
          "exception": false,
          "start_time": "2022-09-15T06:55:40.593446",
          "status": "completed"
        },
        "tags": [],
        "id": "cfc9cf48",
        "outputId": "d2f2e008-c879-4d0c-f974-d77732324b0b",
        "colab": {
          "base_uri": "https://localhost:8080/",
          "height": 36
        }
      },
      "outputs": [
        {
          "output_type": "execute_result",
          "data": {
            "text/plain": [
              "'Th e   classic use of the word  it is called oz as that is the nickname given to the oswald maximum security state'"
            ],
            "application/vnd.google.colaboratory.intrinsic+json": {
              "type": "string"
            }
          },
          "metadata": {},
          "execution_count": 15
        }
      ],
      "source": [
        "remove_special('Th%e @ classic use of the word. it is called oz as that is the nickname given to the oswald maximum security state')"
      ]
    },
    {
      "cell_type": "code",
      "execution_count": null,
      "id": "d86bcede",
      "metadata": {
        "execution": {
          "iopub.execute_input": "2022-09-15T06:55:40.647708Z",
          "iopub.status.busy": "2022-09-15T06:55:40.647062Z",
          "iopub.status.idle": "2022-09-15T06:55:42.675069Z",
          "shell.execute_reply": "2022-09-15T06:55:42.674007Z"
        },
        "papermill": {
          "duration": 2.046509,
          "end_time": "2022-09-15T06:55:42.677583",
          "exception": false,
          "start_time": "2022-09-15T06:55:40.631074",
          "status": "completed"
        },
        "tags": [],
        "id": "d86bcede"
      },
      "outputs": [],
      "source": [
        "df['review']=df['review'].apply(remove_special)"
      ]
    },
    {
      "cell_type": "code",
      "execution_count": null,
      "id": "cd6edfe3",
      "metadata": {
        "execution": {
          "iopub.execute_input": "2022-09-15T06:55:42.708598Z",
          "iopub.status.busy": "2022-09-15T06:55:42.708167Z",
          "iopub.status.idle": "2022-09-15T06:55:44.431084Z",
          "shell.execute_reply": "2022-09-15T06:55:44.429793Z"
        },
        "papermill": {
          "duration": 1.741819,
          "end_time": "2022-09-15T06:55:44.433907",
          "exception": false,
          "start_time": "2022-09-15T06:55:42.692088",
          "status": "completed"
        },
        "tags": [],
        "id": "cd6edfe3"
      },
      "outputs": [],
      "source": [
        "# Remove the stop words\n",
        " \n",
        "import nltk"
      ]
    },
    {
      "cell_type": "code",
      "execution_count": null,
      "id": "91877194",
      "metadata": {
        "execution": {
          "iopub.execute_input": "2022-09-15T06:55:44.464269Z",
          "iopub.status.busy": "2022-09-15T06:55:44.463445Z",
          "iopub.status.idle": "2022-09-15T06:55:44.468339Z",
          "shell.execute_reply": "2022-09-15T06:55:44.467477Z"
        },
        "papermill": {
          "duration": 0.02269,
          "end_time": "2022-09-15T06:55:44.470635",
          "exception": false,
          "start_time": "2022-09-15T06:55:44.447945",
          "status": "completed"
        },
        "tags": [],
        "id": "91877194",
        "colab": {
          "base_uri": "https://localhost:8080/"
        },
        "outputId": "4dcd5060-e6ec-4783-8c5e-4601393f4ce1"
      },
      "outputs": [
        {
          "output_type": "stream",
          "name": "stderr",
          "text": [
            "[nltk_data] Downloading package stopwords to /root/nltk_data...\n",
            "[nltk_data]   Package stopwords is already up-to-date!\n"
          ]
        },
        {
          "output_type": "execute_result",
          "data": {
            "text/plain": [
              "True"
            ]
          },
          "metadata": {},
          "execution_count": 18
        }
      ],
      "source": [
        "from nltk.corpus import stopwords\n",
        "nltk.download('stopwords')"
      ]
    },
    {
      "cell_type": "code",
      "execution_count": null,
      "id": "4457a3d3",
      "metadata": {
        "execution": {
          "iopub.execute_input": "2022-09-15T06:55:44.500635Z",
          "iopub.status.busy": "2022-09-15T06:55:44.500207Z",
          "iopub.status.idle": "2022-09-15T06:55:44.517246Z",
          "shell.execute_reply": "2022-09-15T06:55:44.516366Z"
        },
        "papermill": {
          "duration": 0.034836,
          "end_time": "2022-09-15T06:55:44.519534",
          "exception": false,
          "start_time": "2022-09-15T06:55:44.484698",
          "status": "completed"
        },
        "tags": [],
        "id": "4457a3d3",
        "outputId": "16e953cc-09bd-46ef-ab18-0786993b1f25",
        "colab": {
          "base_uri": "https://localhost:8080/"
        }
      },
      "outputs": [
        {
          "output_type": "execute_result",
          "data": {
            "text/plain": [
              "['i',\n",
              " 'me',\n",
              " 'my',\n",
              " 'myself',\n",
              " 'we',\n",
              " 'our',\n",
              " 'ours',\n",
              " 'ourselves',\n",
              " 'you',\n",
              " \"you're\",\n",
              " \"you've\",\n",
              " \"you'll\",\n",
              " \"you'd\",\n",
              " 'your',\n",
              " 'yours',\n",
              " 'yourself',\n",
              " 'yourselves',\n",
              " 'he',\n",
              " 'him',\n",
              " 'his',\n",
              " 'himself',\n",
              " 'she',\n",
              " \"she's\",\n",
              " 'her',\n",
              " 'hers',\n",
              " 'herself',\n",
              " 'it',\n",
              " \"it's\",\n",
              " 'its',\n",
              " 'itself',\n",
              " 'they',\n",
              " 'them',\n",
              " 'their',\n",
              " 'theirs',\n",
              " 'themselves',\n",
              " 'what',\n",
              " 'which',\n",
              " 'who',\n",
              " 'whom',\n",
              " 'this',\n",
              " 'that',\n",
              " \"that'll\",\n",
              " 'these',\n",
              " 'those',\n",
              " 'am',\n",
              " 'is',\n",
              " 'are',\n",
              " 'was',\n",
              " 'were',\n",
              " 'be',\n",
              " 'been',\n",
              " 'being',\n",
              " 'have',\n",
              " 'has',\n",
              " 'had',\n",
              " 'having',\n",
              " 'do',\n",
              " 'does',\n",
              " 'did',\n",
              " 'doing',\n",
              " 'a',\n",
              " 'an',\n",
              " 'the',\n",
              " 'and',\n",
              " 'but',\n",
              " 'if',\n",
              " 'or',\n",
              " 'because',\n",
              " 'as',\n",
              " 'until',\n",
              " 'while',\n",
              " 'of',\n",
              " 'at',\n",
              " 'by',\n",
              " 'for',\n",
              " 'with',\n",
              " 'about',\n",
              " 'against',\n",
              " 'between',\n",
              " 'into',\n",
              " 'through',\n",
              " 'during',\n",
              " 'before',\n",
              " 'after',\n",
              " 'above',\n",
              " 'below',\n",
              " 'to',\n",
              " 'from',\n",
              " 'up',\n",
              " 'down',\n",
              " 'in',\n",
              " 'out',\n",
              " 'on',\n",
              " 'off',\n",
              " 'over',\n",
              " 'under',\n",
              " 'again',\n",
              " 'further',\n",
              " 'then',\n",
              " 'once',\n",
              " 'here',\n",
              " 'there',\n",
              " 'when',\n",
              " 'where',\n",
              " 'why',\n",
              " 'how',\n",
              " 'all',\n",
              " 'any',\n",
              " 'both',\n",
              " 'each',\n",
              " 'few',\n",
              " 'more',\n",
              " 'most',\n",
              " 'other',\n",
              " 'some',\n",
              " 'such',\n",
              " 'no',\n",
              " 'nor',\n",
              " 'not',\n",
              " 'only',\n",
              " 'own',\n",
              " 'same',\n",
              " 'so',\n",
              " 'than',\n",
              " 'too',\n",
              " 'very',\n",
              " 's',\n",
              " 't',\n",
              " 'can',\n",
              " 'will',\n",
              " 'just',\n",
              " 'don',\n",
              " \"don't\",\n",
              " 'should',\n",
              " \"should've\",\n",
              " 'now',\n",
              " 'd',\n",
              " 'll',\n",
              " 'm',\n",
              " 'o',\n",
              " 're',\n",
              " 've',\n",
              " 'y',\n",
              " 'ain',\n",
              " 'aren',\n",
              " \"aren't\",\n",
              " 'couldn',\n",
              " \"couldn't\",\n",
              " 'didn',\n",
              " \"didn't\",\n",
              " 'doesn',\n",
              " \"doesn't\",\n",
              " 'hadn',\n",
              " \"hadn't\",\n",
              " 'hasn',\n",
              " \"hasn't\",\n",
              " 'haven',\n",
              " \"haven't\",\n",
              " 'isn',\n",
              " \"isn't\",\n",
              " 'ma',\n",
              " 'mightn',\n",
              " \"mightn't\",\n",
              " 'mustn',\n",
              " \"mustn't\",\n",
              " 'needn',\n",
              " \"needn't\",\n",
              " 'shan',\n",
              " \"shan't\",\n",
              " 'shouldn',\n",
              " \"shouldn't\",\n",
              " 'wasn',\n",
              " \"wasn't\",\n",
              " 'weren',\n",
              " \"weren't\",\n",
              " 'won',\n",
              " \"won't\",\n",
              " 'wouldn',\n",
              " \"wouldn't\"]"
            ]
          },
          "metadata": {},
          "execution_count": 19
        }
      ],
      "source": [
        "stopwords.words('english')"
      ]
    },
    {
      "cell_type": "code",
      "execution_count": null,
      "id": "6f5f14c8",
      "metadata": {
        "execution": {
          "iopub.execute_input": "2022-09-15T06:55:44.550740Z",
          "iopub.status.busy": "2022-09-15T06:55:44.549979Z",
          "iopub.status.idle": "2022-09-15T06:55:44.562156Z",
          "shell.execute_reply": "2022-09-15T06:55:44.561266Z"
        },
        "papermill": {
          "duration": 0.030646,
          "end_time": "2022-09-15T06:55:44.564508",
          "exception": false,
          "start_time": "2022-09-15T06:55:44.533862",
          "status": "completed"
        },
        "tags": [],
        "id": "6f5f14c8",
        "outputId": "6a100cf8-e54a-4f4f-815f-3b4ba7fd3263",
        "colab": {
          "base_uri": "https://localhost:8080/",
          "height": 424
        }
      },
      "outputs": [
        {
          "output_type": "execute_result",
          "data": {
            "text/plain": [
              "                                                  review  sentiment\n",
              "5406   i went to see this movie with a bunch of frien...          1\n",
              "37376  i saw  myra breckinridge  when it first came o...          0\n",
              "13698  i was looking forward to seeing amanda peet in...          0\n",
              "31357   no spoilers  just plot details  i can t under...          1\n",
              "26440  decoteau has to be one of the worst  directors...          0\n",
              "...                                                  ...        ...\n",
              "20701  it seems that the people behind envy realised ...          0\n",
              "19632  this movie has two new features in relation to...          1\n",
              "26542  it is really a shame that imdb doesn t let you...          0\n",
              "27015  what does this movie have  lots of gunfire and...          0\n",
              "30760  a small town schoolteacher  geena davis  slowl...          1\n",
              "\n",
              "[10000 rows x 2 columns]"
            ],
            "text/html": [
              "\n",
              "  <div id=\"df-26c2c84e-6ca0-44c8-81a0-bb895563f1af\">\n",
              "    <div class=\"colab-df-container\">\n",
              "      <div>\n",
              "<style scoped>\n",
              "    .dataframe tbody tr th:only-of-type {\n",
              "        vertical-align: middle;\n",
              "    }\n",
              "\n",
              "    .dataframe tbody tr th {\n",
              "        vertical-align: top;\n",
              "    }\n",
              "\n",
              "    .dataframe thead th {\n",
              "        text-align: right;\n",
              "    }\n",
              "</style>\n",
              "<table border=\"1\" class=\"dataframe\">\n",
              "  <thead>\n",
              "    <tr style=\"text-align: right;\">\n",
              "      <th></th>\n",
              "      <th>review</th>\n",
              "      <th>sentiment</th>\n",
              "    </tr>\n",
              "  </thead>\n",
              "  <tbody>\n",
              "    <tr>\n",
              "      <th>5406</th>\n",
              "      <td>i went to see this movie with a bunch of frien...</td>\n",
              "      <td>1</td>\n",
              "    </tr>\n",
              "    <tr>\n",
              "      <th>37376</th>\n",
              "      <td>i saw  myra breckinridge  when it first came o...</td>\n",
              "      <td>0</td>\n",
              "    </tr>\n",
              "    <tr>\n",
              "      <th>13698</th>\n",
              "      <td>i was looking forward to seeing amanda peet in...</td>\n",
              "      <td>0</td>\n",
              "    </tr>\n",
              "    <tr>\n",
              "      <th>31357</th>\n",
              "      <td>no spoilers  just plot details  i can t under...</td>\n",
              "      <td>1</td>\n",
              "    </tr>\n",
              "    <tr>\n",
              "      <th>26440</th>\n",
              "      <td>decoteau has to be one of the worst  directors...</td>\n",
              "      <td>0</td>\n",
              "    </tr>\n",
              "    <tr>\n",
              "      <th>...</th>\n",
              "      <td>...</td>\n",
              "      <td>...</td>\n",
              "    </tr>\n",
              "    <tr>\n",
              "      <th>20701</th>\n",
              "      <td>it seems that the people behind envy realised ...</td>\n",
              "      <td>0</td>\n",
              "    </tr>\n",
              "    <tr>\n",
              "      <th>19632</th>\n",
              "      <td>this movie has two new features in relation to...</td>\n",
              "      <td>1</td>\n",
              "    </tr>\n",
              "    <tr>\n",
              "      <th>26542</th>\n",
              "      <td>it is really a shame that imdb doesn t let you...</td>\n",
              "      <td>0</td>\n",
              "    </tr>\n",
              "    <tr>\n",
              "      <th>27015</th>\n",
              "      <td>what does this movie have  lots of gunfire and...</td>\n",
              "      <td>0</td>\n",
              "    </tr>\n",
              "    <tr>\n",
              "      <th>30760</th>\n",
              "      <td>a small town schoolteacher  geena davis  slowl...</td>\n",
              "      <td>1</td>\n",
              "    </tr>\n",
              "  </tbody>\n",
              "</table>\n",
              "<p>10000 rows × 2 columns</p>\n",
              "</div>\n",
              "      <button class=\"colab-df-convert\" onclick=\"convertToInteractive('df-26c2c84e-6ca0-44c8-81a0-bb895563f1af')\"\n",
              "              title=\"Convert this dataframe to an interactive table.\"\n",
              "              style=\"display:none;\">\n",
              "        \n",
              "  <svg xmlns=\"http://www.w3.org/2000/svg\" height=\"24px\"viewBox=\"0 0 24 24\"\n",
              "       width=\"24px\">\n",
              "    <path d=\"M0 0h24v24H0V0z\" fill=\"none\"/>\n",
              "    <path d=\"M18.56 5.44l.94 2.06.94-2.06 2.06-.94-2.06-.94-.94-2.06-.94 2.06-2.06.94zm-11 1L8.5 8.5l.94-2.06 2.06-.94-2.06-.94L8.5 2.5l-.94 2.06-2.06.94zm10 10l.94 2.06.94-2.06 2.06-.94-2.06-.94-.94-2.06-.94 2.06-2.06.94z\"/><path d=\"M17.41 7.96l-1.37-1.37c-.4-.4-.92-.59-1.43-.59-.52 0-1.04.2-1.43.59L10.3 9.45l-7.72 7.72c-.78.78-.78 2.05 0 2.83L4 21.41c.39.39.9.59 1.41.59.51 0 1.02-.2 1.41-.59l7.78-7.78 2.81-2.81c.8-.78.8-2.07 0-2.86zM5.41 20L4 18.59l7.72-7.72 1.47 1.35L5.41 20z\"/>\n",
              "  </svg>\n",
              "      </button>\n",
              "      \n",
              "  <style>\n",
              "    .colab-df-container {\n",
              "      display:flex;\n",
              "      flex-wrap:wrap;\n",
              "      gap: 12px;\n",
              "    }\n",
              "\n",
              "    .colab-df-convert {\n",
              "      background-color: #E8F0FE;\n",
              "      border: none;\n",
              "      border-radius: 50%;\n",
              "      cursor: pointer;\n",
              "      display: none;\n",
              "      fill: #1967D2;\n",
              "      height: 32px;\n",
              "      padding: 0 0 0 0;\n",
              "      width: 32px;\n",
              "    }\n",
              "\n",
              "    .colab-df-convert:hover {\n",
              "      background-color: #E2EBFA;\n",
              "      box-shadow: 0px 1px 2px rgba(60, 64, 67, 0.3), 0px 1px 3px 1px rgba(60, 64, 67, 0.15);\n",
              "      fill: #174EA6;\n",
              "    }\n",
              "\n",
              "    [theme=dark] .colab-df-convert {\n",
              "      background-color: #3B4455;\n",
              "      fill: #D2E3FC;\n",
              "    }\n",
              "\n",
              "    [theme=dark] .colab-df-convert:hover {\n",
              "      background-color: #434B5C;\n",
              "      box-shadow: 0px 1px 3px 1px rgba(0, 0, 0, 0.15);\n",
              "      filter: drop-shadow(0px 1px 2px rgba(0, 0, 0, 0.3));\n",
              "      fill: #FFFFFF;\n",
              "    }\n",
              "  </style>\n",
              "\n",
              "      <script>\n",
              "        const buttonEl =\n",
              "          document.querySelector('#df-26c2c84e-6ca0-44c8-81a0-bb895563f1af button.colab-df-convert');\n",
              "        buttonEl.style.display =\n",
              "          google.colab.kernel.accessAllowed ? 'block' : 'none';\n",
              "\n",
              "        async function convertToInteractive(key) {\n",
              "          const element = document.querySelector('#df-26c2c84e-6ca0-44c8-81a0-bb895563f1af');\n",
              "          const dataTable =\n",
              "            await google.colab.kernel.invokeFunction('convertToInteractive',\n",
              "                                                     [key], {});\n",
              "          if (!dataTable) return;\n",
              "\n",
              "          const docLinkHtml = 'Like what you see? Visit the ' +\n",
              "            '<a target=\"_blank\" href=https://colab.research.google.com/notebooks/data_table.ipynb>data table notebook</a>'\n",
              "            + ' to learn more about interactive tables.';\n",
              "          element.innerHTML = '';\n",
              "          dataTable['output_type'] = 'display_data';\n",
              "          await google.colab.output.renderOutput(dataTable, element);\n",
              "          const docLink = document.createElement('div');\n",
              "          docLink.innerHTML = docLinkHtml;\n",
              "          element.appendChild(docLink);\n",
              "        }\n",
              "      </script>\n",
              "    </div>\n",
              "  </div>\n",
              "  "
            ]
          },
          "metadata": {},
          "execution_count": 20
        }
      ],
      "source": [
        "df"
      ]
    },
    {
      "cell_type": "code",
      "execution_count": null,
      "id": "42df2ef5",
      "metadata": {
        "execution": {
          "iopub.execute_input": "2022-09-15T06:55:44.597727Z",
          "iopub.status.busy": "2022-09-15T06:55:44.596989Z",
          "iopub.status.idle": "2022-09-15T06:55:44.602430Z",
          "shell.execute_reply": "2022-09-15T06:55:44.601548Z"
        },
        "papermill": {
          "duration": 0.024384,
          "end_time": "2022-09-15T06:55:44.604811",
          "exception": false,
          "start_time": "2022-09-15T06:55:44.580427",
          "status": "completed"
        },
        "tags": [],
        "id": "42df2ef5"
      },
      "outputs": [],
      "source": [
        "def remove_stopwords(text):\n",
        "    x=[]\n",
        "    for i in text.split():\n",
        "        \n",
        "        if i not in stopwords.words('english'):\n",
        "            x.append(i)\n",
        "    y=x[:]\n",
        "    x.clear()\n",
        "    return y"
      ]
    },
    {
      "cell_type": "code",
      "execution_count": null,
      "id": "a0fad21b",
      "metadata": {
        "execution": {
          "iopub.execute_input": "2022-09-15T06:55:44.636649Z",
          "iopub.status.busy": "2022-09-15T06:55:44.635852Z",
          "iopub.status.idle": "2022-09-15T07:01:20.894284Z",
          "shell.execute_reply": "2022-09-15T07:01:20.892085Z"
        },
        "papermill": {
          "duration": 336.278668,
          "end_time": "2022-09-15T07:01:20.898087",
          "exception": false,
          "start_time": "2022-09-15T06:55:44.619419",
          "status": "completed"
        },
        "tags": [],
        "id": "a0fad21b"
      },
      "outputs": [],
      "source": [
        "df['review']=df['review'].apply(remove_stopwords)"
      ]
    },
    {
      "cell_type": "code",
      "execution_count": null,
      "id": "0e1205b0",
      "metadata": {
        "execution": {
          "iopub.execute_input": "2022-09-15T07:01:20.931446Z",
          "iopub.status.busy": "2022-09-15T07:01:20.930612Z",
          "iopub.status.idle": "2022-09-15T07:01:20.952993Z",
          "shell.execute_reply": "2022-09-15T07:01:20.951006Z"
        },
        "papermill": {
          "duration": 0.042296,
          "end_time": "2022-09-15T07:01:20.955640",
          "exception": false,
          "start_time": "2022-09-15T07:01:20.913344",
          "status": "completed"
        },
        "tags": [],
        "id": "0e1205b0",
        "colab": {
          "base_uri": "https://localhost:8080/",
          "height": 424
        },
        "outputId": "ae266956-f13e-486c-c2ac-19a3e25a19a7"
      },
      "outputs": [
        {
          "output_type": "execute_result",
          "data": {
            "text/plain": [
              "                                                  review  sentiment\n",
              "5406   [went, see, movie, bunch, friends, one, night,...          1\n",
              "37376  [saw, myra, breckinridge, first, came, 1970, h...          0\n",
              "13698  [looking, forward, seeing, amanda, peet, anoth...          0\n",
              "31357  [spoilers, plot, details, understand, hatred, ...          1\n",
              "26440  [decoteau, one, worst, directors, working, tod...          0\n",
              "...                                                  ...        ...\n",
              "20701  [seems, people, behind, envy, realised, recent...          0\n",
              "19632  [movie, two, new, features, relation, message,...          1\n",
              "26542  [really, shame, imdb, let, give, negative, vot...          0\n",
              "27015  [movie, lots, gunfire, expensive, effects, not...          0\n",
              "30760  [small, town, schoolteacher, geena, davis, slo...          1\n",
              "\n",
              "[10000 rows x 2 columns]"
            ],
            "text/html": [
              "\n",
              "  <div id=\"df-4d23c25c-5032-44fe-8e8b-5a533c1d44a3\">\n",
              "    <div class=\"colab-df-container\">\n",
              "      <div>\n",
              "<style scoped>\n",
              "    .dataframe tbody tr th:only-of-type {\n",
              "        vertical-align: middle;\n",
              "    }\n",
              "\n",
              "    .dataframe tbody tr th {\n",
              "        vertical-align: top;\n",
              "    }\n",
              "\n",
              "    .dataframe thead th {\n",
              "        text-align: right;\n",
              "    }\n",
              "</style>\n",
              "<table border=\"1\" class=\"dataframe\">\n",
              "  <thead>\n",
              "    <tr style=\"text-align: right;\">\n",
              "      <th></th>\n",
              "      <th>review</th>\n",
              "      <th>sentiment</th>\n",
              "    </tr>\n",
              "  </thead>\n",
              "  <tbody>\n",
              "    <tr>\n",
              "      <th>5406</th>\n",
              "      <td>[went, see, movie, bunch, friends, one, night,...</td>\n",
              "      <td>1</td>\n",
              "    </tr>\n",
              "    <tr>\n",
              "      <th>37376</th>\n",
              "      <td>[saw, myra, breckinridge, first, came, 1970, h...</td>\n",
              "      <td>0</td>\n",
              "    </tr>\n",
              "    <tr>\n",
              "      <th>13698</th>\n",
              "      <td>[looking, forward, seeing, amanda, peet, anoth...</td>\n",
              "      <td>0</td>\n",
              "    </tr>\n",
              "    <tr>\n",
              "      <th>31357</th>\n",
              "      <td>[spoilers, plot, details, understand, hatred, ...</td>\n",
              "      <td>1</td>\n",
              "    </tr>\n",
              "    <tr>\n",
              "      <th>26440</th>\n",
              "      <td>[decoteau, one, worst, directors, working, tod...</td>\n",
              "      <td>0</td>\n",
              "    </tr>\n",
              "    <tr>\n",
              "      <th>...</th>\n",
              "      <td>...</td>\n",
              "      <td>...</td>\n",
              "    </tr>\n",
              "    <tr>\n",
              "      <th>20701</th>\n",
              "      <td>[seems, people, behind, envy, realised, recent...</td>\n",
              "      <td>0</td>\n",
              "    </tr>\n",
              "    <tr>\n",
              "      <th>19632</th>\n",
              "      <td>[movie, two, new, features, relation, message,...</td>\n",
              "      <td>1</td>\n",
              "    </tr>\n",
              "    <tr>\n",
              "      <th>26542</th>\n",
              "      <td>[really, shame, imdb, let, give, negative, vot...</td>\n",
              "      <td>0</td>\n",
              "    </tr>\n",
              "    <tr>\n",
              "      <th>27015</th>\n",
              "      <td>[movie, lots, gunfire, expensive, effects, not...</td>\n",
              "      <td>0</td>\n",
              "    </tr>\n",
              "    <tr>\n",
              "      <th>30760</th>\n",
              "      <td>[small, town, schoolteacher, geena, davis, slo...</td>\n",
              "      <td>1</td>\n",
              "    </tr>\n",
              "  </tbody>\n",
              "</table>\n",
              "<p>10000 rows × 2 columns</p>\n",
              "</div>\n",
              "      <button class=\"colab-df-convert\" onclick=\"convertToInteractive('df-4d23c25c-5032-44fe-8e8b-5a533c1d44a3')\"\n",
              "              title=\"Convert this dataframe to an interactive table.\"\n",
              "              style=\"display:none;\">\n",
              "        \n",
              "  <svg xmlns=\"http://www.w3.org/2000/svg\" height=\"24px\"viewBox=\"0 0 24 24\"\n",
              "       width=\"24px\">\n",
              "    <path d=\"M0 0h24v24H0V0z\" fill=\"none\"/>\n",
              "    <path d=\"M18.56 5.44l.94 2.06.94-2.06 2.06-.94-2.06-.94-.94-2.06-.94 2.06-2.06.94zm-11 1L8.5 8.5l.94-2.06 2.06-.94-2.06-.94L8.5 2.5l-.94 2.06-2.06.94zm10 10l.94 2.06.94-2.06 2.06-.94-2.06-.94-.94-2.06-.94 2.06-2.06.94z\"/><path d=\"M17.41 7.96l-1.37-1.37c-.4-.4-.92-.59-1.43-.59-.52 0-1.04.2-1.43.59L10.3 9.45l-7.72 7.72c-.78.78-.78 2.05 0 2.83L4 21.41c.39.39.9.59 1.41.59.51 0 1.02-.2 1.41-.59l7.78-7.78 2.81-2.81c.8-.78.8-2.07 0-2.86zM5.41 20L4 18.59l7.72-7.72 1.47 1.35L5.41 20z\"/>\n",
              "  </svg>\n",
              "      </button>\n",
              "      \n",
              "  <style>\n",
              "    .colab-df-container {\n",
              "      display:flex;\n",
              "      flex-wrap:wrap;\n",
              "      gap: 12px;\n",
              "    }\n",
              "\n",
              "    .colab-df-convert {\n",
              "      background-color: #E8F0FE;\n",
              "      border: none;\n",
              "      border-radius: 50%;\n",
              "      cursor: pointer;\n",
              "      display: none;\n",
              "      fill: #1967D2;\n",
              "      height: 32px;\n",
              "      padding: 0 0 0 0;\n",
              "      width: 32px;\n",
              "    }\n",
              "\n",
              "    .colab-df-convert:hover {\n",
              "      background-color: #E2EBFA;\n",
              "      box-shadow: 0px 1px 2px rgba(60, 64, 67, 0.3), 0px 1px 3px 1px rgba(60, 64, 67, 0.15);\n",
              "      fill: #174EA6;\n",
              "    }\n",
              "\n",
              "    [theme=dark] .colab-df-convert {\n",
              "      background-color: #3B4455;\n",
              "      fill: #D2E3FC;\n",
              "    }\n",
              "\n",
              "    [theme=dark] .colab-df-convert:hover {\n",
              "      background-color: #434B5C;\n",
              "      box-shadow: 0px 1px 3px 1px rgba(0, 0, 0, 0.15);\n",
              "      filter: drop-shadow(0px 1px 2px rgba(0, 0, 0, 0.3));\n",
              "      fill: #FFFFFF;\n",
              "    }\n",
              "  </style>\n",
              "\n",
              "      <script>\n",
              "        const buttonEl =\n",
              "          document.querySelector('#df-4d23c25c-5032-44fe-8e8b-5a533c1d44a3 button.colab-df-convert');\n",
              "        buttonEl.style.display =\n",
              "          google.colab.kernel.accessAllowed ? 'block' : 'none';\n",
              "\n",
              "        async function convertToInteractive(key) {\n",
              "          const element = document.querySelector('#df-4d23c25c-5032-44fe-8e8b-5a533c1d44a3');\n",
              "          const dataTable =\n",
              "            await google.colab.kernel.invokeFunction('convertToInteractive',\n",
              "                                                     [key], {});\n",
              "          if (!dataTable) return;\n",
              "\n",
              "          const docLinkHtml = 'Like what you see? Visit the ' +\n",
              "            '<a target=\"_blank\" href=https://colab.research.google.com/notebooks/data_table.ipynb>data table notebook</a>'\n",
              "            + ' to learn more about interactive tables.';\n",
              "          element.innerHTML = '';\n",
              "          dataTable['output_type'] = 'display_data';\n",
              "          await google.colab.output.renderOutput(dataTable, element);\n",
              "          const docLink = document.createElement('div');\n",
              "          docLink.innerHTML = docLinkHtml;\n",
              "          element.appendChild(docLink);\n",
              "        }\n",
              "      </script>\n",
              "    </div>\n",
              "  </div>\n",
              "  "
            ]
          },
          "metadata": {},
          "execution_count": 23
        }
      ],
      "source": [
        "df"
      ]
    },
    {
      "cell_type": "code",
      "execution_count": null,
      "id": "8480b8da",
      "metadata": {
        "execution": {
          "iopub.execute_input": "2022-09-15T07:01:20.989173Z",
          "iopub.status.busy": "2022-09-15T07:01:20.988184Z",
          "iopub.status.idle": "2022-09-15T07:01:20.993935Z",
          "shell.execute_reply": "2022-09-15T07:01:20.992695Z"
        },
        "papermill": {
          "duration": 0.026085,
          "end_time": "2022-09-15T07:01:20.996735",
          "exception": false,
          "start_time": "2022-09-15T07:01:20.970650",
          "status": "completed"
        },
        "tags": [],
        "id": "8480b8da"
      },
      "outputs": [],
      "source": [
        "# Perform stemming\n",
        "\n",
        "from nltk.stem.porter import PorterStemmer\n",
        "ps=PorterStemmer()"
      ]
    },
    {
      "cell_type": "code",
      "execution_count": null,
      "id": "4d362fc9",
      "metadata": {
        "execution": {
          "iopub.execute_input": "2022-09-15T07:01:21.029382Z",
          "iopub.status.busy": "2022-09-15T07:01:21.028633Z",
          "iopub.status.idle": "2022-09-15T07:01:21.035165Z",
          "shell.execute_reply": "2022-09-15T07:01:21.033875Z"
        },
        "papermill": {
          "duration": 0.027127,
          "end_time": "2022-09-15T07:01:21.038804",
          "exception": false,
          "start_time": "2022-09-15T07:01:21.011677",
          "status": "completed"
        },
        "tags": [],
        "id": "4d362fc9"
      },
      "outputs": [],
      "source": [
        "y=[]\n",
        "def stem_words(text):\n",
        "    for i in text:\n",
        "        y.append(ps.stem(i))\n",
        "    z=y[:]\n",
        "    y.clear()\n",
        "    return z"
      ]
    },
    {
      "cell_type": "code",
      "execution_count": null,
      "id": "9f526e69",
      "metadata": {
        "execution": {
          "iopub.execute_input": "2022-09-15T07:01:21.071277Z",
          "iopub.status.busy": "2022-09-15T07:01:21.070853Z",
          "iopub.status.idle": "2022-09-15T07:01:21.078755Z",
          "shell.execute_reply": "2022-09-15T07:01:21.077549Z"
        },
        "papermill": {
          "duration": 0.027508,
          "end_time": "2022-09-15T07:01:21.082087",
          "exception": false,
          "start_time": "2022-09-15T07:01:21.054579",
          "status": "completed"
        },
        "tags": [],
        "id": "9f526e69",
        "colab": {
          "base_uri": "https://localhost:8080/"
        },
        "outputId": "a723f6a3-b1d0-420b-ca1f-79e06fa0f711"
      },
      "outputs": [
        {
          "output_type": "execute_result",
          "data": {
            "text/plain": [
              "['i', 'love', 'love', 'it']"
            ]
          },
          "metadata": {},
          "execution_count": 26
        }
      ],
      "source": [
        "stem_words(['I','loved','loving','it'])"
      ]
    },
    {
      "cell_type": "code",
      "execution_count": null,
      "id": "bd3ea750",
      "metadata": {
        "execution": {
          "iopub.execute_input": "2022-09-15T07:01:21.114550Z",
          "iopub.status.busy": "2022-09-15T07:01:21.114107Z",
          "iopub.status.idle": "2022-09-15T07:01:55.324140Z",
          "shell.execute_reply": "2022-09-15T07:01:55.322819Z"
        },
        "papermill": {
          "duration": 34.229621,
          "end_time": "2022-09-15T07:01:55.327409",
          "exception": false,
          "start_time": "2022-09-15T07:01:21.097788",
          "status": "completed"
        },
        "tags": [],
        "id": "bd3ea750"
      },
      "outputs": [],
      "source": [
        "df['review']=df['review'].apply(stem_words)"
      ]
    },
    {
      "cell_type": "code",
      "execution_count": null,
      "id": "b85d48e7",
      "metadata": {
        "execution": {
          "iopub.execute_input": "2022-09-15T07:01:55.360638Z",
          "iopub.status.busy": "2022-09-15T07:01:55.360194Z",
          "iopub.status.idle": "2022-09-15T07:01:55.382512Z",
          "shell.execute_reply": "2022-09-15T07:01:55.381559Z"
        },
        "papermill": {
          "duration": 0.041346,
          "end_time": "2022-09-15T07:01:55.384771",
          "exception": false,
          "start_time": "2022-09-15T07:01:55.343425",
          "status": "completed"
        },
        "tags": [],
        "id": "b85d48e7",
        "colab": {
          "base_uri": "https://localhost:8080/",
          "height": 424
        },
        "outputId": "2ec47165-315a-493f-b980-565d46bdfec7"
      },
      "outputs": [
        {
          "output_type": "execute_result",
          "data": {
            "text/plain": [
              "                                                  review  sentiment\n",
              "5406   [went, see, movi, bunch, friend, one, night, r...          1\n",
              "37376  [saw, myra, breckinridg, first, came, 1970, he...          0\n",
              "13698  [look, forward, see, amanda, peet, anoth, good...          0\n",
              "31357  [spoiler, plot, detail, understand, hatr, epis...          1\n",
              "26440  [decoteau, one, worst, director, work, today, ...          0\n",
              "...                                                  ...        ...\n",
              "20701  [seem, peopl, behind, envi, realis, recent, co...          0\n",
              "19632  [movi, two, new, featur, relat, messag, convey...          1\n",
              "26542  [realli, shame, imdb, let, give, neg, vote, hi...          0\n",
              "27015  [movi, lot, gunfir, expens, effect, noth, make...          0\n",
              "30760  [small, town, schoolteach, geena, davi, slowli...          1\n",
              "\n",
              "[10000 rows x 2 columns]"
            ],
            "text/html": [
              "\n",
              "  <div id=\"df-ae4e199f-ce74-4966-b305-540c8b9123f6\">\n",
              "    <div class=\"colab-df-container\">\n",
              "      <div>\n",
              "<style scoped>\n",
              "    .dataframe tbody tr th:only-of-type {\n",
              "        vertical-align: middle;\n",
              "    }\n",
              "\n",
              "    .dataframe tbody tr th {\n",
              "        vertical-align: top;\n",
              "    }\n",
              "\n",
              "    .dataframe thead th {\n",
              "        text-align: right;\n",
              "    }\n",
              "</style>\n",
              "<table border=\"1\" class=\"dataframe\">\n",
              "  <thead>\n",
              "    <tr style=\"text-align: right;\">\n",
              "      <th></th>\n",
              "      <th>review</th>\n",
              "      <th>sentiment</th>\n",
              "    </tr>\n",
              "  </thead>\n",
              "  <tbody>\n",
              "    <tr>\n",
              "      <th>5406</th>\n",
              "      <td>[went, see, movi, bunch, friend, one, night, r...</td>\n",
              "      <td>1</td>\n",
              "    </tr>\n",
              "    <tr>\n",
              "      <th>37376</th>\n",
              "      <td>[saw, myra, breckinridg, first, came, 1970, he...</td>\n",
              "      <td>0</td>\n",
              "    </tr>\n",
              "    <tr>\n",
              "      <th>13698</th>\n",
              "      <td>[look, forward, see, amanda, peet, anoth, good...</td>\n",
              "      <td>0</td>\n",
              "    </tr>\n",
              "    <tr>\n",
              "      <th>31357</th>\n",
              "      <td>[spoiler, plot, detail, understand, hatr, epis...</td>\n",
              "      <td>1</td>\n",
              "    </tr>\n",
              "    <tr>\n",
              "      <th>26440</th>\n",
              "      <td>[decoteau, one, worst, director, work, today, ...</td>\n",
              "      <td>0</td>\n",
              "    </tr>\n",
              "    <tr>\n",
              "      <th>...</th>\n",
              "      <td>...</td>\n",
              "      <td>...</td>\n",
              "    </tr>\n",
              "    <tr>\n",
              "      <th>20701</th>\n",
              "      <td>[seem, peopl, behind, envi, realis, recent, co...</td>\n",
              "      <td>0</td>\n",
              "    </tr>\n",
              "    <tr>\n",
              "      <th>19632</th>\n",
              "      <td>[movi, two, new, featur, relat, messag, convey...</td>\n",
              "      <td>1</td>\n",
              "    </tr>\n",
              "    <tr>\n",
              "      <th>26542</th>\n",
              "      <td>[realli, shame, imdb, let, give, neg, vote, hi...</td>\n",
              "      <td>0</td>\n",
              "    </tr>\n",
              "    <tr>\n",
              "      <th>27015</th>\n",
              "      <td>[movi, lot, gunfir, expens, effect, noth, make...</td>\n",
              "      <td>0</td>\n",
              "    </tr>\n",
              "    <tr>\n",
              "      <th>30760</th>\n",
              "      <td>[small, town, schoolteach, geena, davi, slowli...</td>\n",
              "      <td>1</td>\n",
              "    </tr>\n",
              "  </tbody>\n",
              "</table>\n",
              "<p>10000 rows × 2 columns</p>\n",
              "</div>\n",
              "      <button class=\"colab-df-convert\" onclick=\"convertToInteractive('df-ae4e199f-ce74-4966-b305-540c8b9123f6')\"\n",
              "              title=\"Convert this dataframe to an interactive table.\"\n",
              "              style=\"display:none;\">\n",
              "        \n",
              "  <svg xmlns=\"http://www.w3.org/2000/svg\" height=\"24px\"viewBox=\"0 0 24 24\"\n",
              "       width=\"24px\">\n",
              "    <path d=\"M0 0h24v24H0V0z\" fill=\"none\"/>\n",
              "    <path d=\"M18.56 5.44l.94 2.06.94-2.06 2.06-.94-2.06-.94-.94-2.06-.94 2.06-2.06.94zm-11 1L8.5 8.5l.94-2.06 2.06-.94-2.06-.94L8.5 2.5l-.94 2.06-2.06.94zm10 10l.94 2.06.94-2.06 2.06-.94-2.06-.94-.94-2.06-.94 2.06-2.06.94z\"/><path d=\"M17.41 7.96l-1.37-1.37c-.4-.4-.92-.59-1.43-.59-.52 0-1.04.2-1.43.59L10.3 9.45l-7.72 7.72c-.78.78-.78 2.05 0 2.83L4 21.41c.39.39.9.59 1.41.59.51 0 1.02-.2 1.41-.59l7.78-7.78 2.81-2.81c.8-.78.8-2.07 0-2.86zM5.41 20L4 18.59l7.72-7.72 1.47 1.35L5.41 20z\"/>\n",
              "  </svg>\n",
              "      </button>\n",
              "      \n",
              "  <style>\n",
              "    .colab-df-container {\n",
              "      display:flex;\n",
              "      flex-wrap:wrap;\n",
              "      gap: 12px;\n",
              "    }\n",
              "\n",
              "    .colab-df-convert {\n",
              "      background-color: #E8F0FE;\n",
              "      border: none;\n",
              "      border-radius: 50%;\n",
              "      cursor: pointer;\n",
              "      display: none;\n",
              "      fill: #1967D2;\n",
              "      height: 32px;\n",
              "      padding: 0 0 0 0;\n",
              "      width: 32px;\n",
              "    }\n",
              "\n",
              "    .colab-df-convert:hover {\n",
              "      background-color: #E2EBFA;\n",
              "      box-shadow: 0px 1px 2px rgba(60, 64, 67, 0.3), 0px 1px 3px 1px rgba(60, 64, 67, 0.15);\n",
              "      fill: #174EA6;\n",
              "    }\n",
              "\n",
              "    [theme=dark] .colab-df-convert {\n",
              "      background-color: #3B4455;\n",
              "      fill: #D2E3FC;\n",
              "    }\n",
              "\n",
              "    [theme=dark] .colab-df-convert:hover {\n",
              "      background-color: #434B5C;\n",
              "      box-shadow: 0px 1px 3px 1px rgba(0, 0, 0, 0.15);\n",
              "      filter: drop-shadow(0px 1px 2px rgba(0, 0, 0, 0.3));\n",
              "      fill: #FFFFFF;\n",
              "    }\n",
              "  </style>\n",
              "\n",
              "      <script>\n",
              "        const buttonEl =\n",
              "          document.querySelector('#df-ae4e199f-ce74-4966-b305-540c8b9123f6 button.colab-df-convert');\n",
              "        buttonEl.style.display =\n",
              "          google.colab.kernel.accessAllowed ? 'block' : 'none';\n",
              "\n",
              "        async function convertToInteractive(key) {\n",
              "          const element = document.querySelector('#df-ae4e199f-ce74-4966-b305-540c8b9123f6');\n",
              "          const dataTable =\n",
              "            await google.colab.kernel.invokeFunction('convertToInteractive',\n",
              "                                                     [key], {});\n",
              "          if (!dataTable) return;\n",
              "\n",
              "          const docLinkHtml = 'Like what you see? Visit the ' +\n",
              "            '<a target=\"_blank\" href=https://colab.research.google.com/notebooks/data_table.ipynb>data table notebook</a>'\n",
              "            + ' to learn more about interactive tables.';\n",
              "          element.innerHTML = '';\n",
              "          dataTable['output_type'] = 'display_data';\n",
              "          await google.colab.output.renderOutput(dataTable, element);\n",
              "          const docLink = document.createElement('div');\n",
              "          docLink.innerHTML = docLinkHtml;\n",
              "          element.appendChild(docLink);\n",
              "        }\n",
              "      </script>\n",
              "    </div>\n",
              "  </div>\n",
              "  "
            ]
          },
          "metadata": {},
          "execution_count": 28
        }
      ],
      "source": [
        "df"
      ]
    },
    {
      "cell_type": "code",
      "execution_count": null,
      "id": "5165e2f2",
      "metadata": {
        "execution": {
          "iopub.execute_input": "2022-09-15T07:01:55.417688Z",
          "iopub.status.busy": "2022-09-15T07:01:55.416930Z",
          "iopub.status.idle": "2022-09-15T07:01:55.421854Z",
          "shell.execute_reply": "2022-09-15T07:01:55.420776Z"
        },
        "papermill": {
          "duration": 0.024239,
          "end_time": "2022-09-15T07:01:55.424394",
          "exception": false,
          "start_time": "2022-09-15T07:01:55.400155",
          "status": "completed"
        },
        "tags": [],
        "id": "5165e2f2"
      },
      "outputs": [],
      "source": [
        "# Join back\n",
        "\n",
        "def join_back(list_input):\n",
        "    return \" \".join(list_input)"
      ]
    },
    {
      "cell_type": "code",
      "execution_count": null,
      "id": "1299cd34",
      "metadata": {
        "execution": {
          "iopub.execute_input": "2022-09-15T07:01:55.459028Z",
          "iopub.status.busy": "2022-09-15T07:01:55.458634Z",
          "iopub.status.idle": "2022-09-15T07:01:55.534954Z",
          "shell.execute_reply": "2022-09-15T07:01:55.533883Z"
        },
        "papermill": {
          "duration": 0.096087,
          "end_time": "2022-09-15T07:01:55.537744",
          "exception": false,
          "start_time": "2022-09-15T07:01:55.441657",
          "status": "completed"
        },
        "tags": [],
        "id": "1299cd34"
      },
      "outputs": [],
      "source": [
        "df['review']=df['review'].apply(join_back)"
      ]
    },
    {
      "cell_type": "code",
      "execution_count": null,
      "id": "282d19eb",
      "metadata": {
        "execution": {
          "iopub.execute_input": "2022-09-15T07:01:55.571707Z",
          "iopub.status.busy": "2022-09-15T07:01:55.571282Z",
          "iopub.status.idle": "2022-09-15T07:01:55.580828Z",
          "shell.execute_reply": "2022-09-15T07:01:55.579575Z"
        },
        "papermill": {
          "duration": 0.028582,
          "end_time": "2022-09-15T07:01:55.583245",
          "exception": false,
          "start_time": "2022-09-15T07:01:55.554663",
          "status": "completed"
        },
        "tags": [],
        "id": "282d19eb",
        "colab": {
          "base_uri": "https://localhost:8080/"
        },
        "outputId": "4146de90-8249-4d05-f679-3da1ce35b3e7"
      },
      "outputs": [
        {
          "output_type": "execute_result",
          "data": {
            "text/plain": [
              "5406     went see movi bunch friend one night realli he...\n",
              "37376    saw myra breckinridg first came 1970 healthi 2...\n",
              "13698    look forward see amanda peet anoth good role r...\n",
              "31357    spoiler plot detail understand hatr episod wan...\n",
              "26440    decoteau one worst director work today genr no...\n",
              "                               ...                        \n",
              "20701    seem peopl behind envi realis recent comedi es...\n",
              "19632    movi two new featur relat messag convey equal ...\n",
              "26542    realli shame imdb let give neg vote hideous aw...\n",
              "27015    movi lot gunfir expens effect noth make sens l...\n",
              "30760    small town schoolteach geena davi slowli begin...\n",
              "Name: review, Length: 10000, dtype: object"
            ]
          },
          "metadata": {},
          "execution_count": 31
        }
      ],
      "source": [
        "df['review']"
      ]
    },
    {
      "cell_type": "code",
      "execution_count": null,
      "id": "84057f53",
      "metadata": {
        "execution": {
          "iopub.execute_input": "2022-09-15T07:01:55.615454Z",
          "iopub.status.busy": "2022-09-15T07:01:55.615061Z",
          "iopub.status.idle": "2022-09-15T07:01:55.621934Z",
          "shell.execute_reply": "2022-09-15T07:01:55.620437Z"
        },
        "papermill": {
          "duration": 0.027037,
          "end_time": "2022-09-15T07:01:55.625654",
          "exception": false,
          "start_time": "2022-09-15T07:01:55.598617",
          "status": "completed"
        },
        "tags": [],
        "id": "84057f53"
      },
      "outputs": [],
      "source": [
        "X=df.iloc[:,0:1].values"
      ]
    },
    {
      "cell_type": "code",
      "execution_count": null,
      "id": "d553c5ed",
      "metadata": {
        "execution": {
          "iopub.execute_input": "2022-09-15T07:01:55.660857Z",
          "iopub.status.busy": "2022-09-15T07:01:55.660397Z",
          "iopub.status.idle": "2022-09-15T07:01:55.668371Z",
          "shell.execute_reply": "2022-09-15T07:01:55.667161Z"
        },
        "papermill": {
          "duration": 0.028276,
          "end_time": "2022-09-15T07:01:55.670825",
          "exception": false,
          "start_time": "2022-09-15T07:01:55.642549",
          "status": "completed"
        },
        "tags": [],
        "id": "d553c5ed",
        "colab": {
          "base_uri": "https://localhost:8080/"
        },
        "outputId": "ace777a1-f0cc-4432-90e2-4ff126325174"
      },
      "outputs": [
        {
          "output_type": "execute_result",
          "data": {
            "text/plain": [
              "(10000, 1)"
            ]
          },
          "metadata": {},
          "execution_count": 33
        }
      ],
      "source": [
        "X.shape"
      ]
    },
    {
      "cell_type": "code",
      "execution_count": null,
      "id": "5d66d558",
      "metadata": {
        "execution": {
          "iopub.execute_input": "2022-09-15T07:01:55.703922Z",
          "iopub.status.busy": "2022-09-15T07:01:55.703519Z",
          "iopub.status.idle": "2022-09-15T07:01:55.708693Z",
          "shell.execute_reply": "2022-09-15T07:01:55.707420Z"
        },
        "papermill": {
          "duration": 0.025113,
          "end_time": "2022-09-15T07:01:55.711473",
          "exception": false,
          "start_time": "2022-09-15T07:01:55.686360",
          "status": "completed"
        },
        "tags": [],
        "id": "5d66d558"
      },
      "outputs": [],
      "source": [
        "from sklearn.feature_extraction.text import CountVectorizer\n",
        "cv=CountVectorizer(max_features=1000)"
      ]
    },
    {
      "cell_type": "code",
      "execution_count": null,
      "id": "6da1c0d0",
      "metadata": {
        "execution": {
          "iopub.execute_input": "2022-09-15T07:01:55.744959Z",
          "iopub.status.busy": "2022-09-15T07:01:55.744567Z",
          "iopub.status.idle": "2022-09-15T07:01:56.897159Z",
          "shell.execute_reply": "2022-09-15T07:01:56.895990Z"
        },
        "papermill": {
          "duration": 1.172924,
          "end_time": "2022-09-15T07:01:56.900513",
          "exception": false,
          "start_time": "2022-09-15T07:01:55.727589",
          "status": "completed"
        },
        "tags": [],
        "id": "6da1c0d0"
      },
      "outputs": [],
      "source": [
        "X=cv.fit_transform(df['review']).toarray()"
      ]
    },
    {
      "cell_type": "code",
      "execution_count": null,
      "id": "66dbae96",
      "metadata": {
        "execution": {
          "iopub.execute_input": "2022-09-15T07:01:56.933882Z",
          "iopub.status.busy": "2022-09-15T07:01:56.933458Z",
          "iopub.status.idle": "2022-09-15T07:01:56.940202Z",
          "shell.execute_reply": "2022-09-15T07:01:56.939054Z"
        },
        "papermill": {
          "duration": 0.026156,
          "end_time": "2022-09-15T07:01:56.942966",
          "exception": false,
          "start_time": "2022-09-15T07:01:56.916810",
          "status": "completed"
        },
        "tags": [],
        "id": "66dbae96",
        "colab": {
          "base_uri": "https://localhost:8080/"
        },
        "outputId": "412b79c0-ff59-4a70-f241-da021c6ddda6"
      },
      "outputs": [
        {
          "output_type": "execute_result",
          "data": {
            "text/plain": [
              "(10000, 1000)"
            ]
          },
          "metadata": {},
          "execution_count": 36
        }
      ],
      "source": [
        "X.shape"
      ]
    },
    {
      "cell_type": "code",
      "execution_count": null,
      "id": "f27c80a0",
      "metadata": {
        "execution": {
          "iopub.execute_input": "2022-09-15T07:01:56.976405Z",
          "iopub.status.busy": "2022-09-15T07:01:56.975978Z",
          "iopub.status.idle": "2022-09-15T07:01:56.981713Z",
          "shell.execute_reply": "2022-09-15T07:01:56.980533Z"
        },
        "papermill": {
          "duration": 0.024875,
          "end_time": "2022-09-15T07:01:56.983916",
          "exception": false,
          "start_time": "2022-09-15T07:01:56.959041",
          "status": "completed"
        },
        "tags": [],
        "id": "f27c80a0"
      },
      "outputs": [],
      "source": [
        "y=df.iloc[:,-1].values"
      ]
    },
    {
      "cell_type": "code",
      "execution_count": null,
      "id": "18cb3ba1",
      "metadata": {
        "execution": {
          "iopub.execute_input": "2022-09-15T07:01:57.018071Z",
          "iopub.status.busy": "2022-09-15T07:01:57.016084Z",
          "iopub.status.idle": "2022-09-15T07:01:57.028651Z",
          "shell.execute_reply": "2022-09-15T07:01:57.027243Z"
        },
        "papermill": {
          "duration": 0.031887,
          "end_time": "2022-09-15T07:01:57.031401",
          "exception": false,
          "start_time": "2022-09-15T07:01:56.999514",
          "status": "completed"
        },
        "tags": [],
        "id": "18cb3ba1",
        "colab": {
          "base_uri": "https://localhost:8080/"
        },
        "outputId": "6e61dcb3-1892-4e87-f1d4-49ded3893773"
      },
      "outputs": [
        {
          "output_type": "execute_result",
          "data": {
            "text/plain": [
              "array([0, 0, 0, 0, 0, 0, 0, 0, 0, 0, 0, 0, 0, 0, 0, 1, 0, 0, 0, 0, 0, 0,\n",
              "       0, 0, 0, 0, 0, 0, 0, 0, 0, 0, 0, 0, 0, 0, 0, 0, 0, 0, 0, 0, 0, 0,\n",
              "       0, 0, 0, 0, 1, 0, 0, 0, 1, 0, 0, 0, 0, 0, 0, 0, 0, 0, 0, 0, 0, 0,\n",
              "       0, 0, 0, 0, 0, 0, 0, 0, 0, 0, 0, 0, 0, 0, 0, 0, 0, 0, 0, 0, 0, 0,\n",
              "       0, 0, 0, 0, 0, 0, 0, 0, 0, 0, 0, 0, 0, 0, 0, 0, 0, 0, 0, 0, 0, 0,\n",
              "       0, 0, 0, 0, 0, 1, 0, 0, 0, 1, 0, 0, 0, 0, 0, 0, 0, 0, 0, 3, 0, 0,\n",
              "       0, 0, 0, 1, 0, 0, 0, 0, 0, 0, 0, 0, 0, 0, 0, 0, 0, 0, 0, 0, 0, 0,\n",
              "       0, 0, 0, 0, 0, 0, 0, 0, 0, 0, 0, 0, 0, 0, 0, 0, 0, 0, 0, 0, 0, 0,\n",
              "       0, 0, 0, 0, 0, 0, 0, 0, 0, 0, 0, 0, 0, 0, 0, 0, 0, 0, 0, 0, 1, 0,\n",
              "       0, 0, 0, 0, 0, 0, 0, 0, 0, 0, 0, 0, 0, 0, 0, 0, 0, 0, 0, 0, 0, 0,\n",
              "       0, 0, 0, 0, 0, 0, 0, 0, 0, 0, 0, 0, 0, 0, 0, 0, 0, 0, 0, 0, 0, 0,\n",
              "       0, 0, 0, 0, 0, 0, 0, 0, 0, 0, 0, 0, 0, 0, 0, 0, 0, 0, 0, 0, 0, 1,\n",
              "       0, 0, 0, 0, 0, 0, 0, 0, 0, 0, 0, 0, 0, 0, 0, 0, 0, 0, 1, 0, 0, 0,\n",
              "       0, 0, 0, 0, 0, 0, 0, 0, 0, 0, 0, 0, 0, 0, 1, 0, 0, 0, 0, 0, 0, 0,\n",
              "       0, 0, 1, 0, 0, 0, 0, 0, 0, 0, 0, 0, 0, 0, 0, 0, 0, 0, 0, 0, 0, 0,\n",
              "       1, 0, 0, 0, 0, 0, 0, 0, 0, 0, 0, 0, 0, 0, 0, 0, 0, 0, 0, 0, 0, 0,\n",
              "       0, 0, 1, 0, 0, 0, 0, 0, 0, 0, 0, 0, 0, 0, 0, 1, 0, 0, 0, 0, 0, 0,\n",
              "       0, 0, 0, 0, 0, 0, 0, 0, 0, 0, 0, 0, 0, 0, 0, 0, 0, 1, 1, 0, 0, 0,\n",
              "       0, 0, 0, 0, 0, 0, 0, 0, 0, 0, 0, 0, 0, 0, 0, 0, 1, 0, 0, 0, 0, 0,\n",
              "       0, 0, 0, 0, 0, 0, 0, 0, 0, 0, 0, 0, 0, 0, 0, 0, 0, 0, 0, 0, 0, 0,\n",
              "       0, 0, 0, 0, 0, 0, 0, 0, 0, 0, 0, 0, 0, 0, 0, 0, 0, 0, 0, 0, 0, 0,\n",
              "       0, 0, 0, 0, 0, 0, 0, 0, 0, 0, 0, 0, 0, 0, 0, 0, 0, 0, 0, 0, 0, 0,\n",
              "       0, 0, 0, 0, 0, 0, 0, 0, 0, 0, 0, 0, 0, 0, 0, 0, 0, 0, 0, 0, 0, 0,\n",
              "       0, 0, 0, 0, 1, 0, 1, 0, 0, 0, 0, 0, 1, 0, 0, 0, 0, 1, 0, 0, 0, 0,\n",
              "       0, 0, 0, 0, 0, 0, 0, 0, 0, 0, 0, 0, 0, 0, 0, 0, 0, 0, 0, 0, 0, 0,\n",
              "       0, 0, 0, 0, 0, 0, 0, 0, 0, 0, 0, 0, 0, 0, 0, 0, 0, 0, 0, 0, 0, 0,\n",
              "       0, 0, 0, 0, 0, 0, 0, 4, 0, 2, 0, 0, 1, 0, 0, 0, 0, 0, 0, 1, 0, 0,\n",
              "       0, 0, 2, 0, 0, 0, 0, 0, 0, 0, 0, 0, 0, 0, 0, 0, 0, 0, 0, 0, 0, 0,\n",
              "       2, 0, 0, 0, 0, 0, 0, 0, 0, 0, 0, 0, 0, 0, 0, 0, 0, 0, 0, 0, 0, 0,\n",
              "       0, 0, 0, 0, 0, 0, 0, 0, 0, 0, 0, 0, 0, 0, 0, 0, 0, 0, 0, 0, 0, 0,\n",
              "       0, 0, 0, 0, 0, 0, 0, 0, 0, 0, 0, 0, 0, 0, 1, 0, 0, 0, 0, 0, 0, 0,\n",
              "       0, 0, 0, 0, 0, 0, 0, 0, 0, 0, 0, 0, 0, 0, 0, 1, 0, 0, 0, 0, 0, 0,\n",
              "       0, 0, 2, 0, 0, 0, 0, 0, 0, 0, 0, 0, 0, 0, 0, 0, 0, 0, 0, 1, 0, 0,\n",
              "       0, 0, 0, 0, 0, 0, 1, 0, 0, 0, 0, 0, 0, 0, 0, 0, 0, 0, 0, 0, 1, 1,\n",
              "       1, 0, 0, 0, 0, 0, 0, 0, 0, 0, 0, 0, 0, 0, 0, 1, 0, 1, 0, 0, 0, 0,\n",
              "       0, 0, 0, 0, 0, 0, 0, 0, 0, 0, 0, 0, 0, 0, 0, 0, 0, 0, 0, 0, 0, 0,\n",
              "       0, 0, 0, 0, 0, 0, 0, 0, 0, 0, 1, 0, 0, 0, 0, 0, 0, 0, 0, 0, 0, 0,\n",
              "       0, 0, 0, 0, 0, 0, 0, 0, 0, 0, 0, 0, 0, 0, 0, 0, 0, 0, 0, 0, 0, 0,\n",
              "       0, 0, 0, 0, 0, 0, 0, 0, 0, 0, 0, 0, 0, 0, 0, 0, 0, 0, 0, 0, 0, 0,\n",
              "       0, 0, 0, 0, 0, 0, 0, 0, 0, 1, 0, 0, 0, 0, 0, 0, 0, 0, 0, 0, 0, 0,\n",
              "       0, 0, 0, 0, 0, 0, 1, 0, 0, 0, 0, 0, 0, 0, 0, 0, 0, 0, 0, 0, 0, 0,\n",
              "       0, 0, 0, 0, 0, 0, 0, 0, 0, 0, 0, 0, 0, 0, 0, 0, 0, 0, 0, 0, 0, 0,\n",
              "       0, 0, 0, 0, 0, 0, 0, 0, 0, 0, 0, 0, 0, 0, 0, 0, 0, 0, 0, 0, 0, 0,\n",
              "       0, 0, 0, 0, 0, 0, 0, 0, 0, 0, 0, 1, 0, 0, 0, 0, 1, 1, 0, 0, 0, 0,\n",
              "       0, 0, 0, 0, 0, 0, 0, 0, 0, 0, 0, 0, 0, 0, 0, 0, 0, 0, 0, 0, 0, 0,\n",
              "       0, 0, 0, 0, 0, 0, 0, 0, 0, 0])"
            ]
          },
          "metadata": {},
          "execution_count": 38
        }
      ],
      "source": [
        "X[0]"
      ]
    },
    {
      "cell_type": "code",
      "execution_count": null,
      "id": "94b37b0a",
      "metadata": {
        "execution": {
          "iopub.execute_input": "2022-09-15T07:01:57.065023Z",
          "iopub.status.busy": "2022-09-15T07:01:57.064361Z",
          "iopub.status.idle": "2022-09-15T07:01:57.070822Z",
          "shell.execute_reply": "2022-09-15T07:01:57.069775Z"
        },
        "papermill": {
          "duration": 0.026005,
          "end_time": "2022-09-15T07:01:57.073220",
          "exception": false,
          "start_time": "2022-09-15T07:01:57.047215",
          "status": "completed"
        },
        "tags": [],
        "id": "94b37b0a",
        "colab": {
          "base_uri": "https://localhost:8080/"
        },
        "outputId": "4feffde5-dea0-4583-9598-c71641c96787"
      },
      "outputs": [
        {
          "output_type": "execute_result",
          "data": {
            "text/plain": [
              "4"
            ]
          },
          "metadata": {},
          "execution_count": 39
        }
      ],
      "source": [
        "X[0].max()"
      ]
    },
    {
      "cell_type": "code",
      "execution_count": null,
      "id": "e4e1ea77",
      "metadata": {
        "execution": {
          "iopub.execute_input": "2022-09-15T07:01:57.107475Z",
          "iopub.status.busy": "2022-09-15T07:01:57.107045Z",
          "iopub.status.idle": "2022-09-15T07:01:57.114653Z",
          "shell.execute_reply": "2022-09-15T07:01:57.113540Z"
        },
        "papermill": {
          "duration": 0.027784,
          "end_time": "2022-09-15T07:01:57.116880",
          "exception": false,
          "start_time": "2022-09-15T07:01:57.089096",
          "status": "completed"
        },
        "tags": [],
        "id": "e4e1ea77",
        "colab": {
          "base_uri": "https://localhost:8080/"
        },
        "outputId": "fef2ae95-8f20-4cfa-a9eb-986805facec7"
      },
      "outputs": [
        {
          "output_type": "execute_result",
          "data": {
            "text/plain": [
              "0.053"
            ]
          },
          "metadata": {},
          "execution_count": 40
        }
      ],
      "source": [
        "X[0].mean()"
      ]
    },
    {
      "cell_type": "code",
      "execution_count": null,
      "id": "414ebe63",
      "metadata": {
        "execution": {
          "iopub.execute_input": "2022-09-15T07:01:57.150451Z",
          "iopub.status.busy": "2022-09-15T07:01:57.150029Z",
          "iopub.status.idle": "2022-09-15T07:01:57.155454Z",
          "shell.execute_reply": "2022-09-15T07:01:57.154291Z"
        },
        "papermill": {
          "duration": 0.025082,
          "end_time": "2022-09-15T07:01:57.157985",
          "exception": false,
          "start_time": "2022-09-15T07:01:57.132903",
          "status": "completed"
        },
        "tags": [],
        "id": "414ebe63"
      },
      "outputs": [],
      "source": [
        "y=df.iloc[:,-1].values"
      ]
    },
    {
      "cell_type": "code",
      "execution_count": null,
      "id": "363a94d4",
      "metadata": {
        "execution": {
          "iopub.execute_input": "2022-09-15T07:01:57.191831Z",
          "iopub.status.busy": "2022-09-15T07:01:57.191401Z",
          "iopub.status.idle": "2022-09-15T07:01:57.198249Z",
          "shell.execute_reply": "2022-09-15T07:01:57.197129Z"
        },
        "papermill": {
          "duration": 0.026589,
          "end_time": "2022-09-15T07:01:57.200659",
          "exception": false,
          "start_time": "2022-09-15T07:01:57.174070",
          "status": "completed"
        },
        "tags": [],
        "id": "363a94d4",
        "colab": {
          "base_uri": "https://localhost:8080/"
        },
        "outputId": "edb3aab5-197f-431c-d2c7-5a5177055892"
      },
      "outputs": [
        {
          "output_type": "execute_result",
          "data": {
            "text/plain": [
              "(10000,)"
            ]
          },
          "metadata": {},
          "execution_count": 42
        }
      ],
      "source": [
        "y.shape"
      ]
    },
    {
      "cell_type": "code",
      "execution_count": null,
      "id": "df68f0fb",
      "metadata": {
        "execution": {
          "iopub.execute_input": "2022-09-15T07:01:57.235140Z",
          "iopub.status.busy": "2022-09-15T07:01:57.234727Z",
          "iopub.status.idle": "2022-09-15T07:01:57.239601Z",
          "shell.execute_reply": "2022-09-15T07:01:57.238466Z"
        },
        "papermill": {
          "duration": 0.025091,
          "end_time": "2022-09-15T07:01:57.242005",
          "exception": false,
          "start_time": "2022-09-15T07:01:57.216914",
          "status": "completed"
        },
        "tags": [],
        "id": "df68f0fb"
      },
      "outputs": [],
      "source": [
        "# spilt data into two parts\n",
        "# X,Y\n",
        "# Training set\n",
        "# Test set ( already know the result)"
      ]
    },
    {
      "cell_type": "code",
      "execution_count": null,
      "id": "31daffe2",
      "metadata": {
        "execution": {
          "iopub.execute_input": "2022-09-15T07:01:57.276386Z",
          "iopub.status.busy": "2022-09-15T07:01:57.275959Z",
          "iopub.status.idle": "2022-09-15T07:01:57.316717Z",
          "shell.execute_reply": "2022-09-15T07:01:57.315285Z"
        },
        "papermill": {
          "duration": 0.061204,
          "end_time": "2022-09-15T07:01:57.319540",
          "exception": false,
          "start_time": "2022-09-15T07:01:57.258336",
          "status": "completed"
        },
        "tags": [],
        "id": "31daffe2"
      },
      "outputs": [],
      "source": [
        "from  sklearn.model_selection import train_test_split\n",
        "X_train, X_test, y_train, y_test= train_test_split(X,y,test_size=0.2)"
      ]
    },
    {
      "cell_type": "code",
      "execution_count": null,
      "id": "23abb524",
      "metadata": {
        "execution": {
          "iopub.execute_input": "2022-09-15T07:01:57.354935Z",
          "iopub.status.busy": "2022-09-15T07:01:57.354085Z",
          "iopub.status.idle": "2022-09-15T07:01:57.361329Z",
          "shell.execute_reply": "2022-09-15T07:01:57.360440Z"
        },
        "papermill": {
          "duration": 0.027202,
          "end_time": "2022-09-15T07:01:57.363805",
          "exception": false,
          "start_time": "2022-09-15T07:01:57.336603",
          "status": "completed"
        },
        "tags": [],
        "id": "23abb524",
        "colab": {
          "base_uri": "https://localhost:8080/"
        },
        "outputId": "7b79ab58-b2ad-41d8-a537-0a0ca6f680b0"
      },
      "outputs": [
        {
          "output_type": "execute_result",
          "data": {
            "text/plain": [
              "(8000, 1000)"
            ]
          },
          "metadata": {},
          "execution_count": 45
        }
      ],
      "source": [
        "X_train.shape"
      ]
    },
    {
      "cell_type": "code",
      "execution_count": null,
      "id": "7e313ebe",
      "metadata": {
        "execution": {
          "iopub.execute_input": "2022-09-15T07:01:57.398183Z",
          "iopub.status.busy": "2022-09-15T07:01:57.397168Z",
          "iopub.status.idle": "2022-09-15T07:01:57.404530Z",
          "shell.execute_reply": "2022-09-15T07:01:57.403405Z"
        },
        "papermill": {
          "duration": 0.027142,
          "end_time": "2022-09-15T07:01:57.406943",
          "exception": false,
          "start_time": "2022-09-15T07:01:57.379801",
          "status": "completed"
        },
        "tags": [],
        "id": "7e313ebe",
        "colab": {
          "base_uri": "https://localhost:8080/"
        },
        "outputId": "48f10887-c9d3-4a27-872a-bc1dede7b714"
      },
      "outputs": [
        {
          "output_type": "execute_result",
          "data": {
            "text/plain": [
              "(2000, 1000)"
            ]
          },
          "metadata": {},
          "execution_count": 46
        }
      ],
      "source": [
        "X_test.shape"
      ]
    },
    {
      "cell_type": "code",
      "execution_count": null,
      "id": "f7a74e7a",
      "metadata": {
        "execution": {
          "iopub.execute_input": "2022-09-15T07:01:57.442529Z",
          "iopub.status.busy": "2022-09-15T07:01:57.442098Z",
          "iopub.status.idle": "2022-09-15T07:01:57.449398Z",
          "shell.execute_reply": "2022-09-15T07:01:57.448319Z"
        },
        "papermill": {
          "duration": 0.028964,
          "end_time": "2022-09-15T07:01:57.452180",
          "exception": false,
          "start_time": "2022-09-15T07:01:57.423216",
          "status": "completed"
        },
        "tags": [],
        "id": "f7a74e7a",
        "colab": {
          "base_uri": "https://localhost:8080/"
        },
        "outputId": "8ab58716-f023-4322-b4f2-2fc3635432ae"
      },
      "outputs": [
        {
          "output_type": "execute_result",
          "data": {
            "text/plain": [
              "(8000,)"
            ]
          },
          "metadata": {},
          "execution_count": 47
        }
      ],
      "source": [
        "y_train.shape"
      ]
    },
    {
      "cell_type": "code",
      "execution_count": null,
      "id": "2d3ae492",
      "metadata": {
        "execution": {
          "iopub.execute_input": "2022-09-15T07:01:57.489275Z",
          "iopub.status.busy": "2022-09-15T07:01:57.488077Z",
          "iopub.status.idle": "2022-09-15T07:01:57.494985Z",
          "shell.execute_reply": "2022-09-15T07:01:57.494058Z"
        },
        "papermill": {
          "duration": 0.028403,
          "end_time": "2022-09-15T07:01:57.497244",
          "exception": false,
          "start_time": "2022-09-15T07:01:57.468841",
          "status": "completed"
        },
        "tags": [],
        "id": "2d3ae492",
        "colab": {
          "base_uri": "https://localhost:8080/"
        },
        "outputId": "6e9311f5-e15b-437a-de22-54a911c15d45"
      },
      "outputs": [
        {
          "output_type": "execute_result",
          "data": {
            "text/plain": [
              "(2000,)"
            ]
          },
          "metadata": {},
          "execution_count": 48
        }
      ],
      "source": [
        "y_test.shape"
      ]
    },
    {
      "cell_type": "code",
      "execution_count": null,
      "id": "e0a0297e",
      "metadata": {
        "execution": {
          "iopub.execute_input": "2022-09-15T07:01:57.533146Z",
          "iopub.status.busy": "2022-09-15T07:01:57.532452Z",
          "iopub.status.idle": "2022-09-15T07:01:57.539512Z",
          "shell.execute_reply": "2022-09-15T07:01:57.538578Z"
        },
        "papermill": {
          "duration": 0.027822,
          "end_time": "2022-09-15T07:01:57.541961",
          "exception": false,
          "start_time": "2022-09-15T07:01:57.514139",
          "status": "completed"
        },
        "tags": [],
        "id": "e0a0297e"
      },
      "outputs": [],
      "source": [
        "from sklearn.naive_bayes import GaussianNB, MultinomialNB, BernoulliNB"
      ]
    },
    {
      "cell_type": "code",
      "execution_count": null,
      "id": "76cfd5b4",
      "metadata": {
        "execution": {
          "iopub.execute_input": "2022-09-15T07:01:57.578268Z",
          "iopub.status.busy": "2022-09-15T07:01:57.577577Z",
          "iopub.status.idle": "2022-09-15T07:01:57.582792Z",
          "shell.execute_reply": "2022-09-15T07:01:57.581560Z"
        },
        "papermill": {
          "duration": 0.026429,
          "end_time": "2022-09-15T07:01:57.585417",
          "exception": false,
          "start_time": "2022-09-15T07:01:57.558988",
          "status": "completed"
        },
        "tags": [],
        "id": "76cfd5b4"
      },
      "outputs": [],
      "source": [
        "clf1=GaussianNB()\n",
        "clf2=MultinomialNB()\n",
        "clf3=BernoulliNB()"
      ]
    },
    {
      "cell_type": "code",
      "execution_count": null,
      "id": "96785510",
      "metadata": {
        "execution": {
          "iopub.execute_input": "2022-09-15T07:01:57.621408Z",
          "iopub.status.busy": "2022-09-15T07:01:57.620995Z",
          "iopub.status.idle": "2022-09-15T07:01:57.954674Z",
          "shell.execute_reply": "2022-09-15T07:01:57.953639Z"
        },
        "papermill": {
          "duration": 0.354609,
          "end_time": "2022-09-15T07:01:57.957077",
          "exception": false,
          "start_time": "2022-09-15T07:01:57.602468",
          "status": "completed"
        },
        "tags": [],
        "id": "96785510",
        "colab": {
          "base_uri": "https://localhost:8080/"
        },
        "outputId": "17a023eb-a597-40cf-8faa-90fbade33f30"
      },
      "outputs": [
        {
          "output_type": "execute_result",
          "data": {
            "text/plain": [
              "BernoulliNB()"
            ]
          },
          "metadata": {},
          "execution_count": 51
        }
      ],
      "source": [
        "clf1.fit(X_train,y_train)\n",
        "clf2.fit(X_train,y_train)\n",
        "clf3.fit(X_train,y_train)"
      ]
    },
    {
      "cell_type": "code",
      "execution_count": null,
      "id": "824036a4",
      "metadata": {
        "execution": {
          "iopub.execute_input": "2022-09-15T07:01:57.995783Z",
          "iopub.status.busy": "2022-09-15T07:01:57.994437Z",
          "iopub.status.idle": "2022-09-15T07:01:58.065285Z",
          "shell.execute_reply": "2022-09-15T07:01:58.063918Z"
        },
        "papermill": {
          "duration": 0.094589,
          "end_time": "2022-09-15T07:01:58.068681",
          "exception": false,
          "start_time": "2022-09-15T07:01:57.974092",
          "status": "completed"
        },
        "tags": [],
        "id": "824036a4"
      },
      "outputs": [],
      "source": [
        "y_pred1=clf1.predict(X_test)\n",
        "y_pred2=clf2.predict(X_test)\n",
        "y_pred3=clf3.predict(X_test)"
      ]
    },
    {
      "cell_type": "code",
      "execution_count": null,
      "id": "41b3aa37",
      "metadata": {
        "execution": {
          "iopub.execute_input": "2022-09-15T07:01:58.127202Z",
          "iopub.status.busy": "2022-09-15T07:01:58.125573Z",
          "iopub.status.idle": "2022-09-15T07:01:58.138824Z",
          "shell.execute_reply": "2022-09-15T07:01:58.137452Z"
        },
        "papermill": {
          "duration": 0.04625,
          "end_time": "2022-09-15T07:01:58.142413",
          "exception": false,
          "start_time": "2022-09-15T07:01:58.096163",
          "status": "completed"
        },
        "tags": [],
        "id": "41b3aa37",
        "colab": {
          "base_uri": "https://localhost:8080/"
        },
        "outputId": "73b42184-adbe-463f-e26e-842323942604"
      },
      "outputs": [
        {
          "output_type": "execute_result",
          "data": {
            "text/plain": [
              "(2000,)"
            ]
          },
          "metadata": {},
          "execution_count": 53
        }
      ],
      "source": [
        "y_test.shape"
      ]
    },
    {
      "cell_type": "code",
      "execution_count": null,
      "id": "b80ba8ab",
      "metadata": {
        "execution": {
          "iopub.execute_input": "2022-09-15T07:01:58.194875Z",
          "iopub.status.busy": "2022-09-15T07:01:58.194455Z",
          "iopub.status.idle": "2022-09-15T07:01:58.200445Z",
          "shell.execute_reply": "2022-09-15T07:01:58.199554Z"
        },
        "papermill": {
          "duration": 0.032009,
          "end_time": "2022-09-15T07:01:58.202724",
          "exception": false,
          "start_time": "2022-09-15T07:01:58.170715",
          "status": "completed"
        },
        "tags": [],
        "id": "b80ba8ab",
        "colab": {
          "base_uri": "https://localhost:8080/"
        },
        "outputId": "e9b3f6f2-ec80-4879-dc5a-52ba5d290521"
      },
      "outputs": [
        {
          "output_type": "execute_result",
          "data": {
            "text/plain": [
              "(2000,)"
            ]
          },
          "metadata": {},
          "execution_count": 54
        }
      ],
      "source": [
        "y_pred1.shape"
      ]
    },
    {
      "cell_type": "code",
      "execution_count": null,
      "id": "7610b502",
      "metadata": {
        "execution": {
          "iopub.execute_input": "2022-09-15T07:01:58.238682Z",
          "iopub.status.busy": "2022-09-15T07:01:58.237925Z",
          "iopub.status.idle": "2022-09-15T07:01:58.242642Z",
          "shell.execute_reply": "2022-09-15T07:01:58.241680Z"
        },
        "papermill": {
          "duration": 0.025536,
          "end_time": "2022-09-15T07:01:58.244982",
          "exception": false,
          "start_time": "2022-09-15T07:01:58.219446",
          "status": "completed"
        },
        "tags": [],
        "id": "7610b502"
      },
      "outputs": [],
      "source": [
        "from sklearn.metrics import accuracy_score"
      ]
    },
    {
      "cell_type": "code",
      "source": [
        "from scipy.stats import mode\n",
        "\n",
        "def majority_vote_predictions(y_test_lists):\n",
        "  y_test_np = np.array(y_test_lists)\n",
        "  print(y_test_np)\n",
        "  return mode(y_test_np, axis=0)[0][0]"
      ],
      "metadata": {
        "id": "tU0Bz3vJDjsf"
      },
      "id": "tU0Bz3vJDjsf",
      "execution_count": null,
      "outputs": []
    },
    {
      "cell_type": "code",
      "source": [
        "predictions_ens = majority_vote_predictions([y_pred1, y_pred2, y_pred3])"
      ],
      "metadata": {
        "id": "L_Hd4adVG1Ng",
        "colab": {
          "base_uri": "https://localhost:8080/"
        },
        "outputId": "12ba800d-4e7d-4f8f-9bcd-7161512c5dfe"
      },
      "id": "L_Hd4adVG1Ng",
      "execution_count": null,
      "outputs": [
        {
          "output_type": "stream",
          "name": "stdout",
          "text": [
            "[[1 1 0 ... 1 1 0]\n",
            " [1 1 0 ... 1 1 1]\n",
            " [1 1 1 ... 1 1 1]]\n"
          ]
        }
      ]
    },
    {
      "cell_type": "code",
      "source": [
        "predictions_ens "
      ],
      "metadata": {
        "colab": {
          "base_uri": "https://localhost:8080/"
        },
        "id": "lkz0pqoGYj-r",
        "outputId": "30d7f126-2445-439e-9baf-f9b082b78ee3"
      },
      "id": "lkz0pqoGYj-r",
      "execution_count": null,
      "outputs": [
        {
          "output_type": "execute_result",
          "data": {
            "text/plain": [
              "array([1, 1, 0, ..., 1, 1, 1])"
            ]
          },
          "metadata": {},
          "execution_count": 58
        }
      ]
    },
    {
      "cell_type": "code",
      "execution_count": null,
      "id": "3c9fc67d",
      "metadata": {
        "execution": {
          "iopub.execute_input": "2022-09-15T07:01:58.280507Z",
          "iopub.status.busy": "2022-09-15T07:01:58.279880Z",
          "iopub.status.idle": "2022-09-15T07:01:58.286462Z",
          "shell.execute_reply": "2022-09-15T07:01:58.285650Z"
        },
        "papermill": {
          "duration": 0.0274,
          "end_time": "2022-09-15T07:01:58.289145",
          "exception": false,
          "start_time": "2022-09-15T07:01:58.261745",
          "status": "completed"
        },
        "tags": [],
        "id": "3c9fc67d",
        "colab": {
          "base_uri": "https://localhost:8080/"
        },
        "outputId": "86568745-fbcb-4782-9a1b-7b33491aec10"
      },
      "outputs": [
        {
          "output_type": "stream",
          "name": "stdout",
          "text": [
            "Gausssian  0.764\n",
            "Multinomial  0.838\n",
            "Bernaulli  0.8445\n",
            "MV Ensemble of the 3:  0.835\n"
          ]
        }
      ],
      "source": [
        "print(\"Gausssian \", accuracy_score(y_test,y_pred1))\n",
        "print(\"Multinomial \", accuracy_score(y_test,y_pred2))\n",
        "print(\"Bernaulli \", accuracy_score(y_test,y_pred3))\n",
        "print(\"MV Ensemble of the 3: \", accuracy_score(y_test, predictions_ens))"
      ]
    }
  ],
  "metadata": {
    "kernelspec": {
      "display_name": "Python 3",
      "language": "python",
      "name": "python3"
    },
    "language_info": {
      "codemirror_mode": {
        "name": "ipython",
        "version": 3
      },
      "file_extension": ".py",
      "mimetype": "text/x-python",
      "name": "python",
      "nbconvert_exporter": "python",
      "pygments_lexer": "ipython3",
      "version": "3.7.12"
    },
    "papermill": {
      "default_parameters": {},
      "duration": 390.674908,
      "end_time": "2022-09-15T07:01:59.163687",
      "environment_variables": {},
      "exception": null,
      "input_path": "__notebook__.ipynb",
      "output_path": "__notebook__.ipynb",
      "parameters": {},
      "start_time": "2022-09-15T06:55:28.488779",
      "version": "2.3.4"
    },
    "colab": {
      "provenance": [],
      "collapsed_sections": []
    }
  },
  "nbformat": 4,
  "nbformat_minor": 5
}