{
  "nbformat": 4,
  "nbformat_minor": 0,
  "metadata": {
    "kernelspec": {
      "display_name": "Python 3",
      "language": "python",
      "name": "python3"
    },
    "language_info": {
      "codemirror_mode": {
        "name": "ipython",
        "version": 3
      },
      "file_extension": ".py",
      "mimetype": "text/x-python",
      "name": "python",
      "nbconvert_exporter": "python",
      "pygments_lexer": "ipython3",
      "version": "3.7.4"
    },
    "toc": {
      "toc_cell": false,
      "toc_number_sections": true,
      "toc_threshold": 6,
      "toc_window_display": false
    },
    "colab": {
      "name": "Tutorial1_BoW_math_linear_algebra.ipynb",
      "provenance": []
    }
  },
  "cells": [
    {
      "cell_type": "markdown",
      "metadata": {
        "id": "SuIh-BANZMMA"
      },
      "source": [
        "**Starter Activity - Exploring Bag of Words (Vectorizer)**\n",
        "\n",
        "The bag-of-words model is a simplifying representation used in natural language processing and information retrieval (IR). In this model, a text (such as a sentence or a document) is represented as the bag (multiset) of its words, disregarding grammar and even word order but keeping multiplicity.\n",
        "\n",
        "Corpus is 3 sentences:\n",
        "\n",
        "1. A bag was found next to the river\n",
        "2. Bag of words is a cool way of representing text\n",
        "3. The word on the street is that math is not cool"
      ]
    },
    {
      "cell_type": "code",
      "metadata": {
        "id": "JuAS1CCgwHU4"
      },
      "source": [
        "#\n",
        "##\n",
        "###\n",
        "####\n",
        "#####\n",
        "######\n",
        "#######\n",
        "######\n",
        "#####\n",
        "####\n",
        "###\n",
        "##\n",
        "#"
      ],
      "execution_count": null,
      "outputs": []
    },
    {
      "cell_type": "code",
      "metadata": {
        "colab": {
          "base_uri": "https://localhost:8080/"
        },
        "id": "C1lpq7z9wwHf",
        "outputId": "88f00776-688a-4a7c-c353-21be1e69ab8a"
      },
      "source": [
        "from sklearn.feature_extraction.text import CountVectorizer\n",
        "corpus = [\n",
        "     'A bag was found next to the river',\n",
        "     'Bag of words is a cool way of representing text',\n",
        "     'The word on the street is that math is not cool',\n",
        " ]\n",
        "vectorizer = CountVectorizer()\n",
        "X = vectorizer.fit_transform(corpus)\n",
        "vectorizer.get_feature_names()"
      ],
      "execution_count": null,
      "outputs": [
        {
          "output_type": "execute_result",
          "data": {
            "text/plain": [
              "['bag',\n",
              " 'cool',\n",
              " 'found',\n",
              " 'is',\n",
              " 'math',\n",
              " 'next',\n",
              " 'not',\n",
              " 'of',\n",
              " 'on',\n",
              " 'representing',\n",
              " 'river',\n",
              " 'street',\n",
              " 'text',\n",
              " 'that',\n",
              " 'the',\n",
              " 'to',\n",
              " 'was',\n",
              " 'way',\n",
              " 'word',\n",
              " 'words']"
            ]
          },
          "metadata": {},
          "execution_count": 5
        }
      ]
    },
    {
      "cell_type": "code",
      "metadata": {
        "colab": {
          "base_uri": "https://localhost:8080/"
        },
        "id": "rkdpTuylQ0kS",
        "outputId": "fde8bdbb-87d2-4f44-d515-41b1ec951bb3"
      },
      "source": [
        "X.toarray()"
      ],
      "execution_count": null,
      "outputs": [
        {
          "output_type": "execute_result",
          "data": {
            "text/plain": [
              "array([[1, 0, 1, 0, 0, 1, 0, 0, 0, 0, 1, 0, 0, 0, 1, 1, 1, 0, 0, 0],\n",
              "       [1, 1, 0, 1, 0, 0, 0, 2, 0, 1, 0, 0, 1, 0, 0, 0, 0, 1, 0, 1],\n",
              "       [0, 1, 0, 2, 1, 0, 1, 0, 1, 0, 0, 1, 0, 1, 2, 0, 0, 0, 1, 0]])"
            ]
          },
          "metadata": {},
          "execution_count": 3
        }
      ]
    },
    {
      "cell_type": "markdown",
      "metadata": {
        "id": "7mMHdNfWRI1A"
      },
      "source": [
        "bag cool found is math next not of on representing river street text that the to was way word words\n",
        "\n",
        "[1, 0, 1, 0, 0, 1, 0, 0, 0, 0, 1, 0, 0, 0, 1, 1, 1, 0, 0, 0]\n",
        "\n",
        "[1, 1, 0, 1, 0, 0, 0, 2, 0, 1, 0, 0, 1, 0, 0, 0, 0, 1, 0, 1]\n",
        "\n",
        "[0, 1, 0, 2, 1, 0, 1, 0, 1, 0, 0, 1, 0, 1, 2, 0, 0, 0, 1, 0]"
      ]
    },
    {
      "cell_type": "markdown",
      "metadata": {
        "id": "lQf7QeYcSfZX"
      },
      "source": [
        "How to Improve the features representation:\n",
        "1.   Lemmatization\n",
        "2.   Stop Word Removal\n",
        "3.   Minimize Words in Dictionary of BoW (max words)\n",
        "4.   Map Similar Words into one word.\n",
        "\n",
        "Problems of BoW like feature representations:\n",
        "\n",
        "1. Context matters, cannot use that in this representation.\n",
        "2. No way to take into account a similarity measure between words.\n",
        "3. Sequence of words matters and we cannot take that into account.\n",
        "\n"
      ]
    },
    {
      "cell_type": "markdown",
      "metadata": {
        "id": "4e032snbsA7S"
      },
      "source": [
        "\n",
        "**Math - Linear Algebra**\n",
        "\n",
        "*Linear Algebra is the branch of mathematics that studies [vector spaces](https://en.wikipedia.org/wiki/Vector_space) and linear transformations between vector spaces, such as rotating a shape, scaling it up or down, translating it (ie. moving it), etc.*\n",
        "\n",
        "*Machine Learning relies heavily on Linear Algebra, so it is essential to understand what vectors and matrices are, what operations you can perform with them, and how they can be useful.*"
      ]
    },
    {
      "cell_type": "markdown",
      "metadata": {
        "id": "QSJsXdF1sA7V"
      },
      "source": [
        "Before we start, let's ensure that this notebook works well in both Python 2 and 3:"
      ]
    },
    {
      "cell_type": "code",
      "metadata": {
        "id": "XGx2_Qi-sA7W"
      },
      "source": [
        "from __future__ import division, print_function, unicode_literals"
      ],
      "execution_count": null,
      "outputs": []
    },
    {
      "cell_type": "markdown",
      "metadata": {
        "id": "6pqK3PGXsA7Y"
      },
      "source": [
        "# Vectors\n",
        "## Definition\n",
        "A vector is a quantity defined by a magnitude and a direction. For example, a rocket's velocity is a 3-dimensional vector: its magnitude is the speed of the rocket, and its direction is (hopefully) up. A vector can be represented by an array of numbers called *scalars*. Each scalar corresponds to the magnitude of the vector with regards to each dimension.\n",
        "\n",
        "For example, say the rocket is going up at a slight angle: it has a vertical speed of 5,000 m/s, and also a slight speed towards the East at 10 m/s, and a slight speed towards the North at 50 m/s. The rocket's velocity may be represented by the following vector:\n",
        "\n",
        "**velocity** $= \\begin{pmatrix}\n",
        "10 \\\\\n",
        "50 \\\\\n",
        "5000 \\\\\n",
        "\\end{pmatrix}$\n",
        "\n",
        "Note: by convention vectors are generally presented in the form of columns. Also, vector names are generally lowercase to distinguish them from matrices (which we will discuss below) and in bold (when possible) to distinguish them from simple scalar values such as ${meters\\_per\\_second} = 5026$.\n",
        "\n",
        "A list of N numbers may also represent the coordinates of a point in an N-dimensional space, so it is quite frequent to represent vectors as simple points instead of arrows. A vector with 1 element may be represented as an arrow or a point on an axis, a vector with 2 elements is an arrow or a point on a plane, a vector with 3 elements is an arrow or point in space, and a vector with N elements is an arrow or a point in an N-dimensional space… which most people find hard to imagine.\n",
        "\n",
        "\n",
        "##  Purpose\n",
        "Vectors have many purposes in Machine Learning, most notably to represent observations and predictions. For example, say we built a Machine Learning system to classify videos into 3 categories (good, spam, clickbait) based on what we know about them. For each video, we would have a vector representing what we know about it, such as:\n",
        "\n",
        "**video** $= \\begin{pmatrix}\n",
        "10.5 \\\\\n",
        "5.2 \\\\\n",
        "3.25 \\\\\n",
        "7.0\n",
        "\\end{pmatrix}$\n",
        "\n",
        "This vector could represent a video that lasts 10.5 minutes, but only 5.2% viewers watch for more than a minute, it gets 3.25 views per day on average, and it was flagged 7 times as spam. As you can see, each axis may have a different meaning.\n",
        "\n",
        "Based on this vector our Machine Learning system may predict that there is an 80% probability that it is a spam video, 18% that it is clickbait, and 2% that it is a good video. This could be represented as the following vector:\n",
        "\n",
        "**class_probabilities** $= \\begin{pmatrix}\n",
        "0.80 \\\\\n",
        "0.18 \\\\\n",
        "0.02\n",
        "\\end{pmatrix}$"
      ]
    },
    {
      "cell_type": "markdown",
      "metadata": {
        "id": "ed2DcsO3sA7a"
      },
      "source": [
        "## Vectors in python\n",
        "In python, a vector can be represented in many ways, the simplest being a regular python list of numbers:"
      ]
    },
    {
      "cell_type": "code",
      "metadata": {
        "id": "-Aq3i1q6sA7b",
        "outputId": "d13662dc-f493-4881-89db-c3ddc22ff741"
      },
      "source": [
        "[10.5, 5.2, 3.25, 7.0]"
      ],
      "execution_count": null,
      "outputs": [
        {
          "data": {
            "text/plain": [
              "[10.5, 5.2, 3.25, 7.0]"
            ]
          },
          "execution_count": 2,
          "metadata": {},
          "output_type": "execute_result"
        }
      ]
    },
    {
      "cell_type": "markdown",
      "metadata": {
        "id": "D1FI8ywmsA7d"
      },
      "source": [
        "Since we plan to do quite a lot of scientific calculations, it is much better to use NumPy's `ndarray`, which provides a lot of convenient and optimized implementations of essential mathematical operations on vectors (for more details about NumPy, check out the [NumPy tutorial](tools_numpy.ipynb)). For example:"
      ]
    },
    {
      "cell_type": "code",
      "metadata": {
        "id": "BUWnhV4jsA7e",
        "outputId": "f407c6da-09fd-413d-bba1-0a626e3debd0"
      },
      "source": [
        "import numpy as np\n",
        "video = np.array([10.5, 5.2, 3.25, 7.0])\n",
        "video"
      ],
      "execution_count": null,
      "outputs": [
        {
          "data": {
            "text/plain": [
              "array([10.5 ,  5.2 ,  3.25,  7.  ])"
            ]
          },
          "execution_count": 3,
          "metadata": {},
          "output_type": "execute_result"
        }
      ]
    },
    {
      "cell_type": "markdown",
      "metadata": {
        "id": "wX_DilZvsA7e"
      },
      "source": [
        "The size of a vector can be obtained using the `size` attribute:"
      ]
    },
    {
      "cell_type": "code",
      "metadata": {
        "id": "ho6c6jy4sA7f",
        "outputId": "f25ee194-f687-438b-b7b5-cb0880d1663f"
      },
      "source": [
        "video.size"
      ],
      "execution_count": null,
      "outputs": [
        {
          "data": {
            "text/plain": [
              "4"
            ]
          },
          "execution_count": 4,
          "metadata": {},
          "output_type": "execute_result"
        }
      ]
    },
    {
      "cell_type": "markdown",
      "metadata": {
        "id": "3gj-oejqsA7g"
      },
      "source": [
        "The $i^{th}$ element (also called *entry* or *item*) of a vector $\\textbf{v}$ is noted $\\textbf{v}_i$.\n",
        "\n",
        "Note that indices in mathematics generally start at 1, but in programming they usually start at 0. So to access $\\textbf{video}_3$ programmatically, we would write:"
      ]
    },
    {
      "cell_type": "code",
      "metadata": {
        "id": "xaj8I1EusA7h",
        "outputId": "c4ab5ee0-3a78-478f-afbc-e59d475162e9"
      },
      "source": [
        "video[2]  # 3rd element"
      ],
      "execution_count": null,
      "outputs": [
        {
          "data": {
            "text/plain": [
              "3.25"
            ]
          },
          "execution_count": 5,
          "metadata": {},
          "output_type": "execute_result"
        }
      ]
    },
    {
      "cell_type": "markdown",
      "metadata": {
        "id": "3zIpmhbAsA7h"
      },
      "source": [
        "## Plotting vectors\n",
        "To plot vectors we will use matplotlib, so let's start by importing it (for details about matplotlib, check the [matplotlib tutorial](tools_matplotlib.ipynb)):"
      ]
    },
    {
      "cell_type": "code",
      "metadata": {
        "id": "-CoOBbA7sA7h"
      },
      "source": [
        "%matplotlib inline\n",
        "import matplotlib.pyplot as plt"
      ],
      "execution_count": null,
      "outputs": []
    },
    {
      "cell_type": "markdown",
      "metadata": {
        "id": "1awfh15SsA7i"
      },
      "source": [
        "### 2D vectors\n",
        "Let's create a couple very simple 2D vectors to plot:"
      ]
    },
    {
      "cell_type": "code",
      "metadata": {
        "id": "B1oDOIcjsA7i"
      },
      "source": [
        "u = np.array([2, 5])\n",
        "v = np.array([3, 1])"
      ],
      "execution_count": null,
      "outputs": []
    },
    {
      "cell_type": "markdown",
      "metadata": {
        "id": "kMt04jy6sA7i"
      },
      "source": [
        "These vectors each have 2 elements, so they can easily be represented graphically on a 2D graph, for example as points:"
      ]
    },
    {
      "cell_type": "code",
      "metadata": {
        "id": "zyAzU4gOsA7j",
        "outputId": "fb061786-1bd1-4ea9-a958-3c698db6c2c1"
      },
      "source": [
        "x_coords, y_coords = zip(u, v)\n",
        "plt.scatter(x_coords, y_coords, color=[\"r\",\"b\"])\n",
        "plt.axis([0, 9, 0, 6])\n",
        "plt.grid()\n",
        "plt.show()"
      ],
      "execution_count": null,
      "outputs": [
        {
          "data": {
            "image/png": "[encoded data removed]",
            "text/plain": [
              "<Figure size 432x288 with 1 Axes>"
            ]
          },
          "metadata": {
            "needs_background": "light"
          },
          "output_type": "display_data"
        }
      ]
    },
    {
      "cell_type": "markdown",
      "metadata": {
        "id": "YjXFtEIYsA7j"
      },
      "source": [
        "Vectors can also be represented as arrows. Let's create a small convenience function to draw nice arrows ***Not Important, maybe later***:"
      ]
    },
    {
      "cell_type": "code",
      "metadata": {
        "id": "1o1QkGMKsA7k"
      },
      "source": [
        "def plot_vector2d(vector2d, origin=[0, 0], **options):\n",
        "    return plt.arrow(origin[0], origin[1], vector2d[0], vector2d[1],\n",
        "              head_width=0.2, head_length=0.3, length_includes_head=True,\n",
        "              **options)"
      ],
      "execution_count": null,
      "outputs": []
    },
    {
      "cell_type": "markdown",
      "metadata": {
        "id": "KsnnSOacsA7k"
      },
      "source": [
        "Now let's draw the vectors **u** and **v** as arrows:"
      ]
    },
    {
      "cell_type": "code",
      "metadata": {
        "id": "nYeLC6ScsA7k",
        "outputId": "f51ad81e-d8ef-4083-8c9d-9d4e36ab5ffa"
      },
      "source": [
        "plot_vector2d(u, color=\"r\")\n",
        "plot_vector2d(v, color=\"b\")\n",
        "plt.axis([0, 9, 0, 6])\n",
        "plt.grid()\n",
        "plt.show()"
      ],
      "execution_count": null,
      "outputs": [
        {
          "data": {
            "image/png": "[encoded data removed]",
            "text/plain": [
              "<Figure size 432x288 with 1 Axes>"
            ]
          },
          "metadata": {
            "needs_background": "light"
          },
          "output_type": "display_data"
        }
      ]
    },
    {
      "cell_type": "markdown",
      "metadata": {
        "id": "A7_ClsOssA7k"
      },
      "source": [
        "### 3D vectors\n",
        "Plotting 3D vectors is also relatively straightforward. First let's create two 3D vectors:"
      ]
    },
    {
      "cell_type": "code",
      "metadata": {
        "id": "m20C5KcDsA7l"
      },
      "source": [
        "a = np.array([1, 2, 8])\n",
        "b = np.array([5, 6, 3])"
      ],
      "execution_count": null,
      "outputs": []
    },
    {
      "cell_type": "markdown",
      "metadata": {
        "id": "1_Ad1kgAsA7l"
      },
      "source": [
        "Now let's plot them using matplotlib's `Axes3D`:"
      ]
    },
    {
      "cell_type": "code",
      "metadata": {
        "id": "PX8LJ72gsA7l",
        "outputId": "1b6b6235-9abb-416a-a525-b435e2816a7d"
      },
      "source": [
        "from mpl_toolkits.mplot3d import Axes3D\n",
        "\n",
        "subplot3d = plt.subplot(111, projection='3d')\n",
        "x_coords, y_coords, z_coords = zip(a,b)\n",
        "subplot3d.scatter(x_coords, y_coords, z_coords)\n",
        "subplot3d.set_zlim3d([0, 9])\n",
        "plt.show()"
      ],
      "execution_count": null,
      "outputs": [
        {
          "data": {
            "image/png": "[encoded data removed]",
            "text/plain": [
              "<Figure size 432x288 with 1 Axes>"
            ]
          },
          "metadata": {
            "needs_background": "light"
          },
          "output_type": "display_data"
        }
      ]
    },
    {
      "cell_type": "markdown",
      "metadata": {
        "id": "_-lWCqGJsA7m"
      },
      "source": [
        "It is a bit hard to visualize exactly where in space these two points are, so let's add vertical lines. We'll create a small convenience function to plot a list of 3d vectors with vertical lines attached:"
      ]
    },
    {
      "cell_type": "code",
      "metadata": {
        "id": "iaW5b75vsA7m",
        "outputId": "4d038527-1510-4a00-c764-2ad96ab29e0b"
      },
      "source": [
        "def plot_vectors3d(ax, vectors3d, z0, **options):\n",
        "    for v in vectors3d:\n",
        "        x, y, z = v\n",
        "        ax.plot([x,x], [y,y], [z0, z], color=\"gray\", linestyle='dotted', marker=\".\")\n",
        "    x_coords, y_coords, z_coords = zip(*vectors3d)\n",
        "    ax.scatter(x_coords, y_coords, z_coords, **options)\n",
        "\n",
        "subplot3d = plt.subplot(111, projection='3d')\n",
        "subplot3d.set_zlim([0, 9])\n",
        "plot_vectors3d(subplot3d, [a,b], 0, color=(\"r\",\"b\"))\n",
        "plt.show()"
      ],
      "execution_count": null,
      "outputs": [
        {
          "data": {
            "image/png": "[encoded data removed]",
            "text/plain": [
              "<Figure size 432x288 with 1 Axes>"
            ]
          },
          "metadata": {
            "needs_background": "light"
          },
          "output_type": "display_data"
        }
      ]
    },
    {
      "cell_type": "markdown",
      "metadata": {
        "id": "wdM8Du4rsA7m"
      },
      "source": [
        "## Norm\n",
        "The norm of a vector $\\textbf{u}$, noted $\\left \\Vert \\textbf{u} \\right \\|$, is a measure of the length (a.k.a. the magnitude) of $\\textbf{u}$. There are multiple possible norms, but the most common one (and the only one we will discuss here) is the Euclidian norm, which is defined as:\n",
        "\n",
        "$\\left \\Vert \\textbf{u} \\right \\| = \\sqrt{\\sum_{i}{\\textbf{u}_i}^2}$\n",
        "\n",
        "We could implement this easily in pure python, recalling that $\\sqrt x = x^{\\frac{1}{2}}$"
      ]
    },
    {
      "cell_type": "code",
      "metadata": {
        "id": "LddYGKWPsA7m",
        "outputId": "712bd12d-3bbd-48a8-9561-938859aa7be3"
      },
      "source": [
        "def vector_norm(vector):\n",
        "    squares = [element**2 for element in vector]\n",
        "    return sum(squares)**0.5\n",
        "\n",
        "print(\"||\", u, \"|| =\")\n",
        "vector_norm(u)"
      ],
      "execution_count": null,
      "outputs": [
        {
          "name": "stdout",
          "output_type": "stream",
          "text": [
            "|| [2 5] || =\n"
          ]
        },
        {
          "data": {
            "text/plain": [
              "5.3851648071345037"
            ]
          },
          "execution_count": 14,
          "metadata": {},
          "output_type": "execute_result"
        }
      ]
    },
    {
      "cell_type": "markdown",
      "metadata": {
        "id": "ND5DY7mEsA7n"
      },
      "source": [
        "However, it is much more efficient to use NumPy's `norm` function, available in the `linalg` (**Lin**ear **Alg**ebra) module:"
      ]
    },
    {
      "cell_type": "code",
      "metadata": {
        "id": "YSKHnVqUsA7n",
        "outputId": "2cad0752-9bb3-4111-dcfd-d3b5538b7d08"
      },
      "source": [
        "import numpy.linalg as LA\n",
        "LA.norm(u)"
      ],
      "execution_count": null,
      "outputs": [
        {
          "data": {
            "text/plain": [
              "5.3851648071345037"
            ]
          },
          "execution_count": 15,
          "metadata": {},
          "output_type": "execute_result"
        }
      ]
    },
    {
      "cell_type": "markdown",
      "metadata": {
        "id": "K5yGeaTIsA7n"
      },
      "source": [
        "Let's plot a little diagram to confirm that the length of vector $\\textbf{v}$ is indeed $\\approx5.4$:"
      ]
    },
    {
      "cell_type": "code",
      "metadata": {
        "id": "_NxdJZpAsA7n",
        "outputId": "996fb27c-ef44-42e4-a7f8-433e63a5c781"
      },
      "source": [
        "radius = LA.norm(u)\n",
        "plt.gca().add_artist(plt.Circle((0,0), radius, color=\"#DDDDDD\"))\n",
        "plot_vector2d(u, color=\"red\")\n",
        "plt.axis([0, 8.7, 0, 6])\n",
        "plt.grid()\n",
        "plt.show()"
      ],
      "execution_count": null,
      "outputs": [
        {
          "data": {
            "image/png": "[encoded data removed]",
            "text/plain": [
              "<matplotlib.figure.Figure at 0x7f6e32e93400>"
            ]
          },
          "metadata": {},
          "output_type": "display_data"
        }
      ]
    },
    {
      "cell_type": "markdown",
      "metadata": {
        "id": "5hu1Yb3GsA7n"
      },
      "source": [
        "Looks about right!"
      ]
    },
    {
      "cell_type": "markdown",
      "metadata": {
        "id": "KPGvtr-TsA7o"
      },
      "source": [
        "## Addition\n",
        "Vectors of same size can be added together. Addition is performed *elementwise*:"
      ]
    },
    {
      "cell_type": "code",
      "metadata": {
        "id": "vTL01zTssA7o",
        "outputId": "afe725e5-2084-4a74-e070-407e343d988f"
      },
      "source": [
        "print(\" \", u)\n",
        "print(\"+\", v)\n",
        "print(\"-\"*10)\n",
        "u + v"
      ],
      "execution_count": null,
      "outputs": [
        {
          "name": "stdout",
          "output_type": "stream",
          "text": [
            "  [2 5]\n",
            "+ [3 1]\n",
            "----------\n"
          ]
        },
        {
          "data": {
            "text/plain": [
              "array([5, 6])"
            ]
          },
          "execution_count": 18,
          "metadata": {},
          "output_type": "execute_result"
        }
      ]
    },
    {
      "cell_type": "markdown",
      "metadata": {
        "id": "YAf1MudVsA7o"
      },
      "source": [
        "Let's look at what vector addition looks like graphically:"
      ]
    },
    {
      "cell_type": "code",
      "metadata": {
        "scrolled": true,
        "id": "KMWB2HSWsA7o",
        "outputId": "526f3840-b807-4945-85bd-a6b8090f60c2"
      },
      "source": [
        "plot_vector2d(u, color=\"r\")\n",
        "plot_vector2d(v, color=\"b\")\n",
        "plot_vector2d(v, origin=u, color=\"b\", linestyle=\"dotted\")\n",
        "plot_vector2d(u, origin=v, color=\"r\", linestyle=\"dotted\")\n",
        "plot_vector2d(u+v, color=\"g\")\n",
        "plt.axis([0, 9, 0, 7])\n",
        "plt.text(0.7, 3, \"u\", color=\"r\", fontsize=18)\n",
        "plt.text(4, 3, \"u\", color=\"r\", fontsize=18)\n",
        "plt.text(1.8, 0.2, \"v\", color=\"b\", fontsize=18)\n",
        "plt.text(3.1, 5.6, \"v\", color=\"b\", fontsize=18)\n",
        "plt.text(2.4, 2.5, \"u+v\", color=\"g\", fontsize=18)\n",
        "plt.grid()\n",
        "plt.show()"
      ],
      "execution_count": null,
      "outputs": [
        {
          "data": {
            "image/png": "[encoded data removed]",
            "text/plain": [
              "<matplotlib.figure.Figure at 0x7f6e32e64c88>"
            ]
          },
          "metadata": {},
          "output_type": "display_data"
        }
      ]
    },
    {
      "cell_type": "markdown",
      "metadata": {
        "id": "T4sEHJ2MsA7o"
      },
      "source": [
        "Vector addition is **commutative**, meaning that $\\textbf{u} + \\textbf{v} = \\textbf{v} + \\textbf{u}$. You can see it on the previous image: following $\\textbf{u}$ *then* $\\textbf{v}$ leads to the same point as following $\\textbf{v}$ *then* $\\textbf{u}$.\n",
        "\n",
        "Vector addition is also **associative**, meaning that $\\textbf{u} + (\\textbf{v} + \\textbf{w}) = (\\textbf{u} + \\textbf{v}) + \\textbf{w}$."
      ]
    },
    {
      "cell_type": "markdown",
      "metadata": {
        "id": "MObutNs_sA7o"
      },
      "source": [
        "If you have a shape defined by a number of points (vectors), and you add a vector $\\textbf{v}$ to all of these points, then the whole shape gets shifted by $\\textbf{v}$. This is called a [geometric translation](https://en.wikipedia.org/wiki/Translation_%28geometry%29):"
      ]
    },
    {
      "cell_type": "code",
      "metadata": {
        "id": "ries4dLTsA7p",
        "outputId": "8d2451b8-ebdd-4736-f176-ad5ad4b071b9"
      },
      "source": [
        "t1 = np.array([2, 0.25])\n",
        "t2 = np.array([2.5, 3.5])\n",
        "t3 = np.array([1, 2])\n",
        "\n",
        "x_coords, y_coords = zip(t1, t2, t3, t1)\n",
        "plt.plot(x_coords, y_coords, \"c--\", x_coords, y_coords, \"co\")\n",
        "\n",
        "plot_vector2d(v, t1, color=\"r\", linestyle=\":\")\n",
        "plot_vector2d(v, t2, color=\"r\", linestyle=\":\")\n",
        "plot_vector2d(v, t3, color=\"r\", linestyle=\":\")\n",
        "\n",
        "t1b = t1 + v\n",
        "t2b = t2 + v\n",
        "t3b = t3 + v\n",
        "\n",
        "x_coords_b, y_coords_b = zip(t1b, t2b, t3b, t1b)\n",
        "plt.plot(x_coords_b, y_coords_b, \"b-\", x_coords_b, y_coords_b, \"bo\")\n",
        "\n",
        "plt.text(4, 4.2, \"v\", color=\"r\", fontsize=18)\n",
        "plt.text(3, 2.3, \"v\", color=\"r\", fontsize=18)\n",
        "plt.text(3.5, 0.4, \"v\", color=\"r\", fontsize=18)\n",
        "\n",
        "plt.axis([0, 6, 0, 5])\n",
        "plt.grid()\n",
        "plt.show()"
      ],
      "execution_count": null,
      "outputs": [
        {
          "data": {
            "image/png": "[encoded data removed]",
            "text/plain": [
              "<matplotlib.figure.Figure at 0x7f6e32e17a58>"
            ]
          },
          "metadata": {},
          "output_type": "display_data"
        }
      ]
    },
    {
      "cell_type": "markdown",
      "metadata": {
        "id": "IS5-Yuc7sA7p"
      },
      "source": [
        "Finally, substracting a vector is like adding the opposite vector."
      ]
    },
    {
      "cell_type": "markdown",
      "metadata": {
        "id": "g6b7DrAXsA7p"
      },
      "source": [
        "## Multiplication by a scalar\n",
        "Vectors can be multiplied by scalars. All elements in the vector are multiplied by that number, for example:"
      ]
    },
    {
      "cell_type": "code",
      "metadata": {
        "id": "gNSrJ0hhsA7p",
        "outputId": "daf4e208-968d-4a3e-b11a-ba98ebbf004e"
      },
      "source": [
        "print(\"1.5 *\", u, \"=\")\n",
        "\n",
        "1.5 * u"
      ],
      "execution_count": null,
      "outputs": [
        {
          "name": "stdout",
          "output_type": "stream",
          "text": [
            "1.5 * [2 5] =\n"
          ]
        },
        {
          "data": {
            "text/plain": [
              "array([ 3. ,  7.5])"
            ]
          },
          "execution_count": 20,
          "metadata": {},
          "output_type": "execute_result"
        }
      ]
    },
    {
      "cell_type": "markdown",
      "metadata": {
        "id": "Av1zSPLYsA7p"
      },
      "source": [
        "Graphically, scalar multiplication results in changing the scale of a figure, hence the name *scalar*. The distance from the origin (the point at coordinates equal to zero) is also multiplied by the scalar. For example, let's scale up by a factor of `k = 2.5`:"
      ]
    },
    {
      "cell_type": "code",
      "metadata": {
        "id": "Nee70GVzsA7p",
        "outputId": "fd4478f8-25ec-4fee-df16-495807d89f3c"
      },
      "source": [
        "k = 2.5\n",
        "t1c = k * t1\n",
        "t2c = k * t2\n",
        "t3c = k * t3\n",
        "\n",
        "plt.plot(x_coords, y_coords, \"c--\", x_coords, y_coords, \"co\")\n",
        "\n",
        "plot_vector2d(t1, color=\"r\")\n",
        "plot_vector2d(t2, color=\"r\")\n",
        "plot_vector2d(t3, color=\"r\")\n",
        "\n",
        "x_coords_c, y_coords_c = zip(t1c, t2c, t3c, t1c)\n",
        "plt.plot(x_coords_c, y_coords_c, \"b-\", x_coords_c, y_coords_c, \"bo\")\n",
        "\n",
        "plot_vector2d(k * t1, color=\"b\", linestyle=\":\")\n",
        "plot_vector2d(k * t2, color=\"b\", linestyle=\":\")\n",
        "plot_vector2d(k * t3, color=\"b\", linestyle=\":\")\n",
        "\n",
        "plt.axis([0, 9, 0, 9])\n",
        "plt.grid()\n",
        "plt.show()"
      ],
      "execution_count": null,
      "outputs": [
        {
          "data": {
            "image/png": "[encoded data removed]",
            "text/plain": [
              "<matplotlib.figure.Figure at 0x7f6e32d3f0f0>"
            ]
          },
          "metadata": {},
          "output_type": "display_data"
        }
      ]
    },
    {
      "cell_type": "markdown",
      "metadata": {
        "id": "6XJ1h5nrsA7p"
      },
      "source": [
        "As you might guess, dividing a vector by a scalar is equivalent to multiplying by its inverse:\n",
        "\n",
        "$\\dfrac{\\textbf{u}}{\\lambda} = \\dfrac{1}{\\lambda} \\times \\textbf{u}$"
      ]
    },
    {
      "cell_type": "markdown",
      "metadata": {
        "id": "vdCppW1BsA7q"
      },
      "source": [
        "Scalar multiplication is **commutative**: $\\lambda \\times \\textbf{u} = \\textbf{u} \\times \\lambda$.\n",
        "\n",
        "It is also **associative**: $\\lambda_1 \\times (\\lambda_2 \\times \\textbf{u}) = (\\lambda_1 \\times \\lambda_2) \\times \\textbf{u}$.\n",
        "\n",
        "Finally, it is **distributive** over addition of vectors: $\\lambda \\times (\\textbf{u} + \\textbf{v}) = \\lambda \\times \\textbf{u} + \\lambda \\times \\textbf{v}$."
      ]
    },
    {
      "cell_type": "markdown",
      "metadata": {
        "id": "48DUMt0WsA7q"
      },
      "source": [
        "## Zero, unit and normalized vectors\n",
        "* A **zero-vector ** is a vector full of 0s.\n",
        "* A **unit vector** is a vector with a norm equal to 1.\n",
        "* The **normalized vector** of a non-null vector $\\textbf{u}$, noted $\\hat{\\textbf{u}}$, is the unit vector that points in the same direction as $\\textbf{u}$. It is equal to: $\\hat{\\textbf{u}} = \\dfrac{\\textbf{u}}{\\left \\Vert \\textbf{u} \\right \\|}$\n",
        "\n"
      ]
    },
    {
      "cell_type": "code",
      "metadata": {
        "id": "QVAaXqqhsA7q",
        "outputId": "6d155561-8f1e-4856-898a-c623e708e818"
      },
      "source": [
        "plt.gca().add_artist(plt.Circle((0,0),1,color='c'))\n",
        "plt.plot(0, 0, \"ko\")\n",
        "plot_vector2d(v / LA.norm(v), color=\"k\")\n",
        "plot_vector2d(v, color=\"b\", linestyle=\":\")\n",
        "plt.text(0.3, 0.3, \"$\\hat{u}$\", color=\"k\", fontsize=18)\n",
        "plt.text(1.5, 0.7, \"$u$\", color=\"b\", fontsize=18)\n",
        "plt.axis([-1.5, 5.5, -1.5, 3.5])\n",
        "plt.grid()\n",
        "plt.show()"
      ],
      "execution_count": null,
      "outputs": [
        {
          "data": {
            "image/png": "[encoded data removed]",
            "text/plain": [
              "<matplotlib.figure.Figure at 0x7f6e32f73e80>"
            ]
          },
          "metadata": {},
          "output_type": "display_data"
        }
      ]
    },
    {
      "cell_type": "markdown",
      "metadata": {
        "id": "ZWElOrFBsA7q"
      },
      "source": [
        "## Dot product\n",
        "### Definition\n",
        "The dot product (also called *scalar product* or *inner product* in the context of the Euclidian space) of two vectors $\\textbf{u}$ and $\\textbf{v}$ is a useful operation that comes up fairly often in linear algebra. It is noted $\\textbf{u} \\cdot \\textbf{v}$, or sometimes $⟨\\textbf{u}|\\textbf{v}⟩$ or $(\\textbf{u}|\\textbf{v})$, and it is defined as:\n",
        "\n",
        "$\\textbf{u} \\cdot \\textbf{v} = \\left \\Vert \\textbf{u} \\right \\| \\times \\left \\Vert \\textbf{v} \\right \\| \\times cos(\\theta)$\n",
        "\n",
        "where $\\theta$ is the angle between $\\textbf{u}$ and $\\textbf{v}$.\n",
        "\n",
        "Another way to calculate the dot product is:\n",
        "\n",
        "$\\textbf{u} \\cdot \\textbf{v} = \\sum_i{\\textbf{u}_i \\times \\textbf{v}_i}$\n",
        "\n",
        "### In python\n",
        "The dot product is pretty simple to implement:"
      ]
    },
    {
      "cell_type": "code",
      "metadata": {
        "id": "D1hGN5JLsA7q",
        "outputId": "be9ffabd-9f46-42a1-d7cf-27e5429f3847"
      },
      "source": [
        "def dot_product(v1, v2):\n",
        "    return sum(v1i * v2i for v1i, v2i in zip(v1, v2))\n",
        "\n",
        "dot_product(u, v)\n"
      ],
      "execution_count": null,
      "outputs": [
        {
          "data": {
            "text/plain": [
              "[(2, 3), (5, 1)]"
            ]
          },
          "execution_count": 22,
          "metadata": {},
          "output_type": "execute_result"
        }
      ]
    },
    {
      "cell_type": "markdown",
      "metadata": {
        "id": "2t8T8VX1sA7q"
      },
      "source": [
        "But a *much* more efficient implementation is provided by NumPy with the `dot` function:"
      ]
    },
    {
      "cell_type": "code",
      "metadata": {
        "id": "8L-kbevqsA7q",
        "outputId": "97e20f80-8c44-4920-b446-df3e19141ba2"
      },
      "source": [
        "np.dot(u,v)"
      ],
      "execution_count": null,
      "outputs": [
        {
          "data": {
            "text/plain": [
              "11"
            ]
          },
          "execution_count": 24,
          "metadata": {},
          "output_type": "execute_result"
        }
      ]
    },
    {
      "cell_type": "markdown",
      "metadata": {
        "id": "KK7m5uq1sA7r"
      },
      "source": [
        "Equivalently, you can use the `dot` method of `ndarray`s:"
      ]
    },
    {
      "cell_type": "code",
      "metadata": {
        "id": "qGSfqt4rsA7r",
        "outputId": "e17b3793-e96c-46ac-f165-2453f640d5d4"
      },
      "source": [
        "u.dot(v)"
      ],
      "execution_count": null,
      "outputs": [
        {
          "data": {
            "text/plain": [
              "11"
            ]
          },
          "execution_count": 25,
          "metadata": {},
          "output_type": "execute_result"
        }
      ]
    },
    {
      "cell_type": "markdown",
      "metadata": {
        "id": "z7zJV1b7sA7r"
      },
      "source": [
        "**Caution**: the `*` operator will perform an *elementwise* multiplication, *NOT* a dot product:"
      ]
    },
    {
      "cell_type": "code",
      "metadata": {
        "id": "MfOGOQUWsA7s",
        "outputId": "621f4340-0a63-4a55-b971-401e5a63dd00"
      },
      "source": [
        "print(\"  \",u)\n",
        "print(\"* \",v, \"(NOT a dot product)\")\n",
        "print(\"-\"*10)\n",
        "\n",
        "u * v"
      ],
      "execution_count": null,
      "outputs": [
        {
          "name": "stdout",
          "output_type": "stream",
          "text": [
            "   [2 5]\n",
            "*  [3 1] (NOT a dot product)\n",
            "----------\n"
          ]
        },
        {
          "data": {
            "text/plain": [
              "array([6, 5])"
            ]
          },
          "execution_count": 26,
          "metadata": {},
          "output_type": "execute_result"
        }
      ]
    },
    {
      "cell_type": "markdown",
      "metadata": {
        "id": "V2SDZ2RqsA7s"
      },
      "source": [
        "### Main properties\n",
        "* The dot product is **commutative**: $\\textbf{u} \\cdot \\textbf{v} = \\textbf{v} \\cdot \\textbf{u}$.\n",
        "* The dot product is only defined between two vectors, not between a scalar and a vector. This means that we cannot chain dot products: for example, the expression $\\textbf{u} \\cdot \\textbf{v} \\cdot \\textbf{w}$ is not defined since $\\textbf{u} \\cdot \\textbf{v}$ is a scalar and $\\textbf{w}$ is a vector.\n",
        "* This also means that the dot product is **NOT associative**: $(\\textbf{u} \\cdot \\textbf{v}) \\cdot \\textbf{w} ≠ \\textbf{u} \\cdot (\\textbf{v} \\cdot \\textbf{w})$ since neither are defined.\n",
        "* However, the dot product is **associative with regards to scalar multiplication**: $\\lambda \\times (\\textbf{u} \\cdot \\textbf{v}) = (\\lambda \\times \\textbf{u}) \\cdot \\textbf{v} = \\textbf{u} \\cdot (\\lambda \\times \\textbf{v})$\n",
        "* Finally, the dot product is **distributive** over addition of vectors: $\\textbf{u} \\cdot (\\textbf{v} + \\textbf{w}) = \\textbf{u} \\cdot \\textbf{v} + \\textbf{u} \\cdot \\textbf{w}$."
      ]
    },
    {
      "cell_type": "markdown",
      "metadata": {
        "id": "CpqB7vQisA7s"
      },
      "source": [
        "### Calculating the angle between vectors\n",
        "One of the many uses of the dot product is to calculate the angle between two non-zero vectors. Looking at the dot product definition, we can deduce the following formula:\n",
        "\n",
        "$\\theta = \\arccos{\\left ( \\dfrac{\\textbf{u} \\cdot \\textbf{v}}{\\left \\Vert \\textbf{u} \\right \\| \\times \\left \\Vert \\textbf{v} \\right \\|} \\right ) }$\n",
        "\n",
        "Note that if $\\textbf{u} \\cdot \\textbf{v} = 0$, it follows that $\\theta = \\dfrac{π}{2}$. In other words, if the dot product of two non-null vectors is zero, it means that they are orthogonal.\n",
        "\n",
        "Let's use this formula to calculate the angle between $\\textbf{u}$ and $\\textbf{v}$ (in radians):"
      ]
    },
    {
      "cell_type": "code",
      "metadata": {
        "id": "Owf3MESQsA7s",
        "outputId": "328ac019-1580-4c94-b607-84b0f37b30d6"
      },
      "source": [
        "def vector_angle(u, v):\n",
        "    cos_theta = u.dot(v) / LA.norm(u) / LA.norm(v)\n",
        "    return np.arccos(np.clip(cos_theta, -1, 1))\n",
        "\n",
        "theta = vector_angle(u, v)\n",
        "print(\"Angle =\", theta, \"radians\")\n",
        "print(\"      =\", theta * 180 / np.pi, \"degrees\")"
      ],
      "execution_count": null,
      "outputs": [
        {
          "name": "stdout",
          "output_type": "stream",
          "text": [
            "Angle = 0.868539395286 radians\n",
            "      = 49.7636416907 degrees\n"
          ]
        }
      ]
    },
    {
      "cell_type": "markdown",
      "metadata": {
        "id": "--60DM4csA7t"
      },
      "source": [
        "Note: due to small floating point errors, `cos_theta` may be very slightly outside of the $[-1, 1]$ interval, which would make `arccos` fail. This is why we clipped the value within the range, using NumPy's `clip` function."
      ]
    },
    {
      "cell_type": "markdown",
      "metadata": {
        "id": "3uXYFa8KsA7t"
      },
      "source": [
        "### Projecting a point onto an axis\n",
        "The dot product is also very useful to project points onto an axis. The projection of vector $\\textbf{v}$ onto $\\textbf{u}$'s axis is given by this formula:\n",
        "\n",
        "$\\textbf{proj}_{\\textbf{u}}{\\textbf{v}} = \\dfrac{\\textbf{u} \\cdot \\textbf{v}}{\\left \\Vert \\textbf{u} \\right \\| ^2} \\times \\textbf{u}$\n",
        "\n",
        "Which is equivalent to:\n",
        "\n",
        "$\\textbf{proj}_{\\textbf{u}}{\\textbf{v}} = (\\textbf{v} \\cdot \\hat{\\textbf{u}}) \\times \\hat{\\textbf{u}}$\n"
      ]
    },
    {
      "cell_type": "code",
      "metadata": {
        "id": "t6jpV-iisA7t",
        "outputId": "bdf41152-53f0-42f2-af43-43c682ce82fb"
      },
      "source": [
        "u_normalized = u / LA.norm(u)\n",
        "proj = v.dot(u_normalized) * u_normalized\n",
        "\n",
        "plot_vector2d(u, color=\"r\")\n",
        "plot_vector2d(v, color=\"b\")\n",
        "\n",
        "plot_vector2d(proj, color=\"k\", linestyle=\":\")\n",
        "plt.plot(proj[0], proj[1], \"ko\")\n",
        "\n",
        "plt.plot([proj[0], v[0]], [proj[1], v[1]], \"b:\")\n",
        "\n",
        "plt.text(1, 2, \"$proj_u v$\", color=\"k\", fontsize=18)\n",
        "plt.text(1.8, 0.2, \"$v$\", color=\"b\", fontsize=18)\n",
        "plt.text(0.8, 3, \"$u$\", color=\"r\", fontsize=18)\n",
        "\n",
        "plt.axis([0, 8, 0, 5.5])\n",
        "plt.grid()\n",
        "plt.show()"
      ],
      "execution_count": null,
      "outputs": [
        {
          "data": {
            "image/png": "[encoded data removed]",
            "text/plain": [
              "<matplotlib.figure.Figure at 0x7f6e32c344e0>"
            ]
          },
          "metadata": {},
          "output_type": "display_data"
        }
      ]
    },
    {
      "cell_type": "markdown",
      "metadata": {
        "id": "dEnqWcn1sA7u"
      },
      "source": [
        "# Matrices\n",
        "A matrix is a rectangular array of scalars (ie. any number: integer, real or complex) arranged in rows and columns, for example:\n",
        "\n",
        "\\begin{bmatrix} 10 & 20 & 30 \\\\ 40 & 50 & 60 \\end{bmatrix}\n",
        "\n",
        "You can also think of a matrix as a list of vectors: the previous matrix contains either 2 horizontal 3D vectors or 3 vertical 2D vectors.\n",
        "\n",
        "Matrices are convenient and very efficient to run operations on many vectors at a time. We will also see that they are great at representing and performing linear transformations such rotations, translations and scaling."
      ]
    },
    {
      "cell_type": "markdown",
      "metadata": {
        "id": "PVNQ7IPksA7u"
      },
      "source": [
        "## Matrices in python\n",
        "In python, a matrix can be represented in various ways. The simplest is just a list of python lists:"
      ]
    },
    {
      "cell_type": "code",
      "metadata": {
        "id": "4lNz5LHrsA7u",
        "outputId": "c4a75421-ddce-471e-d4f1-3fe14674b551"
      },
      "source": [
        "[\n",
        "    [10, 20, 30],\n",
        "    [40, 50, 60]\n",
        "]"
      ],
      "execution_count": null,
      "outputs": [
        {
          "data": {
            "text/plain": [
              "[[10, 20, 30], [40, 50, 60]]"
            ]
          },
          "execution_count": 29,
          "metadata": {},
          "output_type": "execute_result"
        }
      ]
    },
    {
      "cell_type": "markdown",
      "metadata": {
        "id": "NcN5xp06sA7v"
      },
      "source": [
        "A much more efficient way is to use the NumPy library which provides optimized implementations of many matrix operations:"
      ]
    },
    {
      "cell_type": "code",
      "metadata": {
        "id": "kfEyAsPnsA7v",
        "outputId": "d95ebfa6-474c-4d48-db36-99c8f27df2b7"
      },
      "source": [
        "A = np.array([[10,20,30],[40,50,60]])\n",
        "A"
      ],
      "execution_count": null,
      "outputs": [
        {
          "data": {
            "text/plain": [
              "array([[10, 20, 30],\n",
              "       [40, 50, 60]])"
            ]
          },
          "execution_count": 25,
          "metadata": {},
          "output_type": "execute_result"
        }
      ]
    },
    {
      "cell_type": "markdown",
      "metadata": {
        "id": "JUirA4HrsA7v"
      },
      "source": [
        "By convention matrices generally have uppercase names, such as $A$.\n",
        "\n",
        "In the rest of this tutorial, we will assume that we are using NumPy arrays (type `ndarray`) to represent matrices."
      ]
    },
    {
      "cell_type": "markdown",
      "metadata": {
        "id": "W10ZZKC7sA7w"
      },
      "source": [
        "## Size\n",
        "The size of a matrix is defined by its number of rows and number of columns. It is noted $rows \\times columns$. For example, the matrix $A$ above is an example of a $2 \\times 3$ matrix: 2 rows, 3 columns. Caution: a $3 \\times 2$ matrix would have 3 rows and 2 columns.\n",
        "\n",
        "To get a matrix's size in NumPy:"
      ]
    },
    {
      "cell_type": "code",
      "metadata": {
        "id": "C_2APXMisA7w",
        "outputId": "c119128e-d429-4fa3-8cd6-ed6927f854d9"
      },
      "source": [
        "A.shape"
      ],
      "execution_count": null,
      "outputs": [
        {
          "data": {
            "text/plain": [
              "(2, 3)"
            ]
          },
          "execution_count": 31,
          "metadata": {},
          "output_type": "execute_result"
        }
      ]
    },
    {
      "cell_type": "markdown",
      "metadata": {
        "id": "eZ00JfxZsA7w"
      },
      "source": [
        "**Caution**: the `size` attribute represents the number of elements in the `ndarray`, not the matrix's size:"
      ]
    },
    {
      "cell_type": "code",
      "metadata": {
        "id": "KtG3-urZsA7w",
        "outputId": "a40c1743-6adb-4368-a2b6-cc05a0107000"
      },
      "source": [
        "A.size"
      ],
      "execution_count": null,
      "outputs": [
        {
          "data": {
            "text/plain": [
              "6"
            ]
          },
          "execution_count": 32,
          "metadata": {},
          "output_type": "execute_result"
        }
      ]
    },
    {
      "cell_type": "markdown",
      "metadata": {
        "id": "xkJEe_OrsA7x"
      },
      "source": [
        "## Element indexing\n",
        "The number located in the $i^{th}$ row, and $j^{th}$ column of a matrix $X$ is sometimes noted $X_{i,j}$ or $X_{ij}$, but there is no standard notation, so people often prefer to explicitely name the elements, like this: \"*let $X = (x_{i,j})_{1 ≤ i ≤ m, 1 ≤ j ≤ n}$*\". This means that $X$ is equal to:\n",
        "\n",
        "$X = \\begin{bmatrix}\n",
        "  x_{1,1} & x_{1,2} & x_{1,3} & \\cdots & x_{1,n}\\\\\n",
        "  x_{2,1} & x_{2,2} & x_{2,3} & \\cdots & x_{2,n}\\\\\n",
        "  x_{3,1} & x_{3,2} & x_{3,3} & \\cdots & x_{3,n}\\\\\n",
        "  \\vdots & \\vdots & \\vdots & \\ddots & \\vdots \\\\\n",
        "  x_{m,1} & x_{m,2} & x_{m,3} & \\cdots & x_{m,n}\\\\\n",
        "\\end{bmatrix}$\n",
        "\n",
        "However in this notebook we will use the $X_{i,j}$ notation, as it matches fairly well NumPy's notation. Note that in math indices generally start at 1, but in programming they usually start at 0. So to access $A_{2,3}$ programmatically, we need to write this:"
      ]
    },
    {
      "cell_type": "code",
      "metadata": {
        "id": "oCdOg94gsA7x",
        "outputId": "c67bc033-d3e7-4e8e-f8a7-83b309d02e85"
      },
      "source": [
        "A[1,2]  # 2nd row, 3rd column"
      ],
      "execution_count": null,
      "outputs": [
        {
          "data": {
            "text/plain": [
              "60"
            ]
          },
          "execution_count": 33,
          "metadata": {},
          "output_type": "execute_result"
        }
      ]
    },
    {
      "cell_type": "markdown",
      "metadata": {
        "id": "8Fc5ykhYsA7x"
      },
      "source": [
        "The $i^{th}$ row vector is sometimes noted $M_i$ or $M_{i,*}$, but again there is no standard notation so people often prefer to explicitely define their own names, for example: \"*let **x**$_{i}$ be the $i^{th}$ row vector of matrix $X$*\". We will use the $M_{i,*}$, for the same reason as above. For example, to access $A_{2,*}$ (ie. $A$'s 2nd row vector):"
      ]
    },
    {
      "cell_type": "code",
      "metadata": {
        "id": "4WpOVWPGsA7x",
        "outputId": "04051d2e-89d9-4a8a-ac34-ffa065e4e0f5"
      },
      "source": [
        "A[1, :]  # 2nd row vector (as a 1D array)"
      ],
      "execution_count": null,
      "outputs": [
        {
          "data": {
            "text/plain": [
              "array([40, 50, 60])"
            ]
          },
          "execution_count": 34,
          "metadata": {},
          "output_type": "execute_result"
        }
      ]
    },
    {
      "cell_type": "markdown",
      "metadata": {
        "id": "nDcvgrolsA7x"
      },
      "source": [
        "Similarly, the $j^{th}$ column vector is sometimes noted $M^j$ or $M_{*,j}$, but there is no standard notation. We will use $M_{*,j}$. For example, to access $A_{*,3}$ (ie. $A$'s 3rd column vector):"
      ]
    },
    {
      "cell_type": "code",
      "metadata": {
        "id": "9kcHRWwlsA7x",
        "outputId": "6f2bbed1-afda-472a-cbff-d6879bca87ea"
      },
      "source": [
        "A[:, 2]  # 3rd column vector (as a 1D array)"
      ],
      "execution_count": null,
      "outputs": [
        {
          "data": {
            "text/plain": [
              "array([30, 60])"
            ]
          },
          "execution_count": 35,
          "metadata": {},
          "output_type": "execute_result"
        }
      ]
    },
    {
      "cell_type": "markdown",
      "metadata": {
        "id": "cNDkOPWwsA7x"
      },
      "source": [
        "Note that the result is actually a one-dimensional NumPy array: there is no such thing as a *vertical* or *horizontal* one-dimensional array. If you need to actually represent a row vector as a one-row matrix (ie. a 2D NumPy array), or a column vector as a one-column matrix, then you need to use a slice instead of an integer when accessing the row or column, for example:"
      ]
    },
    {
      "cell_type": "code",
      "metadata": {
        "id": "G8M2ok5AsA7y",
        "outputId": "c09b309b-c053-4904-ff56-668b6f1ec3e5"
      },
      "source": [
        "A[1:2, :]  # rows 2 to 3 (excluded): this returns row 2 as a one-row matrix"
      ],
      "execution_count": null,
      "outputs": [
        {
          "data": {
            "text/plain": [
              "array([[40, 50, 60]])"
            ]
          },
          "execution_count": 36,
          "metadata": {},
          "output_type": "execute_result"
        }
      ]
    },
    {
      "cell_type": "code",
      "metadata": {
        "id": "klj6KmlGsA7y",
        "outputId": "fd0fadbe-866d-4812-ce86-c1a812f6c4ab"
      },
      "source": [
        "A[:, 2:3]  # columns 3 to 4 (excluded): this returns column 3 as a one-column matrix"
      ],
      "execution_count": null,
      "outputs": [
        {
          "data": {
            "text/plain": [
              "array([[30],\n",
              "       [60]])"
            ]
          },
          "execution_count": 37,
          "metadata": {},
          "output_type": "execute_result"
        }
      ]
    },
    {
      "cell_type": "markdown",
      "metadata": {
        "id": "qQXIHJUPsA7y"
      },
      "source": [
        "## Square, triangular, diagonal and identity matrices\n",
        "A **square matrix** is a matrix that has the same number of rows and columns, for example a $3 \\times 3$ matrix:\n",
        "\n",
        "\\begin{bmatrix}\n",
        "  4 & 9 & 2 \\\\\n",
        "  3 & 5 & 7 \\\\\n",
        "  8 & 1 & 6\n",
        "\\end{bmatrix}"
      ]
    },
    {
      "cell_type": "markdown",
      "metadata": {
        "id": "3y7uOYxKsA7y"
      },
      "source": [
        "An **upper triangular matrix** is a special kind of square matrix where all the elements *below* the main diagonal (top-left to bottom-right) are zero, for example:\n",
        "\n",
        "\\begin{bmatrix}\n",
        "  4 & 9 & 2 \\\\\n",
        "  0 & 5 & 7 \\\\\n",
        "  0 & 0 & 6\n",
        "\\end{bmatrix}"
      ]
    },
    {
      "cell_type": "markdown",
      "metadata": {
        "id": "2Bdff235sA7y"
      },
      "source": [
        "Similarly, a **lower triangular matrix** is a square matrix where all elements *above* the main diagonal are zero, for example:\n",
        "\n",
        "\\begin{bmatrix}\n",
        "  4 & 0 & 0 \\\\\n",
        "  3 & 5 & 0 \\\\\n",
        "  8 & 1 & 6\n",
        "\\end{bmatrix}"
      ]
    },
    {
      "cell_type": "markdown",
      "metadata": {
        "id": "VReQDTvRsA7y"
      },
      "source": [
        "A **triangular matrix** is one that is either lower triangular or upper triangular."
      ]
    },
    {
      "cell_type": "markdown",
      "metadata": {
        "id": "AXd04UV3sA7y"
      },
      "source": [
        "A matrix that is both upper and lower triangular is called a **diagonal matrix**, for example:\n",
        "\n",
        "\\begin{bmatrix}\n",
        "  4 & 0 & 0 \\\\\n",
        "  0 & 5 & 0 \\\\\n",
        "  0 & 0 & 6\n",
        "\\end{bmatrix}\n",
        "\n",
        "You can construct a diagonal matrix using NumPy's `diag` function:"
      ]
    },
    {
      "cell_type": "code",
      "metadata": {
        "id": "0IKMmwrZsA7y",
        "outputId": "3cf7cedc-947f-4df4-94e9-efb78e594a50"
      },
      "source": [
        "np.diag([4, 5, 6])"
      ],
      "execution_count": null,
      "outputs": [
        {
          "data": {
            "text/plain": [
              "array([[4, 0, 0],\n",
              "       [0, 5, 0],\n",
              "       [0, 0, 6]])"
            ]
          },
          "execution_count": 38,
          "metadata": {},
          "output_type": "execute_result"
        }
      ]
    },
    {
      "cell_type": "markdown",
      "metadata": {
        "id": "gpfInb8IsA7z"
      },
      "source": [
        "If you pass a matrix to the `diag` function, it will happily extract the diagonal values:"
      ]
    },
    {
      "cell_type": "code",
      "metadata": {
        "id": "gAA_tOXmsA7z",
        "outputId": "1433522c-5f87-43ef-9e50-82c3caeeeac0"
      },
      "source": [
        "D = np.array([\n",
        "        [1, 2, 3],\n",
        "        [4, 5, 6],\n",
        "        [7, 8, 9],\n",
        "    ])\n",
        "np.diag(D)"
      ],
      "execution_count": null,
      "outputs": [
        {
          "data": {
            "text/plain": [
              "array([1, 5, 9])"
            ]
          },
          "execution_count": 39,
          "metadata": {},
          "output_type": "execute_result"
        }
      ]
    },
    {
      "cell_type": "markdown",
      "metadata": {
        "id": "NAZdxj5psA7z"
      },
      "source": [
        "Finally, the **identity matrix** of size $n$, noted $I_n$, is a diagonal matrix of size $n \\times n$ with $1$'s in the main diagonal, for example $I_3$:\n",
        "\n",
        "\\begin{bmatrix}\n",
        "  1 & 0 & 0 \\\\\n",
        "  0 & 1 & 0 \\\\\n",
        "  0 & 0 & 1\n",
        "\\end{bmatrix}\n",
        "\n",
        "Numpy's `eye` function returns the identity matrix of the desired size:"
      ]
    },
    {
      "cell_type": "code",
      "metadata": {
        "id": "VQ3YtfEusA7z",
        "outputId": "13bbf7a4-c297-4326-b276-25b164259585"
      },
      "source": [
        "np.eye(3)"
      ],
      "execution_count": null,
      "outputs": [
        {
          "data": {
            "text/plain": [
              "array([[ 1.,  0.,  0.],\n",
              "       [ 0.,  1.,  0.],\n",
              "       [ 0.,  0.,  1.]])"
            ]
          },
          "execution_count": 40,
          "metadata": {},
          "output_type": "execute_result"
        }
      ]
    },
    {
      "cell_type": "markdown",
      "metadata": {
        "id": "dSjcnpVzsA7z"
      },
      "source": [
        "The identity matrix is often noted simply $I$ (instead of $I_n$) when its size is clear given the context. It is called the *identity* matrix because multiplying a matrix with it leaves the matrix unchanged as we will see below."
      ]
    },
    {
      "cell_type": "markdown",
      "metadata": {
        "id": "E0l31NvdsA7z"
      },
      "source": [
        "## Adding matrices\n",
        "If two matrices $Q$ and $R$ have the same size $m \\times n$, they can be added together. Addition is performed *elementwise*: the result is also a $m \\times n$ matrix $S$ where each element is the sum of the elements at the corresponding position: $S_{i,j} = Q_{i,j} + R_{i,j}$\n",
        "\n",
        "$S =\n",
        "\\begin{bmatrix}\n",
        "  Q_{11} + R_{11} & Q_{12} + R_{12} & Q_{13} + R_{13} & \\cdots & Q_{1n} + R_{1n} \\\\\n",
        "  Q_{21} + R_{21} & Q_{22} + R_{22} & Q_{23} + R_{23} & \\cdots & Q_{2n} + R_{2n}  \\\\\n",
        "  Q_{31} + R_{31} & Q_{32} + R_{32} & Q_{33} + R_{33} & \\cdots & Q_{3n} + R_{3n}  \\\\\n",
        "  \\vdots & \\vdots & \\vdots & \\ddots & \\vdots \\\\\n",
        "  Q_{m1} + R_{m1} & Q_{m2} + R_{m2} & Q_{m3} + R_{m3} & \\cdots & Q_{mn} + R_{mn}  \\\\\n",
        "\\end{bmatrix}$\n",
        "\n",
        "For example, let's create a $2 \\times 3$ matric $B$ and compute $A + B$:"
      ]
    },
    {
      "cell_type": "code",
      "metadata": {
        "id": "VA9gXFpGsA70",
        "outputId": "5868b240-f54c-435e-b00b-47fc8e5d57d5"
      },
      "source": [
        "B = np.array([[1,2,3], [4, 5, 6]])\n",
        "B"
      ],
      "execution_count": null,
      "outputs": [
        {
          "data": {
            "text/plain": [
              "array([[1, 2, 3],\n",
              "       [4, 5, 6]])"
            ]
          },
          "execution_count": 41,
          "metadata": {},
          "output_type": "execute_result"
        }
      ]
    },
    {
      "cell_type": "code",
      "metadata": {
        "id": "FYQ9hbSlsA70",
        "outputId": "1084ada0-bc69-4d33-bf30-f39b7000f7cc"
      },
      "source": [
        "A"
      ],
      "execution_count": null,
      "outputs": [
        {
          "data": {
            "text/plain": [
              "array([[10, 20, 30],\n",
              "       [40, 50, 60]])"
            ]
          },
          "execution_count": 42,
          "metadata": {},
          "output_type": "execute_result"
        }
      ]
    },
    {
      "cell_type": "code",
      "metadata": {
        "id": "sShLpXhUsA70",
        "outputId": "ae0c36a6-622a-4663-8375-3db2d9866531"
      },
      "source": [
        "A + B"
      ],
      "execution_count": null,
      "outputs": [
        {
          "data": {
            "text/plain": [
              "array([[11, 22, 33],\n",
              "       [44, 55, 66]])"
            ]
          },
          "execution_count": 43,
          "metadata": {},
          "output_type": "execute_result"
        }
      ]
    },
    {
      "cell_type": "markdown",
      "metadata": {
        "id": "wyq6ai5FsA70"
      },
      "source": [
        "**Addition is *commutative***, meaning that $A + B = B + A$:"
      ]
    },
    {
      "cell_type": "code",
      "metadata": {
        "id": "lMLFcbiTsA70",
        "outputId": "18f42b72-bd2f-4528-ac0a-32a7d8fd3280"
      },
      "source": [
        "B + A"
      ],
      "execution_count": null,
      "outputs": [
        {
          "data": {
            "text/plain": [
              "array([[11, 22, 33],\n",
              "       [44, 55, 66]])"
            ]
          },
          "execution_count": 44,
          "metadata": {},
          "output_type": "execute_result"
        }
      ]
    },
    {
      "cell_type": "markdown",
      "metadata": {
        "id": "UlqOnacVsA72"
      },
      "source": [
        "**It is also *associative***, meaning that $A + (B + C) = (A + B) + C$:"
      ]
    },
    {
      "cell_type": "code",
      "metadata": {
        "id": "mDNedI1RsA72",
        "outputId": "b74d67a6-5231-4c30-f291-20c750c6349c"
      },
      "source": [
        "C = np.array([[100,200,300], [400, 500, 600]])\n",
        "\n",
        "A + (B + C)"
      ],
      "execution_count": null,
      "outputs": [
        {
          "data": {
            "text/plain": [
              "array([[111, 222, 333],\n",
              "       [444, 555, 666]])"
            ]
          },
          "execution_count": 45,
          "metadata": {},
          "output_type": "execute_result"
        }
      ]
    },
    {
      "cell_type": "code",
      "metadata": {
        "id": "FXvoo0kesA72",
        "outputId": "37fe290a-0326-4e9a-8429-ef179e7ab261"
      },
      "source": [
        "(A + B) + C"
      ],
      "execution_count": null,
      "outputs": [
        {
          "data": {
            "text/plain": [
              "array([[111, 222, 333],\n",
              "       [444, 555, 666]])"
            ]
          },
          "execution_count": 46,
          "metadata": {},
          "output_type": "execute_result"
        }
      ]
    },
    {
      "cell_type": "markdown",
      "metadata": {
        "id": "qILQJXIksA72"
      },
      "source": [
        "## Scalar multiplication\n",
        "A matrix $M$ can be multiplied by a scalar $\\lambda$. The result is noted $\\lambda M$, and it is a matrix of the same size as $M$ with all elements multiplied by $\\lambda$:\n",
        "\n",
        "$\\lambda M =\n",
        "\\begin{bmatrix}\n",
        "  \\lambda \\times M_{11} & \\lambda \\times M_{12} & \\lambda \\times M_{13} & \\cdots & \\lambda \\times M_{1n} \\\\\n",
        "  \\lambda \\times M_{21} & \\lambda \\times M_{22} & \\lambda \\times M_{23} & \\cdots & \\lambda \\times M_{2n} \\\\\n",
        "  \\lambda \\times M_{31} & \\lambda \\times M_{32} & \\lambda \\times M_{33} & \\cdots & \\lambda \\times M_{3n} \\\\\n",
        "  \\vdots & \\vdots & \\vdots & \\ddots & \\vdots \\\\\n",
        "  \\lambda \\times M_{m1} & \\lambda \\times M_{m2} & \\lambda \\times M_{m3} & \\cdots & \\lambda \\times M_{mn} \\\\\n",
        "\\end{bmatrix}$\n",
        "\n",
        "A more concise way of writing this is:\n",
        "\n",
        "$(\\lambda M)_{i,j} = \\lambda (M)_{i,j}$\n",
        "\n",
        "In NumPy, simply use the `*` operator to multiply a matrix by a scalar. For example:"
      ]
    },
    {
      "cell_type": "code",
      "metadata": {
        "id": "4G_KrQPZsA72",
        "outputId": "271c03c7-9fc6-4c3f-8040-fd74b0d9d38f"
      },
      "source": [
        "2 * A"
      ],
      "execution_count": null,
      "outputs": [
        {
          "data": {
            "text/plain": [
              "array([[ 20,  40,  60],\n",
              "       [ 80, 100, 120]])"
            ]
          },
          "execution_count": 47,
          "metadata": {},
          "output_type": "execute_result"
        }
      ]
    },
    {
      "cell_type": "markdown",
      "metadata": {
        "id": "XyuhmQaGsA73"
      },
      "source": [
        "Scalar multiplication is also defined on the right hand side, and gives the same result: $M \\lambda = \\lambda M$. For example:"
      ]
    },
    {
      "cell_type": "code",
      "metadata": {
        "id": "7quwBI4bsA73",
        "outputId": "05bfd0f9-1f15-42e6-c906-9124a3d423a5"
      },
      "source": [
        "A * 2"
      ],
      "execution_count": null,
      "outputs": [
        {
          "data": {
            "text/plain": [
              "array([[ 20,  40,  60],\n",
              "       [ 80, 100, 120]])"
            ]
          },
          "execution_count": 48,
          "metadata": {},
          "output_type": "execute_result"
        }
      ]
    },
    {
      "cell_type": "markdown",
      "metadata": {
        "id": "2QPTQj4jsA73"
      },
      "source": [
        "This makes scalar multiplication **commutative**.\n",
        "\n",
        "It is also **associative**, meaning that $\\alpha (\\beta M) = (\\alpha \\times \\beta) M$, where $\\alpha$ and $\\beta$ are scalars. For example:"
      ]
    },
    {
      "cell_type": "code",
      "metadata": {
        "id": "tAO6PZyNsA74",
        "outputId": "19f5add6-1880-4516-f36c-d13caec387c4"
      },
      "source": [
        "2 * (3 * A)"
      ],
      "execution_count": null,
      "outputs": [
        {
          "data": {
            "text/plain": [
              "array([[ 60, 120, 180],\n",
              "       [240, 300, 360]])"
            ]
          },
          "execution_count": 49,
          "metadata": {},
          "output_type": "execute_result"
        }
      ]
    },
    {
      "cell_type": "code",
      "metadata": {
        "id": "IXCusHE4sA74",
        "outputId": "0f78b5b0-b3a9-4bde-dda2-df25543859e0"
      },
      "source": [
        "(2 * 3) * A"
      ],
      "execution_count": null,
      "outputs": [
        {
          "data": {
            "text/plain": [
              "array([[ 60, 120, 180],\n",
              "       [240, 300, 360]])"
            ]
          },
          "execution_count": 50,
          "metadata": {},
          "output_type": "execute_result"
        }
      ]
    },
    {
      "cell_type": "markdown",
      "metadata": {
        "id": "DlIqTxOksA74"
      },
      "source": [
        "Finally, it is **distributive over addition** of matrices, meaning that $\\lambda (Q + R) = \\lambda Q + \\lambda R$:"
      ]
    },
    {
      "cell_type": "code",
      "metadata": {
        "id": "-MXIqOHxsA74",
        "outputId": "a97458f2-062f-402e-8e97-b2be6dd8d5c5"
      },
      "source": [
        "2 * (A + B)"
      ],
      "execution_count": null,
      "outputs": [
        {
          "data": {
            "text/plain": [
              "array([[ 22,  44,  66],\n",
              "       [ 88, 110, 132]])"
            ]
          },
          "execution_count": 51,
          "metadata": {},
          "output_type": "execute_result"
        }
      ]
    },
    {
      "cell_type": "code",
      "metadata": {
        "id": "w8hPm238sA74",
        "outputId": "c47006c5-814a-4907-ce9e-3a9787f1e128"
      },
      "source": [
        "2 * A + 2 * B"
      ],
      "execution_count": null,
      "outputs": [
        {
          "data": {
            "text/plain": [
              "array([[ 22,  44,  66],\n",
              "       [ 88, 110, 132]])"
            ]
          },
          "execution_count": 52,
          "metadata": {},
          "output_type": "execute_result"
        }
      ]
    },
    {
      "cell_type": "markdown",
      "metadata": {
        "id": "EoavEpCbsA74"
      },
      "source": [
        "## Matrix multiplication\n",
        "So far, matrix operations have been rather intuitive. But multiplying matrices is a bit more involved.\n",
        "\n",
        "A matrix $Q$ of size $m \\times n$ can be multiplied by a matrix $R$ of size $n \\times q$. It is noted simply $QR$ without multiplication sign or dot. The result $P$ is an $m \\times q$ matrix where each element is computed as a sum of products:\n",
        "\n",
        "$P_{i,j} = \\sum_{k=1}^n{Q_{i,k} \\times R_{k,j}}$\n",
        "\n",
        "The element at position $i,j$ in the resulting matrix is the sum of the products of elements in row $i$ of matrix $Q$ by the elements in column $j$ of matrix $R$.\n",
        "\n",
        "$P =\n",
        "\\begin{bmatrix}\n",
        "Q_{11} R_{11} + Q_{12} R_{21} + \\cdots + Q_{1n} R_{n1} &\n",
        "  Q_{11} R_{12} + Q_{12} R_{22} + \\cdots + Q_{1n} R_{n2} &\n",
        "    \\cdots &\n",
        "      Q_{11} R_{1q} + Q_{12} R_{2q} + \\cdots + Q_{1n} R_{nq} \\\\\n",
        "Q_{21} R_{11} + Q_{22} R_{21} + \\cdots + Q_{2n} R_{n1} &\n",
        "  Q_{21} R_{12} + Q_{22} R_{22} + \\cdots + Q_{2n} R_{n2} &\n",
        "    \\cdots &\n",
        "      Q_{21} R_{1q} + Q_{22} R_{2q} + \\cdots + Q_{2n} R_{nq} \\\\\n",
        "  \\vdots & \\vdots & \\ddots & \\vdots \\\\\n",
        "Q_{m1} R_{11} + Q_{m2} R_{21} + \\cdots + Q_{mn} R_{n1} &\n",
        "  Q_{m1} R_{12} + Q_{m2} R_{22} + \\cdots + Q_{mn} R_{n2} &\n",
        "    \\cdots &\n",
        "      Q_{m1} R_{1q} + Q_{m2} R_{2q} + \\cdots + Q_{mn} R_{nq}\n",
        "\\end{bmatrix}$\n",
        "\n",
        "You may notice that each element $P_{i,j}$ is the dot product of the row vector $Q_{i,*}$ and the column vector $R_{*,j}$:\n",
        "\n",
        "$P_{i,j} = Q_{i,*} \\cdot R_{*,j}$\n",
        "\n",
        "So we can rewrite $P$ more concisely as:\n",
        "\n",
        "$P =\n",
        "\\begin{bmatrix}\n",
        "Q_{1,*} \\cdot R_{*,1} & Q_{1,*} \\cdot R_{*,2} & \\cdots & Q_{1,*} \\cdot R_{*,q} \\\\\n",
        "Q_{2,*} \\cdot R_{*,1} & Q_{2,*} \\cdot R_{*,2} & \\cdots & Q_{2,*} \\cdot R_{*,q} \\\\\n",
        "\\vdots & \\vdots & \\ddots & \\vdots \\\\\n",
        "Q_{m,*} \\cdot R_{*,1} & Q_{m,*} \\cdot R_{*,2} & \\cdots & Q_{m,*} \\cdot R_{*,q}\n",
        "\\end{bmatrix}$\n"
      ]
    },
    {
      "cell_type": "markdown",
      "metadata": {
        "id": "qAQnEVcasA75"
      },
      "source": [
        "Let's multiply two matrices in NumPy, using `ndarray`'s `dot` method:\n",
        "\n",
        "$E = AD = \\begin{bmatrix}\n",
        "  10 & 20 & 30 \\\\\n",
        "  40 & 50 & 60\n",
        "\\end{bmatrix} \n",
        "\\begin{bmatrix}\n",
        "  2 & 3 & 5 & 7 \\\\\n",
        "  11 & 13 & 17 & 19 \\\\\n",
        "  23 & 29 & 31 & 37\n",
        "\\end{bmatrix} = \n",
        "\\begin{bmatrix}\n",
        "  930 & 1160 & 1320 & 1560 \\\\\n",
        "  2010 & 2510 & 2910 & 3450\n",
        "\\end{bmatrix}$"
      ]
    },
    {
      "cell_type": "code",
      "metadata": {
        "id": "di18Wx02sA75",
        "outputId": "f34b3c88-c066-4c3d-f237-0f49190ec639"
      },
      "source": [
        "D = np.array([\n",
        "        [ 2,  3,  5,  7],\n",
        "        [11, 13, 17, 19],\n",
        "        [23, 29, 31, 37]\n",
        "    ])\n",
        "E = A.dot(D)\n",
        "E"
      ],
      "execution_count": null,
      "outputs": [
        {
          "data": {
            "text/plain": [
              "array([[ 930, 1160, 1320, 1560],\n",
              "       [2010, 2510, 2910, 3450]])"
            ]
          },
          "execution_count": 53,
          "metadata": {},
          "output_type": "execute_result"
        }
      ]
    },
    {
      "cell_type": "markdown",
      "metadata": {
        "id": "txK4p6rysA75"
      },
      "source": [
        "Let's check this result by looking at one element, just to be sure: looking at $E_{2,3}$ for example, we need to multiply elements in $A$'s $2^{nd}$ row by elements in $D$'s $3^{rd}$ column, and sum up these products:"
      ]
    },
    {
      "cell_type": "code",
      "metadata": {
        "id": "3DYceeaqsA75",
        "outputId": "7d3a483d-269e-4a83-c4db-283432c6ca64"
      },
      "source": [
        "40*5 + 50*17 + 60*31"
      ],
      "execution_count": null,
      "outputs": [
        {
          "data": {
            "text/plain": [
              "2910"
            ]
          },
          "execution_count": 54,
          "metadata": {},
          "output_type": "execute_result"
        }
      ]
    },
    {
      "cell_type": "code",
      "metadata": {
        "id": "MWEgFPocsA75",
        "outputId": "b0efdc1e-d4bc-4194-bccc-3352559b294f"
      },
      "source": [
        "E[1,2]  # row 2, column 3"
      ],
      "execution_count": null,
      "outputs": [
        {
          "data": {
            "text/plain": [
              "2910"
            ]
          },
          "execution_count": 55,
          "metadata": {},
          "output_type": "execute_result"
        }
      ]
    },
    {
      "cell_type": "markdown",
      "metadata": {
        "id": "RznMGVrKsA76"
      },
      "source": [
        "Looks good! You can check the other elements until you get used to the algorithm.\n",
        "\n",
        "We multiplied a $2 \\times 3$ matrix by a $3 \\times 4$ matrix, so the result is a $2 \\times 4$ matrix. The first matrix's number of columns has to be equal to the second matrix's number of rows. If we try to multiple $D$ by $A$, we get an error because D has 4 columns while A has 2 rows:"
      ]
    },
    {
      "cell_type": "code",
      "metadata": {
        "id": "c1IXdnwksA76",
        "outputId": "1a8a35e8-012c-4271-d9b1-dc31e13e5983"
      },
      "source": [
        "try:\n",
        "    D.dot(A)\n",
        "except ValueError as e:\n",
        "    print(\"ValueError:\", e)"
      ],
      "execution_count": null,
      "outputs": [
        {
          "name": "stdout",
          "output_type": "stream",
          "text": [
            "ValueError: shapes (3,4) and (2,3) not aligned: 4 (dim 1) != 2 (dim 0)\n"
          ]
        }
      ]
    },
    {
      "cell_type": "markdown",
      "metadata": {
        "id": "VcWQ1MsBsA76"
      },
      "source": [
        "This illustrates the fact that **matrix multiplication is *NOT* commutative**: in general $QR ≠ RQ$\n",
        "\n",
        "In fact, $QR$ and $RQ$ are only *both* defined if $Q$ has size $m \\times n$ and $R$ has size $n \\times m$. Let's look at an example where both *are* defined and show that they are (in general) *NOT* equal:"
      ]
    },
    {
      "cell_type": "code",
      "metadata": {
        "id": "bOJe-ZOLsA76",
        "outputId": "ec382071-7711-488c-b3bb-94aeb7447be1"
      },
      "source": [
        "F = np.array([\n",
        "        [5,2],\n",
        "        [4,1],\n",
        "        [9,3] \n",
        "    ])\n",
        "A.dot(F)"
      ],
      "execution_count": null,
      "outputs": [
        {
          "data": {
            "text/plain": [
              "array([[400, 130],\n",
              "       [940, 310]])"
            ]
          },
          "execution_count": 57,
          "metadata": {},
          "output_type": "execute_result"
        }
      ]
    },
    {
      "cell_type": "code",
      "metadata": {
        "id": "NwPvmBy3sA76",
        "outputId": "f8c7c015-cfaf-485f-da2f-1fe832ec3a8d"
      },
      "source": [
        "F.dot(A)"
      ],
      "execution_count": null,
      "outputs": [
        {
          "data": {
            "text/plain": [
              "array([[130, 200, 270],\n",
              "       [ 80, 130, 180],\n",
              "       [210, 330, 450]])"
            ]
          },
          "execution_count": 58,
          "metadata": {},
          "output_type": "execute_result"
        }
      ]
    },
    {
      "cell_type": "markdown",
      "metadata": {
        "id": "030W9sE_sA77"
      },
      "source": [
        "On the other hand, **matrix multiplication *is* associative**, meaning that $Q(RS) = (QR)S$. Let's create a $4 \\times 5$ matrix $G$ to illustrate this:"
      ]
    },
    {
      "cell_type": "code",
      "metadata": {
        "id": "oucCWKPEsA77",
        "outputId": "e0a7d0d2-3268-4d34-e820-edbdd64eafc8"
      },
      "source": [
        "G = np.array([\n",
        "        [8,  7,  4,  2,  5],\n",
        "        [2,  5,  1,  0,  5],\n",
        "        [9, 11, 17, 21,  0],\n",
        "        [0,  1,  0,  1,  2]])\n",
        "A.dot(D).dot(G)     # (AB)G"
      ],
      "execution_count": null,
      "outputs": [
        {
          "data": {
            "text/plain": [
              "array([[21640, 28390, 27320, 31140, 13570],\n",
              "       [47290, 62080, 60020, 68580, 29500]])"
            ]
          },
          "execution_count": 59,
          "metadata": {},
          "output_type": "execute_result"
        }
      ]
    },
    {
      "cell_type": "code",
      "metadata": {
        "id": "qGzv-FggsA77",
        "outputId": "d816bec2-db10-4490-f4ef-e3d1f8b336b3"
      },
      "source": [
        "A.dot(D.dot(G))     # A(BG)"
      ],
      "execution_count": null,
      "outputs": [
        {
          "data": {
            "text/plain": [
              "array([[21640, 28390, 27320, 31140, 13570],\n",
              "       [47290, 62080, 60020, 68580, 29500]])"
            ]
          },
          "execution_count": 60,
          "metadata": {},
          "output_type": "execute_result"
        }
      ]
    },
    {
      "cell_type": "markdown",
      "metadata": {
        "id": "KjY2s2QFsA77"
      },
      "source": [
        "It is also ***distributive* over addition** of matrices, meaning that $(Q + R)S = QS + RS$. For example:"
      ]
    },
    {
      "cell_type": "code",
      "metadata": {
        "id": "86JvZLL_sA78",
        "outputId": "c23801fe-de94-41b0-d150-842bf12a1202"
      },
      "source": [
        "(A + B).dot(D)"
      ],
      "execution_count": null,
      "outputs": [
        {
          "data": {
            "text/plain": [
              "array([[1023, 1276, 1452, 1716],\n",
              "       [2211, 2761, 3201, 3795]])"
            ]
          },
          "execution_count": 61,
          "metadata": {},
          "output_type": "execute_result"
        }
      ]
    },
    {
      "cell_type": "code",
      "metadata": {
        "id": "q1bi4-X0sA78",
        "outputId": "14546eba-e14d-4029-900a-a0716e8aea75"
      },
      "source": [
        "A.dot(D) + B.dot(D)"
      ],
      "execution_count": null,
      "outputs": [
        {
          "data": {
            "text/plain": [
              "array([[1023, 1276, 1452, 1716],\n",
              "       [2211, 2761, 3201, 3795]])"
            ]
          },
          "execution_count": 62,
          "metadata": {},
          "output_type": "execute_result"
        }
      ]
    },
    {
      "cell_type": "markdown",
      "metadata": {
        "id": "dQfx8mdosA78"
      },
      "source": [
        "The product of a matrix $M$ by the identity matrix (of matching size) results in the same matrix $M$. More formally, if $M$ is an $m \\times n$ matrix, then:\n",
        "\n",
        "$M I_n = I_m M = M$\n",
        "\n",
        "This is generally written more concisely (since the size of the identity matrices is unambiguous given the context):\n",
        "\n",
        "$MI = IM = M$\n",
        "\n",
        "For example:"
      ]
    },
    {
      "cell_type": "code",
      "metadata": {
        "id": "1JTu8n-EsA78",
        "outputId": "05150660-ed01-461d-b5b1-91c425131926"
      },
      "source": [
        "A.dot(np.eye(3))"
      ],
      "execution_count": null,
      "outputs": [
        {
          "data": {
            "text/plain": [
              "array([[ 10.,  20.,  30.],\n",
              "       [ 40.,  50.,  60.]])"
            ]
          },
          "execution_count": 63,
          "metadata": {},
          "output_type": "execute_result"
        }
      ]
    },
    {
      "cell_type": "code",
      "metadata": {
        "id": "Y_TO9TshsA78",
        "outputId": "d048be4c-c8fa-4c4a-8ff0-459ab466699a"
      },
      "source": [
        "np.eye(2).dot(A)"
      ],
      "execution_count": null,
      "outputs": [
        {
          "data": {
            "text/plain": [
              "array([[ 10.,  20.,  30.],\n",
              "       [ 40.,  50.,  60.]])"
            ]
          },
          "execution_count": 64,
          "metadata": {},
          "output_type": "execute_result"
        }
      ]
    },
    {
      "cell_type": "markdown",
      "metadata": {
        "id": "W50dujd5sA78"
      },
      "source": [
        "**Caution**: NumPy's `*` operator performs elementwise multiplication, *NOT* a matrix multiplication:"
      ]
    },
    {
      "cell_type": "code",
      "metadata": {
        "scrolled": true,
        "id": "_LK6VrLHsA78",
        "outputId": "db3fc43e-e5ca-42c1-a0b2-14f34a32a9d3"
      },
      "source": [
        "A * B   # NOT a matrix multiplication"
      ],
      "execution_count": null,
      "outputs": [
        {
          "data": {
            "text/plain": [
              "array([[ 10,  40,  90],\n",
              "       [160, 250, 360]])"
            ]
          },
          "execution_count": 65,
          "metadata": {},
          "output_type": "execute_result"
        }
      ]
    },
    {
      "cell_type": "markdown",
      "metadata": {
        "id": "FDSeIQ2vsA79"
      },
      "source": [
        "**The @ infix operator**\n",
        "\n",
        "Python 3.5 [introduced](https://docs.python.org/3/whatsnew/3.5.html#pep-465-a-dedicated-infix-operator-for-matrix-multiplication) the `@` infix operator for matrix multiplication, and NumPy 1.10 added support for it. If you are using Python 3.5+ and NumPy 1.10+, you can simply write `A @ D` instead of `A.dot(D)`, making your code much more readable (but less portable). This operator also works for vector dot products."
      ]
    },
    {
      "cell_type": "code",
      "metadata": {
        "id": "zFIrjyX8sA79",
        "outputId": "f2f50b15-4bc7-4d7e-b793-ceebca2bab82"
      },
      "source": [
        "import sys\n",
        "print(\"Python version: {}.{}.{}\".format(*sys.version_info))\n",
        "print(\"Numpy version:\", np.version.version)\n",
        "\n",
        "# Uncomment the following line if your Python version is ≥3.5\n",
        "# and your NumPy version is ≥1.10:\n",
        "\n",
        "#A @ D"
      ],
      "execution_count": null,
      "outputs": [
        {
          "name": "stdout",
          "output_type": "stream",
          "text": [
            "Python version: 3.7.4\n",
            "Numpy version: 1.16.5\n"
          ]
        }
      ]
    },
    {
      "cell_type": "markdown",
      "metadata": {
        "id": "GFXXjWyGsA79"
      },
      "source": [
        "Note: `Q @ R` is actually equivalent to `Q.__matmul__(R)` which is implemented by NumPy as `np.matmul(Q, R)`, not as `Q.dot(R)`. The main difference is that `matmul` does not support scalar multiplication, while `dot` does, so you can write `Q.dot(3)`, which is equivalent to `Q * 3`, but you cannot write `Q @ 3` ([more details](http://stackoverflow.com/a/34142617/38626))."
      ]
    },
    {
      "cell_type": "markdown",
      "metadata": {
        "id": "UjM4lA1_sA79"
      },
      "source": [
        "## Matrix transpose\n",
        "The transpose of a matrix $M$ is a matrix noted $M^T$ such that the $i^{th}$ row in $M^T$ is equal to the $i^{th}$ column in $M$:\n",
        "\n",
        "$ A^T =\n",
        "\\begin{bmatrix}\n",
        "  10 & 20 & 30 \\\\\n",
        "  40 & 50 & 60\n",
        "\\end{bmatrix}^T =\n",
        "\\begin{bmatrix}\n",
        "  10 & 40 \\\\\n",
        "  20 & 50 \\\\\n",
        "  30 & 60\n",
        "\\end{bmatrix}$\n",
        "\n",
        "In other words, ($A^T)_{i,j}$ = $A_{j,i}$\n",
        "\n",
        "Obviously, if $M$ is an $m \\times n$ matrix, then $M^T$ is an $n \\times m$ matrix.\n",
        "\n",
        "Note: there are a few other notations, such as $M^t$, $M′$, or ${^t}M$.\n",
        "\n",
        "In NumPy, a matrix's transpose can be obtained simply using the `T` attribute:"
      ]
    },
    {
      "cell_type": "code",
      "metadata": {
        "id": "OH6HpXzWsA79",
        "outputId": "a43f0996-5c9e-4a1f-f54c-0f03eebd0cc9"
      },
      "source": [
        "A"
      ],
      "execution_count": null,
      "outputs": [
        {
          "data": {
            "text/plain": [
              "array([[10, 20, 30],\n",
              "       [40, 50, 60]])"
            ]
          },
          "execution_count": 67,
          "metadata": {},
          "output_type": "execute_result"
        }
      ]
    },
    {
      "cell_type": "code",
      "metadata": {
        "id": "Uvk29GHesA79",
        "outputId": "58d04257-0d55-41dd-b79f-984be66361d0"
      },
      "source": [
        "A.T"
      ],
      "execution_count": null,
      "outputs": [
        {
          "data": {
            "text/plain": [
              "array([[10, 40],\n",
              "       [20, 50],\n",
              "       [30, 60]])"
            ]
          },
          "execution_count": 68,
          "metadata": {},
          "output_type": "execute_result"
        }
      ]
    },
    {
      "cell_type": "markdown",
      "metadata": {
        "id": "TYpNarZrsA79"
      },
      "source": [
        "As you might expect, transposing a matrix twice returns the original matrix:"
      ]
    },
    {
      "cell_type": "code",
      "metadata": {
        "id": "RpyIlJqGsA79",
        "outputId": "b38157d7-d0c3-499d-ae5c-b0d7c15d379f"
      },
      "source": [
        "A.T.T"
      ],
      "execution_count": null,
      "outputs": [
        {
          "data": {
            "text/plain": [
              "array([[10, 20, 30],\n",
              "       [40, 50, 60]])"
            ]
          },
          "execution_count": 69,
          "metadata": {},
          "output_type": "execute_result"
        }
      ]
    },
    {
      "cell_type": "markdown",
      "metadata": {
        "id": "BMQjih6bsA7-"
      },
      "source": [
        "Transposition is distributive over addition of matrices, meaning that $(Q + R)^T = Q^T + R^T$. For example:"
      ]
    },
    {
      "cell_type": "code",
      "metadata": {
        "id": "_t4WyKIhsA7-",
        "outputId": "7ec14e79-5b8c-4b25-8070-d82ab5f2db86"
      },
      "source": [
        "(A + B).T"
      ],
      "execution_count": null,
      "outputs": [
        {
          "data": {
            "text/plain": [
              "array([[11, 44],\n",
              "       [22, 55],\n",
              "       [33, 66]])"
            ]
          },
          "execution_count": 70,
          "metadata": {},
          "output_type": "execute_result"
        }
      ]
    },
    {
      "cell_type": "code",
      "metadata": {
        "id": "yoDQt3m3sA7-",
        "outputId": "9088d514-ac2e-4351-fdc4-2f09b24ac7d8"
      },
      "source": [
        "A.T + B.T"
      ],
      "execution_count": null,
      "outputs": [
        {
          "data": {
            "text/plain": [
              "array([[11, 44],\n",
              "       [22, 55],\n",
              "       [33, 66]])"
            ]
          },
          "execution_count": 71,
          "metadata": {},
          "output_type": "execute_result"
        }
      ]
    },
    {
      "cell_type": "markdown",
      "metadata": {
        "id": "pMb6If_asA7_"
      },
      "source": [
        "Moreover, $(Q \\cdot R)^T = R^T \\cdot Q^T$. Note that the order is reversed. For example:"
      ]
    },
    {
      "cell_type": "code",
      "metadata": {
        "id": "IzoRgIhOsA7_",
        "outputId": "d7edf3a9-8866-4b29-f15b-b942f614782f"
      },
      "source": [
        "(A.dot(D)).T"
      ],
      "execution_count": null,
      "outputs": [
        {
          "data": {
            "text/plain": [
              "array([[ 930, 2010],\n",
              "       [1160, 2510],\n",
              "       [1320, 2910],\n",
              "       [1560, 3450]])"
            ]
          },
          "execution_count": 72,
          "metadata": {},
          "output_type": "execute_result"
        }
      ]
    },
    {
      "cell_type": "code",
      "metadata": {
        "id": "rT4r4ojVsA7_",
        "outputId": "d23bcd50-9061-4257-dcf1-a1124bfc98cf"
      },
      "source": [
        "D.T.dot(A.T)"
      ],
      "execution_count": null,
      "outputs": [
        {
          "data": {
            "text/plain": [
              "array([[ 930, 2010],\n",
              "       [1160, 2510],\n",
              "       [1320, 2910],\n",
              "       [1560, 3450]])"
            ]
          },
          "execution_count": 73,
          "metadata": {},
          "output_type": "execute_result"
        }
      ]
    },
    {
      "cell_type": "markdown",
      "metadata": {
        "id": "ggj9hQKnsA7_"
      },
      "source": [
        "A **symmetric matrix** $M$ is defined as a matrix that is equal to its transpose: $M^T = M$. This definition implies that it must be a square matrix whose elements are symmetric relative to the main diagonal, for example:\n",
        "\n",
        "\\begin{bmatrix}\n",
        "  17 & 22 & 27 & 49 \\\\\n",
        "  22 & 29 & 36 & 0 \\\\\n",
        "  27 & 36 & 45 & 2 \\\\\n",
        "  49 & 0 & 2 & 99\n",
        "\\end{bmatrix}\n",
        "\n",
        "The product of a matrix by its transpose is always a symmetric matrix, for example:"
      ]
    },
    {
      "cell_type": "code",
      "metadata": {
        "id": "vQtQ1nBLsA8A",
        "outputId": "d819183b-a93c-4bff-d648-be9f2bdf3cce"
      },
      "source": [
        "D.dot(D.T)"
      ],
      "execution_count": null,
      "outputs": [
        {
          "data": {
            "text/plain": [
              "array([[  87,  279,  547],\n",
              "       [ 279,  940, 1860],\n",
              "       [ 547, 1860, 3700]])"
            ]
          },
          "execution_count": 74,
          "metadata": {},
          "output_type": "execute_result"
        }
      ]
    },
    {
      "cell_type": "markdown",
      "metadata": {
        "collapsed": true,
        "id": "982J86FNsA8A"
      },
      "source": [
        "## Converting 1D arrays to 2D arrays in NumPy\n",
        "As we mentionned earlier, in NumPy (as opposed to Matlab, for example), 1D really means 1D: there is no such thing as a vertical 1D-array or a horizontal 1D-array. So you should not be surprised to see that transposing a 1D array does not do anything:"
      ]
    },
    {
      "cell_type": "code",
      "metadata": {
        "id": "4cPyz-xWsA8A",
        "outputId": "920513d4-9bff-475c-c63a-8407f2b4b2bb"
      },
      "source": [
        "u"
      ],
      "execution_count": null,
      "outputs": [
        {
          "data": {
            "text/plain": [
              "array([2, 5])"
            ]
          },
          "execution_count": 75,
          "metadata": {},
          "output_type": "execute_result"
        }
      ]
    },
    {
      "cell_type": "code",
      "metadata": {
        "id": "h6TzjikksA8A",
        "outputId": "fc49c848-7ae4-46af-e2de-edbb2b8c7c9b"
      },
      "source": [
        "u.T"
      ],
      "execution_count": null,
      "outputs": [
        {
          "data": {
            "text/plain": [
              "array([2, 5])"
            ]
          },
          "execution_count": 76,
          "metadata": {},
          "output_type": "execute_result"
        }
      ]
    },
    {
      "cell_type": "markdown",
      "metadata": {
        "id": "ZRhWGN8OsA8A"
      },
      "source": [
        "We want to convert $\\textbf{u}$ into a row vector before transposing it. There are a few ways to do this:"
      ]
    },
    {
      "cell_type": "code",
      "metadata": {
        "id": "LyKnooo3sA8A",
        "outputId": "9a8a0d62-9a5f-4c7b-836f-88f025bfeafb"
      },
      "source": [
        "u_row = np.array([u])\n",
        "u_row"
      ],
      "execution_count": null,
      "outputs": [
        {
          "data": {
            "text/plain": [
              "array([[2, 5]])"
            ]
          },
          "execution_count": 77,
          "metadata": {},
          "output_type": "execute_result"
        }
      ]
    },
    {
      "cell_type": "markdown",
      "metadata": {
        "id": "5wsU6DIEsA8A"
      },
      "source": [
        "Notice the extra square brackets: this is a 2D array with just one row (ie. a 1x2 matrix). In other words it really is a **row vector**."
      ]
    },
    {
      "cell_type": "code",
      "metadata": {
        "id": "-ifsSoKvsA8B",
        "outputId": "017978fc-924d-4844-ac08-8501ee1fe260"
      },
      "source": [
        "u[np.newaxis, :]"
      ],
      "execution_count": null,
      "outputs": [
        {
          "data": {
            "text/plain": [
              "array([[2, 5]])"
            ]
          },
          "execution_count": 78,
          "metadata": {},
          "output_type": "execute_result"
        }
      ]
    },
    {
      "cell_type": "markdown",
      "metadata": {
        "id": "0bf9lkswsA8B"
      },
      "source": [
        "This quite explicit: we are asking for a new vertical axis, keeping the existing data as the horizontal axis."
      ]
    },
    {
      "cell_type": "code",
      "metadata": {
        "id": "d0tX1mUnsA8B",
        "outputId": "8cabd0fb-e547-4c38-ed7f-26559eaf119d"
      },
      "source": [
        "u[np.newaxis]"
      ],
      "execution_count": null,
      "outputs": [
        {
          "data": {
            "text/plain": [
              "array([[2, 5]])"
            ]
          },
          "execution_count": 79,
          "metadata": {},
          "output_type": "execute_result"
        }
      ]
    },
    {
      "cell_type": "markdown",
      "metadata": {
        "id": "A--CK4ITsA8B"
      },
      "source": [
        "This is equivalent, but a little less explicit."
      ]
    },
    {
      "cell_type": "code",
      "metadata": {
        "id": "DSO2thEpsA8B",
        "outputId": "ccacf7ee-f140-49b7-e67b-dab9d1b11c8a"
      },
      "source": [
        "u[None]"
      ],
      "execution_count": null,
      "outputs": [
        {
          "data": {
            "text/plain": [
              "array([[2, 5]])"
            ]
          },
          "execution_count": 80,
          "metadata": {},
          "output_type": "execute_result"
        }
      ]
    },
    {
      "cell_type": "markdown",
      "metadata": {
        "id": "msv8eoDesA8B"
      },
      "source": [
        "This is the shortest version, but you probably want to avoid it because it is unclear. The reason it works is that `np.newaxis` is actually equal to `None`, so this is equivalent to the previous version.\n",
        "\n",
        "Ok, now let's transpose our row vector:"
      ]
    },
    {
      "cell_type": "code",
      "metadata": {
        "id": "eBf5Td8DsA8B",
        "outputId": "eb345ae6-0d9e-4dc9-a0db-8d7e0befcfbf"
      },
      "source": [
        "u_row.T"
      ],
      "execution_count": null,
      "outputs": [
        {
          "data": {
            "text/plain": [
              "array([[2],\n",
              "       [5]])"
            ]
          },
          "execution_count": 81,
          "metadata": {},
          "output_type": "execute_result"
        }
      ]
    },
    {
      "cell_type": "markdown",
      "metadata": {
        "id": "bmDRXtJtsA8C"
      },
      "source": [
        "Great! We now have a nice **column vector**.\n",
        "\n",
        "Rather than creating a row vector then transposing it, it is also possible to convert a 1D array directly into a column vector:"
      ]
    },
    {
      "cell_type": "code",
      "metadata": {
        "id": "SfK0g37UsA8C",
        "outputId": "bdf7b6f6-cc72-492d-e651-f3429d0fad28"
      },
      "source": [
        "u[:, np.newaxis]"
      ],
      "execution_count": null,
      "outputs": [
        {
          "data": {
            "text/plain": [
              "array([[2],\n",
              "       [5]])"
            ]
          },
          "execution_count": 82,
          "metadata": {},
          "output_type": "execute_result"
        }
      ]
    },
    {
      "cell_type": "markdown",
      "metadata": {
        "id": "jtMuWk4OsA8C"
      },
      "source": [
        "## Plotting a matrix\n",
        "We have already seen that vectors can been represented as points or arrows in N-dimensional space. Is there a good graphical representation of matrices? Well you can simply see a matrix as a list of vectors, so plotting a matrix results in many points or arrows. For example, let's create a $2 \\times 4$ matrix `P` and plot it as points:"
      ]
    },
    {
      "cell_type": "code",
      "metadata": {
        "id": "ANW2rS3fsA8C",
        "outputId": "50b5dc11-fc8f-4e2c-8e7a-c4b418bcca4d"
      },
      "source": [
        "P = np.array([\n",
        "        [3.0, 4.0, 1.0, 4.6],\n",
        "        [0.2, 3.5, 2.0, 0.5]\n",
        "    ])\n",
        "x_coords_P, y_coords_P = P\n",
        "plt.scatter(x_coords_P, y_coords_P)\n",
        "plt.axis([0, 5, 0, 4])\n",
        "plt.show()"
      ],
      "execution_count": null,
      "outputs": [
        {
          "data": {
            "image/png": "[encoded data removed]",
            "text/plain": [
              "<Figure size 432x288 with 1 Axes>"
            ]
          },
          "metadata": {
            "needs_background": "light"
          },
          "output_type": "display_data"
        }
      ]
    },
    {
      "cell_type": "markdown",
      "metadata": {
        "id": "PKt8_KjfsA8C"
      },
      "source": [
        "Of course we could also have stored the same 4 vectors as row vectors instead of column vectors, resulting in a $4 \\times 2$ matrix (the transpose of $P$, in fact). It is really an arbitrary choice.\n",
        "\n",
        "Since the vectors are ordered, you can see the matrix as a path and represent it with connected dots:"
      ]
    },
    {
      "cell_type": "code",
      "metadata": {
        "id": "2iKQWQ0OsA8D",
        "outputId": "17a8fccd-a364-4323-8e4b-834461eb0927"
      },
      "source": [
        "plt.plot(x_coords_P, y_coords_P, \"bo\")\n",
        "plt.plot(x_coords_P, y_coords_P, \"b--\")\n",
        "plt.axis([0, 5, 0, 4])\n",
        "plt.grid()\n",
        "plt.show()"
      ],
      "execution_count": null,
      "outputs": [
        {
          "data": {
            "image/png": "[encoded data removed]",
            "text/plain": [
              "<Figure size 432x288 with 1 Axes>"
            ]
          },
          "metadata": {
            "needs_background": "light"
          },
          "output_type": "display_data"
        }
      ]
    },
    {
      "cell_type": "markdown",
      "metadata": {
        "id": "5jfluTk5sA8D"
      },
      "source": [
        "Or you can represent it as a polygon: matplotlib's `Polygon` class expects an $n \\times 2$ NumPy array, not a $2 \\times n$ array, so we just need to give it $P^T$:"
      ]
    },
    {
      "cell_type": "code",
      "metadata": {
        "id": "gbFP4uAGsA8D",
        "outputId": "e000efa5-a1f9-42ca-d7d6-e1fcbe30269a"
      },
      "source": [
        "from matplotlib.patches import Polygon\n",
        "plt.gca().add_artist(Polygon(P.T))\n",
        "plt.axis([0, 5, 0, 4])\n",
        "plt.grid()\n",
        "plt.show()"
      ],
      "execution_count": null,
      "outputs": [
        {
          "data": {
            "image/png": "[encoded data removed]",
            "text/plain": [
              "<matplotlib.figure.Figure at 0x7f6e330592b0>"
            ]
          },
          "metadata": {},
          "output_type": "display_data"
        }
      ]
    },
    {
      "cell_type": "markdown",
      "metadata": {
        "id": "bLCGB65usA8D"
      },
      "source": [
        "## Geometric applications of matrix operations\n",
        "We saw earlier that vector addition results in a geometric translation, vector multiplication by a scalar results in rescaling (zooming in or out, centered on the origin), and vector dot product results in projecting a vector onto another vector, rescaling and measuring the resulting coordinate.\n",
        "\n",
        "Similarly, matrix operations have very useful geometric applications."
      ]
    },
    {
      "cell_type": "markdown",
      "metadata": {
        "id": "0HrCYdtfsA8D"
      },
      "source": [
        "### Addition = multiple geometric translations\n",
        "First, adding two matrices together is equivalent to adding all their vectors together. For example, let's create a $2 \\times 4$ matrix $H$ and add it to $P$, and look at the result:"
      ]
    },
    {
      "cell_type": "code",
      "metadata": {
        "id": "CoKWwWUtsA8E",
        "outputId": "f18ff005-ea1b-48b4-e0b7-b18cbdb1412c"
      },
      "source": [
        "H = np.array([\n",
        "        [ 0.5, -0.2, 0.2, -0.1],\n",
        "        [ 0.4,  0.4, 1.5, 0.6]\n",
        "    ])\n",
        "P_moved = P + H\n",
        "\n",
        "plt.gca().add_artist(Polygon(P.T, alpha=0.2))\n",
        "plt.gca().add_artist(Polygon(P_moved.T, alpha=0.3, color=\"r\"))\n",
        "for vector, origin in zip(H.T, P.T):\n",
        "    plot_vector2d(vector, origin=origin)\n",
        "\n",
        "plt.text(2.2, 1.8, \"$P$\", color=\"b\", fontsize=18)\n",
        "plt.text(2.0, 3.2, \"$P+H$\", color=\"r\", fontsize=18)\n",
        "plt.text(2.5, 0.5, \"$H_{*,1}$\", color=\"k\", fontsize=18)\n",
        "plt.text(4.1, 3.5, \"$H_{*,2}$\", color=\"k\", fontsize=18)\n",
        "plt.text(0.4, 2.6, \"$H_{*,3}$\", color=\"k\", fontsize=18)\n",
        "plt.text(4.4, 0.2, \"$H_{*,4}$\", color=\"k\", fontsize=18)\n",
        "\n",
        "plt.axis([0, 5, 0, 4])\n",
        "plt.grid()\n",
        "plt.show()"
      ],
      "execution_count": null,
      "outputs": [
        {
          "data": {
            "image/png": "[encoded data removed]",
            "text/plain": [
              "<matplotlib.figure.Figure at 0x7f6e3302d4a8>"
            ]
          },
          "metadata": {},
          "output_type": "display_data"
        }
      ]
    },
    {
      "cell_type": "markdown",
      "metadata": {
        "id": "s83GIGeCsA8E"
      },
      "source": [
        "If we add a matrix full of identical vectors, we get a simple geometric translation:"
      ]
    },
    {
      "cell_type": "code",
      "metadata": {
        "id": "DVH00wzbsA8E",
        "outputId": "90ba0ff7-0ebf-4f39-9bb7-ede61b4aace6"
      },
      "source": [
        "H2 = np.array([\n",
        "        [-0.5, -0.5, -0.5, -0.5],\n",
        "        [ 0.4,  0.4,  0.4,  0.4]\n",
        "    ])\n",
        "P_translated = P + H2\n",
        "\n",
        "plt.gca().add_artist(Polygon(P.T, alpha=0.2))\n",
        "plt.gca().add_artist(Polygon(P_translated.T, alpha=0.3, color=\"r\"))\n",
        "for vector, origin in zip(H2.T, P.T):\n",
        "    plot_vector2d(vector, origin=origin)\n",
        "\n",
        "plt.axis([0, 5, 0, 4])\n",
        "plt.grid()\n",
        "plt.show()"
      ],
      "execution_count": null,
      "outputs": [
        {
          "data": {
            "image/png": "[encoded data removed]",
            "text/plain": [
              "<matplotlib.figure.Figure at 0x7f6e32faaba8>"
            ]
          },
          "metadata": {},
          "output_type": "display_data"
        }
      ]
    },
    {
      "cell_type": "markdown",
      "metadata": {
        "id": "yT43wLQjsA8F"
      },
      "source": [
        "Although matrices can only be added together if they have the same size, NumPy allows adding a row vector or a column vector to a matrix: this is called *broadcasting* and is explained in further details in the [NumPy tutorial](tools_numpy.ipynb). We could have obtained the same result as above with:"
      ]
    },
    {
      "cell_type": "code",
      "metadata": {
        "id": "pVEcwyIbsA8F",
        "outputId": "b0fd0dc0-1085-48db-9007-89410143c6be"
      },
      "source": [
        "P"
      ],
      "execution_count": null,
      "outputs": [
        {
          "data": {
            "text/plain": [
              "array([[3. , 4. , 1. , 4.6],\n",
              "       [0.2, 3.5, 2. , 0.5]])"
            ]
          },
          "execution_count": 37,
          "metadata": {},
          "output_type": "execute_result"
        }
      ]
    },
    {
      "cell_type": "code",
      "metadata": {
        "id": "cgpuPauYsA8F",
        "outputId": "13c7698b-f462-4134-d481-61a163bbf39f"
      },
      "source": [
        "P + [[-0.5], [0.4]]  # same as P + H2, thanks to NumPy broadcasting"
      ],
      "execution_count": null,
      "outputs": [
        {
          "data": {
            "text/plain": [
              "array([[ 2.5,  3.5,  0.5,  4.1],\n",
              "       [ 0.6,  3.9,  2.4,  0.9]])"
            ]
          },
          "execution_count": 88,
          "metadata": {},
          "output_type": "execute_result"
        }
      ]
    },
    {
      "cell_type": "markdown",
      "metadata": {
        "id": "Wfu0e0xZsA8G"
      },
      "source": [
        "### Scalar multiplication\n",
        "Multiplying a matrix by a scalar results in all its vectors being multiplied by that scalar, so unsurprisingly, the geometric result is a rescaling of the entire figure. For example, let's rescale our polygon by a factor of 60% (zooming out, centered on the origin):"
      ]
    },
    {
      "cell_type": "code",
      "metadata": {
        "id": "NkKJ_FGrsA8G",
        "outputId": "89512874-db91-43dd-db45-4beb55fdda47"
      },
      "source": [
        "def plot_transformation(P_before, P_after, text_before, text_after, axis = [0, 5, 0, 4], arrows=False):\n",
        "    if arrows:\n",
        "        for vector_before, vector_after in zip(P_before.T, P_after.T):\n",
        "            plot_vector2d(vector_before, color=\"blue\", linestyle=\"--\")\n",
        "            plot_vector2d(vector_after, color=\"red\", linestyle=\"-\")\n",
        "    plt.gca().add_artist(Polygon(P_before.T, alpha=0.2))\n",
        "    plt.gca().add_artist(Polygon(P_after.T, alpha=0.3, color=\"r\"))\n",
        "    plt.text(P_before[0].mean(), P_before[1].mean(), text_before, fontsize=18, color=\"blue\")\n",
        "    plt.text(P_after[0].mean(), P_after[1].mean(), text_after, fontsize=18, color=\"red\")\n",
        "    plt.axis(axis)\n",
        "    plt.grid()\n",
        "\n",
        "P_rescaled = 0.60 * P\n",
        "plot_transformation(P, P_rescaled, \"$P$\", \"$0.6 P$\", arrows=True)\n",
        "plt.show()"
      ],
      "execution_count": null,
      "outputs": [
        {
          "data": {
            "image/png": "[encoded data removed]",
            "text/plain": [
              "<matplotlib.figure.Figure at 0x7f6e32cdd5c0>"
            ]
          },
          "metadata": {},
          "output_type": "display_data"
        }
      ]
    },
    {
      "cell_type": "markdown",
      "metadata": {
        "id": "vSwr79BisA8G"
      },
      "source": [
        "### Matrix multiplication – Projection onto an axis\n",
        "Matrix multiplication is more complex to visualize, but it is also the most powerful tool in the box.\n",
        "\n",
        "Let's start simple, by defining a $1 \\times 2$ matrix $U = \\begin{bmatrix} 1 & 0 \\end{bmatrix}$. This row vector is just the horizontal unit vector."
      ]
    },
    {
      "cell_type": "code",
      "metadata": {
        "collapsed": true,
        "id": "z92Si_4QsA8G"
      },
      "source": [
        "U = np.array([[1, 0]])"
      ],
      "execution_count": null,
      "outputs": []
    },
    {
      "cell_type": "markdown",
      "metadata": {
        "id": "QVwTEbRGsA8G"
      },
      "source": [
        "Now let's look at the dot product $U \\cdot P$:"
      ]
    },
    {
      "cell_type": "code",
      "metadata": {
        "id": "8WAaMLJAsA8G",
        "outputId": "5fcc520b-87f2-4cbf-c6b7-81ddb3a7d3ce"
      },
      "source": [
        "U.dot(P) #matrix multiplication"
      ],
      "execution_count": null,
      "outputs": [
        {
          "data": {
            "text/plain": [
              "array([[ 3. ,  4. ,  1. ,  4.6]])"
            ]
          },
          "execution_count": 91,
          "metadata": {},
          "output_type": "execute_result"
        }
      ]
    },
    {
      "cell_type": "markdown",
      "metadata": {
        "id": "IrQwYybKsA8G"
      },
      "source": [
        "These are the horizontal coordinates of the vectors in $P$. In other words, we just projected $P$ onto the horizontal axis:"
      ]
    },
    {
      "cell_type": "code",
      "metadata": {
        "id": "3Cm3XHyhsA8H",
        "outputId": "c000921c-6f09-4828-edfa-2efc6ac2496d"
      },
      "source": [
        "def plot_projection(U, P):\n",
        "    U_P = U.dot(P)\n",
        "    \n",
        "    axis_end = 100 * U\n",
        "    plot_vector2d(axis_end[0], color=\"black\")\n",
        "\n",
        "    plt.gca().add_artist(Polygon(P.T, alpha=0.2))\n",
        "    for vector, proj_coordinate in zip(P.T, U_P.T):\n",
        "        proj_point = proj_coordinate * U\n",
        "        plt.plot(proj_point[0][0], proj_point[0][1], \"ro\")\n",
        "        plt.plot([vector[0], proj_point[0][0]], [vector[1], proj_point[0][1]], \"r--\")\n",
        "\n",
        "    plt.axis([0, 5, 0, 4])\n",
        "    plt.grid()\n",
        "    plt.show()\n",
        "\n",
        "plot_projection(U, P)"
      ],
      "execution_count": null,
      "outputs": [
        {
          "data": {
            "image/png": "[encoded data removed]",
            "text/plain": [
              "<matplotlib.figure.Figure at 0x7f6e32cc1be0>"
            ]
          },
          "metadata": {},
          "output_type": "display_data"
        }
      ]
    },
    {
      "cell_type": "markdown",
      "metadata": {
        "id": "jW-Kg4blsA8H"
      },
      "source": [
        "We can actually project on any other axis by just replacing $U$ with any other unit vector. For example, let's project on the axis that is at a 30° angle above the horizontal axis:"
      ]
    },
    {
      "cell_type": "code",
      "metadata": {
        "id": "OsvE25ZRsA8I",
        "outputId": "d8bfee1a-5775-4f6a-be03-da84b22e8eff"
      },
      "source": [
        "angle30 = 30 * np.pi / 180  # angle in radians\n",
        "U_30 = np.array([[np.cos(angle30), np.sin(angle30)]])\n",
        "\n",
        "plot_projection(U_30, P)"
      ],
      "execution_count": null,
      "outputs": [
        {
          "data": {
            "image/png": "[encoded data removed]",
            "text/plain": [
              "<matplotlib.figure.Figure at 0x7f6e32d68828>"
            ]
          },
          "metadata": {},
          "output_type": "display_data"
        }
      ]
    },
    {
      "cell_type": "markdown",
      "metadata": {
        "id": "WffBiO3VsA8I"
      },
      "source": [
        "Good! Remember that the dot product of a unit vector and a matrix basically performs a projection on an axis and gives us the coordinates of the resulting points on that axis."
      ]
    },
    {
      "cell_type": "markdown",
      "metadata": {
        "id": "28LIugZrsA8I"
      },
      "source": [
        "### Matrix multiplication – Rotation\n",
        "Now let's create a $2 \\times 2$ matrix $V$ containing two unit vectors that make 30° and 120° angles with the horizontal axis:\n",
        "\n",
        "$V = \\begin{bmatrix} \\cos(30°) & \\sin(30°) \\\\ \\cos(120°) & \\sin(120°) \\end{bmatrix}$"
      ]
    },
    {
      "cell_type": "code",
      "metadata": {
        "id": "vxo8-WuQsA8I",
        "outputId": "881032df-5e1e-4e93-fe55-4348ed54394c"
      },
      "source": [
        "angle120 = 120 * np.pi / 180\n",
        "V = np.array([\n",
        "        [np.cos(angle30), np.sin(angle30)],\n",
        "        [np.cos(angle120), np.sin(angle120)]\n",
        "    ])\n",
        "V"
      ],
      "execution_count": null,
      "outputs": [
        {
          "data": {
            "text/plain": [
              "array([[ 0.8660254,  0.5      ],\n",
              "       [-0.5      ,  0.8660254]])"
            ]
          },
          "execution_count": 94,
          "metadata": {},
          "output_type": "execute_result"
        }
      ]
    },
    {
      "cell_type": "markdown",
      "metadata": {
        "id": "B8TjmxNlsA8I"
      },
      "source": [
        "Let's look at the product $VP$:"
      ]
    },
    {
      "cell_type": "code",
      "metadata": {
        "id": "PO354yjcsA8J",
        "outputId": "e9ad33e3-b456-4534-ed82-b93de3a077d3"
      },
      "source": [
        "V.dot(P)"
      ],
      "execution_count": null,
      "outputs": [
        {
          "data": {
            "text/plain": [
              "array([[ 2.69807621,  5.21410162,  1.8660254 ,  4.23371686],\n",
              "       [-1.32679492,  1.03108891,  1.23205081, -1.8669873 ]])"
            ]
          },
          "execution_count": 95,
          "metadata": {},
          "output_type": "execute_result"
        }
      ]
    },
    {
      "cell_type": "markdown",
      "metadata": {
        "id": "dO_DgvDssA8J"
      },
      "source": [
        "The first row is equal to $V_{1,*} P$, which is the coordinates of the projection of $P$ onto the 30° axis, as we have seen above. The second row is $V_{2,*} P$, which is the coordinates of the projection of $P$ onto the 120° axis. So basically we obtained the coordinates of $P$ after rotating the horizontal and vertical axes by 30° (or equivalently after rotating the polygon by -30° around the origin)! Let's plot $VP$ to see this:"
      ]
    },
    {
      "cell_type": "code",
      "metadata": {
        "id": "xOvAhX3jsA8J",
        "outputId": "11282baa-f124-4f12-893e-dc3f2c31119a"
      },
      "source": [
        "P_rotated = V.dot(P)\n",
        "plot_transformation(P, P_rotated, \"$P$\", \"$VP$\", [-2, 6, -2, 4], arrows=True)\n",
        "plt.show()"
      ],
      "execution_count": null,
      "outputs": [
        {
          "data": {
            "image/png": "[encoded data removed]",
            "text/plain": [
              "<matplotlib.figure.Figure at 0x7f6e32be3da0>"
            ]
          },
          "metadata": {},
          "output_type": "display_data"
        }
      ]
    },
    {
      "cell_type": "markdown",
      "metadata": {
        "id": "1AwHwa4JsA8J"
      },
      "source": [
        "Matrix $V$ is called a **rotation matrix**."
      ]
    },
    {
      "cell_type": "markdown",
      "metadata": {
        "id": "ntD68ABasA8K"
      },
      "source": [
        "### Matrix multiplication – Other linear transformations\n",
        "More generally, any linear transformation $f$ that maps n-dimensional vectors to m-dimensional vectors can be represented as an $m \\times n$ matrix. For example, say $\\textbf{u}$ is a 3-dimensional vector:\n",
        "\n",
        "$\\textbf{u} = \\begin{pmatrix} x \\\\ y \\\\ z \\end{pmatrix}$\n",
        "\n",
        "and $f$ is defined as:\n",
        "\n",
        "$f(\\textbf{u}) = \\begin{pmatrix}\n",
        "ax + by + cz \\\\\n",
        "dx + ey + fz\n",
        "\\end{pmatrix}$\n",
        "\n",
        "This transormation $f$ maps 3-dimensional vectors to 2-dimensional vectors in a linear way (ie. the resulting coordinates only involve sums of multiples of the original coordinates). We can represent this transformation as matrix $F$:\n",
        "\n",
        "$F = \\begin{bmatrix}\n",
        "a & b & c \\\\\n",
        "d & e & f\n",
        "\\end{bmatrix}$\n",
        "\n",
        "Now, to compute $f(\\textbf{u})$ we can simply do a matrix multiplication:\n",
        "\n",
        "$f(\\textbf{u}) = F \\textbf{u}$\n",
        "\n",
        "If we have a matric $G = \\begin{bmatrix}\\textbf{u}_1 & \\textbf{u}_2 & \\cdots & \\textbf{u}_q \\end{bmatrix}$, where each $\\textbf{u}_i$ is a 3-dimensional column vector, then $FG$ results in the linear transformation of all vectors $\\textbf{u}_i$ as defined by the matrix $F$:\n",
        "\n",
        "$FG = \\begin{bmatrix}f(\\textbf{u}_1) & f(\\textbf{u}_2) & \\cdots & f(\\textbf{u}_q) \\end{bmatrix}$\n",
        "\n",
        "To summarize, **the matrix on the left hand side of a dot product specifies what linear transormation to apply to the right hand side vectors**. We have already shown that this can be used to perform projections and rotations, but any other linear transformation is possible. For example, here is a transformation known as a *shear mapping*:"
      ]
    },
    {
      "cell_type": "code",
      "metadata": {
        "scrolled": true,
        "id": "N0wJVM3nsA8K",
        "outputId": "3ab5fd38-f299-4ce0-baca-7890fafd796b"
      },
      "source": [
        "F_shear = np.array([\n",
        "        [1, 1.5],\n",
        "        [0, 1]\n",
        "    ])\n",
        "plot_transformation(P, F_shear.dot(P), \"$P$\", \"$F_{shear} P$\",\n",
        "                    axis=[0, 10, 0, 7])\n",
        "plt.show()"
      ],
      "execution_count": null,
      "outputs": [
        {
          "data": {
            "image/png": "[encoded data removed]",
            "text/plain": [
              "<matplotlib.figure.Figure at 0x7f6e32bdf358>"
            ]
          },
          "metadata": {},
          "output_type": "display_data"
        }
      ]
    },
    {
      "cell_type": "markdown",
      "metadata": {
        "id": "UNhxNARJsA8K"
      },
      "source": [
        "Let's look at how this transformation affects the **unit square**: "
      ]
    },
    {
      "cell_type": "code",
      "metadata": {
        "id": "jTYMOnKlsA8K",
        "outputId": "35c08027-404b-43c9-91a1-612317642b15"
      },
      "source": [
        "Square = np.array([\n",
        "        [0, 0, 1, 1],\n",
        "        [0, 1, 1, 0]\n",
        "    ])\n",
        "plot_transformation(Square, F_shear.dot(Square), \"$Square$\", \"$F_{shear} Square$\",\n",
        "                    axis=[0, 2.6, 0, 1.8])\n",
        "plt.show()"
      ],
      "execution_count": null,
      "outputs": [
        {
          "data": {
            "image/png": "[encoded data removed]",
            "text/plain": [
              "<matplotlib.figure.Figure at 0x7f6e32d62da0>"
            ]
          },
          "metadata": {},
          "output_type": "display_data"
        }
      ]
    },
    {
      "cell_type": "markdown",
      "metadata": {
        "id": "fn-iJ_sbsA8K"
      },
      "source": [
        "Now let's look at a **squeeze mapping**: Type of linear map that preserves Euclidean area of regions in the Cartesian plane, but is not a rotation or shear mapping"
      ]
    },
    {
      "cell_type": "code",
      "metadata": {
        "id": "OhiMgKGAsA8K",
        "outputId": "5f73e09a-e225-4625-dbcb-6a53719c8f23"
      },
      "source": [
        "F_squeeze = np.array([\n",
        "        [1.4, 0],\n",
        "        [0, 1/1.4]\n",
        "    ])\n",
        "plot_transformation(P, F_squeeze.dot(P), \"$P$\", \"$F_{squeeze} P$\",\n",
        "                    axis=[0, 7, 0, 5])\n",
        "plt.show()"
      ],
      "execution_count": null,
      "outputs": [
        {
          "data": {
            "image/png": "[encoded data removed]",
            "text/plain": [
              "<matplotlib.figure.Figure at 0x7f6e32b74518>"
            ]
          },
          "metadata": {},
          "output_type": "display_data"
        }
      ]
    },
    {
      "cell_type": "markdown",
      "metadata": {
        "id": "hmVuZ57VsA8L"
      },
      "source": [
        "The effect on the unit square is:"
      ]
    },
    {
      "cell_type": "code",
      "metadata": {
        "id": "9OhVC3uwsA8L",
        "outputId": "8f354645-1ec4-474d-a38f-2ecb58a05a33"
      },
      "source": [
        "plot_transformation(Square, F_squeeze.dot(Square), \"$Square$\", \"$F_{squeeze} Square$\",\n",
        "                    axis=[0, 1.8, 0, 1.2])\n",
        "plt.show()"
      ],
      "execution_count": null,
      "outputs": [
        {
          "data": {
            "image/png": "[encoded data removed]",
            "text/plain": [
              "<matplotlib.figure.Figure at 0x7f6e32b40b38>"
            ]
          },
          "metadata": {},
          "output_type": "display_data"
        }
      ]
    },
    {
      "cell_type": "markdown",
      "metadata": {
        "id": "r6aw1p0TsA8L"
      },
      "source": [
        "Let's show a last one: reflection through the horizontal axis:"
      ]
    },
    {
      "cell_type": "code",
      "metadata": {
        "id": "MY0xTy2LsA8L",
        "outputId": "6e1c10c3-3e53-4fe4-d566-c12d17d3df66"
      },
      "source": [
        "F_reflect = np.array([\n",
        "        [1, 0],\n",
        "        [0, -1]\n",
        "    ])\n",
        "plot_transformation(P, F_reflect.dot(P), \"$P$\", \"$F_{reflect} P$\",\n",
        "                    axis=[-2, 9, -4.5, 4.5])\n",
        "plt.show()"
      ],
      "execution_count": null,
      "outputs": [
        {
          "data": {
            "image/png": "[encoded data removed]",
            "text/plain": [
              "<matplotlib.figure.Figure at 0x7f6e32f119e8>"
            ]
          },
          "metadata": {},
          "output_type": "display_data"
        }
      ]
    },
    {
      "cell_type": "markdown",
      "metadata": {
        "id": "IyntFhFZsA8L"
      },
      "source": [
        "## Matrix inverse\n",
        "Now that we understand that a matrix can represent any linear transformation, a natural question is: can we find a transformation matrix that reverses the effect of a given transformation matrix $F$? The answer is yes… sometimes! When it exists, such a matrix is called the **inverse** of $F$, and it is noted $F^{-1}$.\n",
        "\n",
        "For example, the rotation, the shear mapping and the squeeze mapping above all have inverse transformations. Let's demonstrate this on the shear mapping:"
      ]
    },
    {
      "cell_type": "code",
      "metadata": {
        "id": "-sMYsd1msA8M",
        "outputId": "b3fd2c8b-203b-4e55-8e48-adeedffce582"
      },
      "source": [
        "F_inv_shear = np.array([\n",
        "    [1, -1.5],\n",
        "    [0, 1]\n",
        "])\n",
        "P_sheared = F_shear.dot(P)\n",
        "P_unsheared = F_inv_shear.dot(P_sheared)\n",
        "plot_transformation(P_sheared, P_unsheared, \"$P_{sheared}$\", \"$P_{unsheared}$\",\n",
        "                    axis=[0, 10, 0, 7])\n",
        "plt.plot(P[0], P[1], \"b--\")\n",
        "plt.show()"
      ],
      "execution_count": null,
      "outputs": [
        {
          "data": {
            "image/png": "[encoded data removed]",
            "text/plain": [
              "<matplotlib.figure.Figure at 0x7f6e32fc3f28>"
            ]
          },
          "metadata": {},
          "output_type": "display_data"
        }
      ]
    },
    {
      "cell_type": "markdown",
      "metadata": {
        "id": "XGFG-dUjsA8M"
      },
      "source": [
        "We applied a shear mapping on $P$, just like we did before, but then we applied a second transformation to the result, and *lo and behold* this had the effect of coming back to the original $P$ (we plotted the original $P$'s outline to double check). The second transformation is the inverse of the first one.\n",
        "\n",
        "We defined the inverse matrix $F_{shear}^{-1}$ manually this time, but NumPy provides an `inv` function to compute a matrix's inverse, so we could have written instead:"
      ]
    },
    {
      "cell_type": "code",
      "metadata": {
        "id": "HMJQ7ImYsA8M",
        "outputId": "22cec65c-57f5-4201-e1f1-f1e963d3cd19"
      },
      "source": [
        "F_inv_shear = LA.inv(F_shear)\n",
        "F_inv_shear"
      ],
      "execution_count": null,
      "outputs": [
        {
          "data": {
            "text/plain": [
              "array([[ 1. , -1.5],\n",
              "       [ 0. ,  1. ]])"
            ]
          },
          "execution_count": 103,
          "metadata": {},
          "output_type": "execute_result"
        }
      ]
    },
    {
      "cell_type": "markdown",
      "metadata": {
        "id": "tKCPyhAesA8M"
      },
      "source": [
        "**Only square matrices can be inversed**. This makes sense when you think about it: if you have a transformation that reduces the number of dimensions, then some information is lost and there is no way that you can get it back. For example say you use a $2 \\times 3$ matrix to project a 3D object onto a plane. The result may look like this:"
      ]
    },
    {
      "cell_type": "code",
      "metadata": {
        "id": "mkj2qMPNsA8M",
        "outputId": "f0c039fc-0c2d-420d-971b-83dad112dcf0"
      },
      "source": [
        "plt.plot([0, 0, 1, 1, 0, 0.1, 0.1, 0, 0.1, 1.1, 1.0, 1.1, 1.1, 1.0, 1.1, 0.1],\n",
        "         [0, 1, 1, 0, 0, 0.1, 1.1, 1.0, 1.1, 1.1, 1.0, 1.1, 0.1, 0, 0.1, 0.1],\n",
        "         \"r-\")\n",
        "plt.axis([-0.5, 2.1, -0.5, 1.5])\n",
        "plt.show()"
      ],
      "execution_count": null,
      "outputs": [
        {
          "data": {
            "image/png": "[encoded data removed]",
            "text/plain": [
              "<matplotlib.figure.Figure at 0x7f6e32e643c8>"
            ]
          },
          "metadata": {},
          "output_type": "display_data"
        }
      ]
    },
    {
      "cell_type": "markdown",
      "metadata": {
        "id": "wTHjXegrsA8M"
      },
      "source": [
        "Looking at this image, it is impossible to tell whether this is the projection of a cube or the projection of a narrow rectangular object. Some information has been lost in the projection.\n",
        "\n",
        "Even square transformation matrices can lose information. For example, consider this transformation matrix:"
      ]
    },
    {
      "cell_type": "code",
      "metadata": {
        "id": "Cqj-jSvmsA8N",
        "outputId": "6b8a78d7-962d-43d2-ec96-4a23e882ea4b"
      },
      "source": [
        "F_project = np.array([\n",
        "        [1, 0],\n",
        "        [0, 0]\n",
        "    ])\n",
        "plot_transformation(P, F_project.dot(P), \"$P$\", \"$F_{project} \\cdot P$\",\n",
        "                    axis=[0, 6, -1, 4])\n",
        "plt.show()"
      ],
      "execution_count": null,
      "outputs": [
        {
          "data": {
            "image/png": "[encoded data removed]",
            "text/plain": [
              "<matplotlib.figure.Figure at 0x7f6e32f36b38>"
            ]
          },
          "metadata": {},
          "output_type": "display_data"
        }
      ]
    },
    {
      "cell_type": "markdown",
      "metadata": {
        "id": "kvNXXBgDsA8N"
      },
      "source": [
        "This transformation matrix performs a projection onto the horizontal axis. Our polygon gets entirely flattened out so some information is entirely lost and it is impossible to go back to the original polygon using a linear transformation. In other words, $F_{project}$ has no inverse. Such a square matrix that cannot be inversed is called a **singular matrix** (aka degenerate matrix). If we ask NumPy to calculate its inverse, it raises an exception:"
      ]
    },
    {
      "cell_type": "code",
      "metadata": {
        "id": "p77tPjuWsA8N",
        "outputId": "fc21f5ba-659e-479f-c7b6-635c218102b2"
      },
      "source": [
        "try:\n",
        "    LA.inv(F_project)\n",
        "except LA.LinAlgError as e:\n",
        "    print(\"LinAlgError:\", e)"
      ],
      "execution_count": null,
      "outputs": [
        {
          "name": "stdout",
          "output_type": "stream",
          "text": [
            "LinAlgError: Singular matrix\n"
          ]
        }
      ]
    },
    {
      "cell_type": "markdown",
      "metadata": {
        "id": "vwzw6oNDsA8N"
      },
      "source": [
        "Here is another example of a singular matrix. This one performs a projection onto the axis at a 30° angle above the horizontal axis:"
      ]
    },
    {
      "cell_type": "code",
      "metadata": {
        "id": "8B_gXZp9sA8N",
        "outputId": "2f05ffb7-1d77-4381-db0b-bfc1ef6c23d1"
      },
      "source": [
        "angle30 = 30 * np.pi / 180\n",
        "F_project_30 = np.array([\n",
        "               [np.cos(angle30)**2, np.sin(2*angle30)/2],\n",
        "               [np.sin(2*angle30)/2, np.sin(angle30)**2]\n",
        "         ])\n",
        "plot_transformation(P, F_project_30.dot(P), \"$P$\", \"$F_{project\\_30} \\cdot P$\",\n",
        "                    axis=[0, 6, -1, 4])\n",
        "plt.show()"
      ],
      "execution_count": null,
      "outputs": [
        {
          "data": {
            "image/png": "[encoded data removed]",
            "text/plain": [
              "<matplotlib.figure.Figure at 0x7f6e32fcf2b0>"
            ]
          },
          "metadata": {},
          "output_type": "display_data"
        }
      ]
    },
    {
      "cell_type": "markdown",
      "metadata": {
        "id": "83mshfeGsA8N"
      },
      "source": [
        "But this time, due to floating point rounding errors, NumPy manages to calculate an inverse (notice how large the elements are, though):"
      ]
    },
    {
      "cell_type": "code",
      "metadata": {
        "id": "3SzltmfksA8N",
        "outputId": "032b89f5-3a01-4290-a012-792db54308ed"
      },
      "source": [
        "LA.inv(F_project_30)"
      ],
      "execution_count": null,
      "outputs": [
        {
          "data": {
            "text/plain": [
              "array([[  1.20095990e+16,  -2.08012357e+16],\n",
              "       [ -2.08012357e+16,   3.60287970e+16]])"
            ]
          },
          "execution_count": 108,
          "metadata": {},
          "output_type": "execute_result"
        }
      ]
    },
    {
      "cell_type": "markdown",
      "metadata": {
        "id": "k8M1naDpsA8N"
      },
      "source": [
        "As you might expect, the dot product of a matrix by its inverse results in the identity matrix:\n",
        "\n",
        "$M \\cdot M^{-1} = M^{-1} \\cdot M = I$\n",
        "\n",
        "This makes sense since doing a linear transformation followed by the inverse transformation results in no change at all."
      ]
    },
    {
      "cell_type": "code",
      "metadata": {
        "id": "JAhE66oZsA8O",
        "outputId": "9a7723b6-3639-4eb4-e66e-7cdd0103eaa7"
      },
      "source": [
        "F_shear.dot(LA.inv(F_shear))"
      ],
      "execution_count": null,
      "outputs": [
        {
          "data": {
            "text/plain": [
              "array([[ 1.,  0.],\n",
              "       [ 0.,  1.]])"
            ]
          },
          "execution_count": 109,
          "metadata": {},
          "output_type": "execute_result"
        }
      ]
    },
    {
      "cell_type": "markdown",
      "metadata": {
        "id": "G2SConBPsA8O"
      },
      "source": [
        "Another way to express this is that the inverse of the inverse of a matrix $M$ is $M$ itself:\n",
        "\n",
        "$((M)^{-1})^{-1} = M$"
      ]
    },
    {
      "cell_type": "code",
      "metadata": {
        "id": "2-YCnAnrsA8O",
        "outputId": "dd2bdb7e-a2f0-451f-aff7-72c0cfca5ec6"
      },
      "source": [
        "LA.inv(LA.inv(F_shear))"
      ],
      "execution_count": null,
      "outputs": [
        {
          "data": {
            "text/plain": [
              "array([[ 1. ,  1.5],\n",
              "       [ 0. ,  1. ]])"
            ]
          },
          "execution_count": 110,
          "metadata": {},
          "output_type": "execute_result"
        }
      ]
    },
    {
      "cell_type": "markdown",
      "metadata": {
        "id": "T-HU_7tzsA8O"
      },
      "source": [
        "Also, the inverse of scaling by a factor of $\\lambda$ is of course scaling by a factor or $\\frac{1}{\\lambda}$:\n",
        "\n",
        "$ (\\lambda \\times M)^{-1} = \\frac{1}{\\lambda} \\times M^{-1}$\n",
        "\n",
        "Once you understand the geometric interpretation of matrices as linear transformations, most of these properties seem fairly intuitive.\n",
        "\n",
        "A matrix that is its own inverse is called an **involution**.That is, multiplication by matrix A is an involution if and only if A² = I. The simplest examples are reflection matrices, or a rotation by 180°, but there are also more complex involutions, for example imagine a transformation that squeezes horizontally, then  reflects over the vertical axis and finally rotates by 90° clockwise. Pick up a napkin and try doing that twice: you will end up in the original position. Here is the corresponding involutory matrix:"
      ]
    },
    {
      "cell_type": "code",
      "metadata": {
        "id": "g7ZeNrCHsA8O",
        "outputId": "28a21b86-eae1-4f83-e1bb-ca5b6a65b609"
      },
      "source": [
        "F_involution  = np.array([\n",
        "        [0, -2],\n",
        "        [-1/2, 0]\n",
        "    ])\n",
        "plot_transformation(P, F_involution.dot(P), \"$P$\", \"$F_{involution} \\cdot P$\",\n",
        "                    axis=[-8, 5, -4, 4])\n",
        "plt.show()"
      ],
      "execution_count": null,
      "outputs": [
        {
          "data": {
            "image/png": "[encoded data removed]",
            "text/plain": [
              "<matplotlib.figure.Figure at 0x7f6e32c29470>"
            ]
          },
          "metadata": {},
          "output_type": "display_data"
        }
      ]
    },
    {
      "cell_type": "markdown",
      "metadata": {
        "id": "OQwwmI1YsA8O"
      },
      "source": [
        "Finally, a square matrix $H$ whose inverse is its own transpose is an **orthogonal matrix**:\n",
        "\n",
        "$H^{-1} = H^T$\n",
        "\n",
        "Therefore:\n",
        "\n",
        "$H \\cdot H^T = H^T \\cdot H = I$\n",
        "\n",
        "It corresponds to a transformation that preserves distances, such as rotations and reflections, and combinations of these, but not rescaling, shearing or squeezing.  Let's check that $F_{reflect}$ is indeed orthogonal:"
      ]
    },
    {
      "cell_type": "code",
      "metadata": {
        "id": "rwT-ut-QsA8O",
        "outputId": "345708ed-1acf-4175-8550-db71b6eda043"
      },
      "source": [
        "F_reflect.dot(F_reflect.T)"
      ],
      "execution_count": null,
      "outputs": [
        {
          "data": {
            "text/plain": [
              "array([[1, 0],\n",
              "       [0, 1]])"
            ]
          },
          "execution_count": 112,
          "metadata": {},
          "output_type": "execute_result"
        }
      ]
    },
    {
      "cell_type": "markdown",
      "metadata": {
        "id": "7o7bfmnrsA8O"
      },
      "source": [
        "## Determinant\n",
        "The determinant of a square matrix $M$, noted $\\det(M)$ or $\\det M$ or $|M|$ is a value that can be calculated from its elements $(M_{i,j})$ using various equivalent methods. One of the simplest methods is this recursive approach:\n",
        "\n",
        "$|M| = M_{1,1}\\times|M^{(1,1)}| - M_{2,1}\\times|M^{(2,1)}| + M_{3,1}\\times|M^{(3,1)}| - M_{4,1}\\times|M^{(4,1)}| + \\cdots ± M_{n,1}\\times|M^{(n,1)}|$\n",
        "\n",
        "* Where $M^{(i,j)}$ is the matrix $M$ without row $i$ and column $j$.\n",
        "\n",
        "For example, let's calculate the determinant of the following $3 \\times 3$ matrix:\n",
        "\n",
        "$M = \\begin{bmatrix}\n",
        "  1 & 2 & 3 \\\\\n",
        "  4 & 5 & 6 \\\\\n",
        "  7 & 8 & 0\n",
        "\\end{bmatrix}$\n",
        "\n",
        "Using the method above, we get:\n",
        "\n",
        "$|M| = 1 \\times \\left | \\begin{bmatrix} 5 & 6 \\\\ 8 & 0 \\end{bmatrix} \\right |\n",
        "     - 2 \\times \\left | \\begin{bmatrix} 4 & 6 \\\\ 7 & 0 \\end{bmatrix} \\right |\n",
        "     + 3 \\times \\left | \\begin{bmatrix} 4 & 5 \\\\ 7 & 8 \\end{bmatrix} \\right |$\n",
        "\n",
        "Now we need to compute the determinant of each of these $2 \\times 2$ matrices (these determinants are called **minors**):\n",
        "\n",
        "$\\left | \\begin{bmatrix} 5 & 6 \\\\ 8 & 0 \\end{bmatrix} \\right | = 5 \\times 0 - 6 \\times 8 = -48$\n",
        "\n",
        "$\\left | \\begin{bmatrix} 4 & 6 \\\\ 7 & 0 \\end{bmatrix} \\right | = 4 \\times 0 - 6 \\times 7 = -42$\n",
        "\n",
        "$\\left | \\begin{bmatrix} 4 & 5 \\\\ 7 & 8 \\end{bmatrix} \\right | = 4 \\times 8 - 5 \\times 7 = -3$\n",
        "\n",
        "Now we can calculate the final result:\n",
        "\n",
        "$|M| = 1 \\times (-48) - 2 \\times (-42) + 3 \\times (-3) = 27$"
      ]
    },
    {
      "cell_type": "markdown",
      "metadata": {
        "id": "FLE2B9CfsA8P"
      },
      "source": [
        "To get the determinant of a matrix, you can call NumPy's `det` function in the `numpy.linalg` module:"
      ]
    },
    {
      "cell_type": "code",
      "metadata": {
        "id": "elUH2g0bsA8P",
        "outputId": "621c7420-679c-4a5d-cb9b-bbe1113c05f2"
      },
      "source": [
        "M = np.array([\n",
        "        [1, 2, 3],\n",
        "        [4, 5, 6],\n",
        "        [7, 8, 0]\n",
        "    ])\n",
        "LA.det(M)"
      ],
      "execution_count": null,
      "outputs": [
        {
          "data": {
            "text/plain": [
              "27.0"
            ]
          },
          "execution_count": 113,
          "metadata": {},
          "output_type": "execute_result"
        }
      ]
    },
    {
      "cell_type": "markdown",
      "metadata": {
        "id": "o32-MFtHsA8P"
      },
      "source": [
        "One of the main uses of the determinant is to *determine* whether a square matrix can be inversed or not: if the determinant is equal to 0, then the matrix *cannot* be inversed (it is a singular matrix), and if the determinant is not 0, then it *can* be inversed.\n",
        "\n",
        "For example, let's compute the determinant for the $F_{project}$, $F_{project\\_30}$ and $F_{shear}$ matrices that we defined earlier:"
      ]
    },
    {
      "cell_type": "code",
      "metadata": {
        "id": "AjkC29S_sA8Q",
        "outputId": "cf3956d6-902b-46ee-b342-e96c388b8604"
      },
      "source": [
        "LA.det(F_project)"
      ],
      "execution_count": null,
      "outputs": [
        {
          "data": {
            "text/plain": [
              "0.0"
            ]
          },
          "execution_count": 114,
          "metadata": {},
          "output_type": "execute_result"
        }
      ]
    },
    {
      "cell_type": "markdown",
      "metadata": {
        "id": "fcGlIa4UsA8Q"
      },
      "source": [
        "That's right, $F_{project}$ is singular, as we saw earlier."
      ]
    },
    {
      "cell_type": "code",
      "metadata": {
        "id": "hAth6dcrsA8Q",
        "outputId": "9356d9e0-7a0c-4b71-fbcf-47d8d88fddd3"
      },
      "source": [
        "LA.det(F_project_30)"
      ],
      "execution_count": null,
      "outputs": [
        {
          "data": {
            "text/plain": [
              "2.0816681711721642e-17"
            ]
          },
          "execution_count": 115,
          "metadata": {},
          "output_type": "execute_result"
        }
      ]
    },
    {
      "cell_type": "markdown",
      "metadata": {
        "id": "rXRMmgLBsA8R"
      },
      "source": [
        "This determinant is suspiciously close to 0: it really should be 0, but it's not due to tiny floating point errors. The matrix is actually singular."
      ]
    },
    {
      "cell_type": "code",
      "metadata": {
        "id": "YdNrB_UMsA8R",
        "outputId": "6af9e035-5bb7-474b-892c-d01d2eb4e997"
      },
      "source": [
        "LA.det(F_shear)"
      ],
      "execution_count": null,
      "outputs": [
        {
          "data": {
            "text/plain": [
              "1.0"
            ]
          },
          "execution_count": 116,
          "metadata": {},
          "output_type": "execute_result"
        }
      ]
    },
    {
      "cell_type": "markdown",
      "metadata": {
        "id": "iysIg_CisA8R"
      },
      "source": [
        "Perfect! This matrix *can* be inversed as we saw earlier. Wow, math really works!"
      ]
    },
    {
      "cell_type": "markdown",
      "metadata": {
        "id": "oJ3_ko6csA8S"
      },
      "source": [
        "The determinant can also be used to measure how much a linear transformation affects surface areas: for example, the projection matrices $F_{project}$ and $F_{project\\_30}$ completely flatten the polygon $P$, until its area is zero. This is why the determinant of these matrices is 0. The shear mapping modified the shape of the polygon, but it did not affect its surface area, which is why the determinant is 1. You can try computing the determinant of a rotation matrix, and you should also find 1. What about a scaling matrix? Let's see:"
      ]
    },
    {
      "cell_type": "code",
      "metadata": {
        "id": "Iqae9apwsA8S",
        "outputId": "dc2b3244-0d6c-43cf-c813-ae8502289369"
      },
      "source": [
        "F_scale = np.array([\n",
        "        [0.5, 0],\n",
        "        [0, 0.5]\n",
        "    ])\n",
        "plot_transformation(P, F_scale.dot(P), \"$P$\", \"$F_{scale} \\cdot P$\",\n",
        "                    axis=[0, 6, -1, 4])\n",
        "plt.show()"
      ],
      "execution_count": null,
      "outputs": [
        {
          "data": {
            "image/png": "[encoded data removed]",
            "text/plain": [
              "<matplotlib.figure.Figure at 0x7f6e32cd89b0>"
            ]
          },
          "metadata": {},
          "output_type": "display_data"
        }
      ]
    },
    {
      "cell_type": "markdown",
      "metadata": {
        "id": "l_VyYo3ksA8S"
      },
      "source": [
        "We rescaled the polygon by a factor of 1/2 on both vertical and horizontal axes so the surface area of the resulting polygon is 1/4$^{th}$ of the original polygon. Let's compute the determinant and check that:"
      ]
    },
    {
      "cell_type": "code",
      "metadata": {
        "id": "YSLDfgDZsA8S",
        "outputId": "06ef00b6-ee16-4cc5-c827-b1290f7cad40"
      },
      "source": [
        "LA.det(F_scale)"
      ],
      "execution_count": null,
      "outputs": [
        {
          "data": {
            "text/plain": [
              "0.25"
            ]
          },
          "execution_count": 118,
          "metadata": {},
          "output_type": "execute_result"
        }
      ]
    },
    {
      "cell_type": "markdown",
      "metadata": {
        "id": "dFqzRHw2sA8S"
      },
      "source": [
        "Correct!\n",
        "\n",
        "The determinant can actually be negative, when the transformation results in a \"flipped over\" version of the original polygon (eg. a left hand glove becomes a right hand glove). For example, the determinant of the `F_reflect` matrix is -1 because the surface area is preserved but the polygon gets flipped over:"
      ]
    },
    {
      "cell_type": "code",
      "metadata": {
        "id": "JnKhsMz2sA8T",
        "outputId": "bbde2b11-073e-4307-f5c5-9b16f96679d4"
      },
      "source": [
        "LA.det(F_reflect)"
      ],
      "execution_count": null,
      "outputs": [
        {
          "data": {
            "text/plain": [
              "-1.0"
            ]
          },
          "execution_count": 119,
          "metadata": {},
          "output_type": "execute_result"
        }
      ]
    },
    {
      "cell_type": "markdown",
      "metadata": {
        "id": "Xy_rm1_tsA8T"
      },
      "source": [
        "## Composing linear transformations\n",
        "Several linear transformations can be chained simply by performing multiple dot products in a row. For example, to perform a squeeze mapping followed by a shear mapping, just write:"
      ]
    },
    {
      "cell_type": "code",
      "metadata": {
        "id": "-ExIA6srsA8T"
      },
      "source": [
        "P_squeezed_then_sheared = F_shear.dot(F_squeeze.dot(P))"
      ],
      "execution_count": null,
      "outputs": []
    },
    {
      "cell_type": "markdown",
      "metadata": {
        "id": "1NcekKwtsA8T"
      },
      "source": [
        "Since the dot product is associative, the following code is equivalent:"
      ]
    },
    {
      "cell_type": "code",
      "metadata": {
        "id": "B5YkDKp4sA8T"
      },
      "source": [
        "P_squeezed_then_sheared = (F_shear.dot(F_squeeze)).dot(P)"
      ],
      "execution_count": null,
      "outputs": []
    },
    {
      "cell_type": "markdown",
      "metadata": {
        "id": "j2YrKU--sA8T"
      },
      "source": [
        "Note that the order of the transformations is the reverse of the dot product order.\n",
        "\n",
        "If we are going to perform this composition of linear transformations more than once, we might as well save the composition matrix like this:"
      ]
    },
    {
      "cell_type": "code",
      "metadata": {
        "collapsed": true,
        "id": "KfC0hz8vsA8T"
      },
      "source": [
        "F_squeeze_then_shear = F_shear.dot(F_squeeze)\n",
        "P_squeezed_then_sheared = F_squeeze_then_shear.dot(P)"
      ],
      "execution_count": null,
      "outputs": []
    },
    {
      "cell_type": "markdown",
      "metadata": {
        "id": "ejuFPAdssA8T"
      },
      "source": [
        "From now on we can perform both transformations in just one dot product, which can lead to a very significant performance boost."
      ]
    },
    {
      "cell_type": "markdown",
      "metadata": {
        "id": "qf6qsAfEsA8U"
      },
      "source": [
        "What if you want to perform the inverse of this double transformation? Well, if you squeezed and then you sheared, and you want to undo what you have done, it should be obvious that you should unshear first and then unsqueeze. In more mathematical terms, given two invertible (aka nonsingular) matrices $Q$ and $R$:\n",
        "\n",
        "$(Q \\cdot R)^{-1} = R^{-1} \\cdot Q^{-1}$\n",
        "\n",
        "And in NumPy:"
      ]
    },
    {
      "cell_type": "code",
      "metadata": {
        "id": "7tfaavdGsA8U",
        "outputId": "47f82998-d19f-4ebb-b605-f3708aed60e7"
      },
      "source": [
        "LA.inv(F_shear.dot(F_squeeze)) == LA.inv(F_squeeze).dot(LA.inv(F_shear))"
      ],
      "execution_count": null,
      "outputs": [
        {
          "data": {
            "text/plain": [
              "array([[ True,  True],\n",
              "       [ True,  True]], dtype=bool)"
            ]
          },
          "execution_count": 123,
          "metadata": {},
          "output_type": "execute_result"
        }
      ]
    },
    {
      "cell_type": "markdown",
      "metadata": {
        "id": "FR6PUOIBsA8U"
      },
      "source": [
        "## Singular Value Decomposition\n",
        "It turns out that any $m \\times n$ matrix $M$ can be decomposed into the dot product of three simple matrices:\n",
        "* a rotation matrix $U$ (an $m \\times m$ orthogonal matrix)\n",
        "* a scaling & projecting matrix $\\Sigma$ (an $m \\times n$ diagonal matrix)\n",
        "* and another rotation matrix $V^T$ (an $n \\times n$ orthogonal matrix)\n",
        "\n",
        "$M = U \\cdot \\Sigma \\cdot V^{T}$\n",
        "\n",
        "For example, let's decompose the shear transformation:"
      ]
    },
    {
      "cell_type": "code",
      "metadata": {
        "id": "tLJ19lrZsA8U",
        "outputId": "8789a28b-67e6-43a1-97b7-44275b789247"
      },
      "source": [
        "U, S_diag, V_T = LA.svd(F_shear) # note: in python 3 you can rename S_diag to Σ_diag\n",
        "U"
      ],
      "execution_count": null,
      "outputs": [
        {
          "data": {
            "text/plain": [
              "array([[ 0.89442719, -0.4472136 ],\n",
              "       [ 0.4472136 ,  0.89442719]])"
            ]
          },
          "execution_count": 124,
          "metadata": {},
          "output_type": "execute_result"
        }
      ]
    },
    {
      "cell_type": "code",
      "metadata": {
        "id": "37uYkqd2sA8U",
        "outputId": "22c16185-8bad-438c-b370-f75a014d084d"
      },
      "source": [
        "S_diag"
      ],
      "execution_count": null,
      "outputs": [
        {
          "data": {
            "text/plain": [
              "array([ 2. ,  0.5])"
            ]
          },
          "execution_count": 125,
          "metadata": {},
          "output_type": "execute_result"
        }
      ]
    },
    {
      "cell_type": "markdown",
      "metadata": {
        "id": "ovc3aSxJsA8U"
      },
      "source": [
        "Note that this is just a 1D array containing the diagonal values of Σ. To get the actual matrix Σ, we can use NumPy's `diag` function:"
      ]
    },
    {
      "cell_type": "code",
      "metadata": {
        "id": "AIS8alDqsA8U",
        "outputId": "19c78f69-1ae9-4d57-a1ac-c17d7f847837"
      },
      "source": [
        "S = np.diag(S_diag)\n",
        "S"
      ],
      "execution_count": null,
      "outputs": [
        {
          "data": {
            "text/plain": [
              "array([[ 2. ,  0. ],\n",
              "       [ 0. ,  0.5]])"
            ]
          },
          "execution_count": 126,
          "metadata": {},
          "output_type": "execute_result"
        }
      ]
    },
    {
      "cell_type": "markdown",
      "metadata": {
        "id": "vUDY56bQsA8U"
      },
      "source": [
        "Now let's check that $U \\cdot \\Sigma \\cdot V^T$ is indeed equal to `F_shear`:"
      ]
    },
    {
      "cell_type": "code",
      "metadata": {
        "id": "aW7pafZxsA8U",
        "outputId": "45ef27b3-e8c1-4b71-860c-0d7f017933e2"
      },
      "source": [
        "U.dot(np.diag(S_diag)).dot(V_T)"
      ],
      "execution_count": null,
      "outputs": [
        {
          "data": {
            "text/plain": [
              "array([[ 1. ,  1.5],\n",
              "       [ 0. ,  1. ]])"
            ]
          },
          "execution_count": 127,
          "metadata": {},
          "output_type": "execute_result"
        }
      ]
    },
    {
      "cell_type": "code",
      "metadata": {
        "id": "vwngsX5AsA8V",
        "outputId": "6ed91666-dd18-45e2-b574-3745b3fe954b"
      },
      "source": [
        "F_shear"
      ],
      "execution_count": null,
      "outputs": [
        {
          "data": {
            "text/plain": [
              "array([[ 1. ,  1.5],\n",
              "       [ 0. ,  1. ]])"
            ]
          },
          "execution_count": 128,
          "metadata": {},
          "output_type": "execute_result"
        }
      ]
    },
    {
      "cell_type": "markdown",
      "metadata": {
        "id": "nnp1Py3ysA8V"
      },
      "source": [
        "It worked like a charm. Let's apply these transformations one by one (in reverse order) on the unit square to understand what's going on. First, let's apply the first rotation $V^T$:"
      ]
    },
    {
      "cell_type": "code",
      "metadata": {
        "id": "eim0DXl8sA8V",
        "outputId": "5d819d6f-fa57-4b43-d542-ceabd42b9b31"
      },
      "source": [
        "plot_transformation(Square, V_T.dot(Square), \"$Square$\", \"$V^T \\cdot Square$\",\n",
        "                    axis=[-0.5, 3.5 , -1.5, 1.5])\n",
        "plt.show()"
      ],
      "execution_count": null,
      "outputs": [
        {
          "data": {
            "image/png": "[encoded data removed]",
            "text/plain": [
              "<matplotlib.figure.Figure at 0x7f6e32faa860>"
            ]
          },
          "metadata": {},
          "output_type": "display_data"
        }
      ]
    },
    {
      "cell_type": "markdown",
      "metadata": {
        "id": "QwFDVlMrsA8V"
      },
      "source": [
        "Now let's rescale along the vertical and horizontal axes using $\\Sigma$:"
      ]
    },
    {
      "cell_type": "code",
      "metadata": {
        "id": "fgwcXYNssA8V",
        "outputId": "95eb5740-a7bc-485a-a748-e30712969bca"
      },
      "source": [
        "plot_transformation(V_T.dot(Square), S.dot(V_T).dot(Square), \"$V^T \\cdot Square$\", \"$\\Sigma \\cdot V^T \\cdot Square$\",\n",
        "                    axis=[-0.5, 3.5 , -1.5, 1.5])\n",
        "plt.show()"
      ],
      "execution_count": null,
      "outputs": [
        {
          "data": {
            "image/png": "[encoded data removed]",
            "text/plain": [
              "<matplotlib.figure.Figure at 0x7f6e32ca8dd8>"
            ]
          },
          "metadata": {},
          "output_type": "display_data"
        }
      ]
    },
    {
      "cell_type": "markdown",
      "metadata": {
        "id": "pA-Zk5P8sA8V"
      },
      "source": [
        "Finally, we apply the second rotation $U$:"
      ]
    },
    {
      "cell_type": "code",
      "metadata": {
        "id": "PsMpAjiOsA8V",
        "outputId": "ca577a79-f755-4e5b-a705-911edb096abb"
      },
      "source": [
        "plot_transformation(S.dot(V_T).dot(Square), U.dot(S).dot(V_T).dot(Square),\"$\\Sigma \\cdot V^T \\cdot Square$\", \"$U \\cdot \\Sigma \\cdot V^T \\cdot Square$\",\n",
        "                    axis=[-0.5, 3.5 , -1.5, 1.5])\n",
        "plt.show()"
      ],
      "execution_count": null,
      "outputs": [
        {
          "data": {
            "image/png": "[encoded data removed]",
            "text/plain": [
              "<matplotlib.figure.Figure at 0x7f6e32d9c7f0>"
            ]
          },
          "metadata": {},
          "output_type": "display_data"
        }
      ]
    },
    {
      "cell_type": "markdown",
      "metadata": {
        "id": "-APk2OqxsA8V"
      },
      "source": [
        "And we can see that the result is indeed a shear mapping of the original unit square."
      ]
    },
    {
      "cell_type": "markdown",
      "metadata": {
        "id": "Crac3bw6sA8W"
      },
      "source": [
        "## Eigenvectors and eigenvalues\n",
        "An **eigenvector** of a square matrix $M$ (also called a **characteristic vector**) is a non-zero vector that remains on the same line after transformation by the linear transformation associated with $M$. A more formal definition is any vector $v$ such that:\n",
        "\n",
        "$M \\cdot v = \\lambda \\times v$\n",
        "\n",
        "Where $\\lambda$ is a scalar value called the **eigenvalue** associated to the vector $v$.\n",
        "\n",
        "*Simple words* **An eigenvector is a vector whose direction remains unchanged when a linear transformation is applied to it.**\n",
        "\n",
        "For example, any horizontal vector remains horizontal after applying the shear mapping (as you can see on the image above), so it is an eigenvector of $M$. A vertical vector ends up tilted to the right, so vertical vectors are *NOT* eigenvectors of $M$.\n",
        "\n",
        "If we look at the squeeze mapping, we find that any horizontal or vertical vector keeps its direction (although its length changes), so all horizontal and vertical vectors are eigenvectors of $F_{squeeze}$.\n",
        "\n",
        "However, rotation matrices have no eigenvectors at all (except if the rotation angle is 0° or 180°, in which case all non-zero vectors are eigenvectors).\n",
        "\n",
        "NumPy's `eig` function returns the list of unit eigenvectors and their corresponding eigenvalues for any square matrix. Let's look at the eigenvectors and eigenvalues of the squeeze mapping matrix $F_{squeeze}$:"
      ]
    },
    {
      "cell_type": "code",
      "metadata": {
        "id": "d2ETQCKNsA8W",
        "outputId": "8d93a2a1-89c0-4edd-d72b-59dc168e650a"
      },
      "source": [
        "eigenvalues, eigenvectors = LA.eig(F_squeeze)\n",
        "eigenvalues # [λ0, λ1, …]"
      ],
      "execution_count": null,
      "outputs": [
        {
          "data": {
            "text/plain": [
              "array([ 1.4       ,  0.71428571])"
            ]
          },
          "execution_count": 132,
          "metadata": {},
          "output_type": "execute_result"
        }
      ]
    },
    {
      "cell_type": "code",
      "metadata": {
        "id": "TLEC-vrksA8W",
        "outputId": "6bb26c97-f255-4369-fcf8-affc9bf3b839"
      },
      "source": [
        "eigenvectors # [v0, v1, …]"
      ],
      "execution_count": null,
      "outputs": [
        {
          "data": {
            "text/plain": [
              "array([[ 1.,  0.],\n",
              "       [ 0.,  1.]])"
            ]
          },
          "execution_count": 133,
          "metadata": {},
          "output_type": "execute_result"
        }
      ]
    },
    {
      "cell_type": "markdown",
      "metadata": {
        "id": "S_N18YrUsA8W"
      },
      "source": [
        "Indeed the horizontal vectors are stretched by a factor of 1.4, and the vertical vectors are shrunk by a factor of 1/1.4=0.714…, so far so good. Let's look at the shear mapping matrix $F_{shear}$:"
      ]
    },
    {
      "cell_type": "code",
      "metadata": {
        "id": "iyGk1adJsA8W",
        "outputId": "11dede77-8f45-417e-d40d-e03a1360cc7d"
      },
      "source": [
        "eigenvalues2, eigenvectors2 = LA.eig(F_shear)\n",
        "eigenvalues2 # [λ0, λ1, …]"
      ],
      "execution_count": null,
      "outputs": [
        {
          "data": {
            "text/plain": [
              "array([ 1.,  1.])"
            ]
          },
          "execution_count": 134,
          "metadata": {},
          "output_type": "execute_result"
        }
      ]
    },
    {
      "cell_type": "code",
      "metadata": {
        "id": "EEtVtfeFsA8W",
        "outputId": "c5519127-5082-49e4-8160-4c1dbbac49f2"
      },
      "source": [
        "eigenvectors2 # [v0, v1, …]"
      ],
      "execution_count": null,
      "outputs": [
        {
          "data": {
            "text/plain": [
              "array([[  1.00000000e+00,  -1.00000000e+00],\n",
              "       [  0.00000000e+00,   1.48029737e-16]])"
            ]
          },
          "execution_count": 135,
          "metadata": {},
          "output_type": "execute_result"
        }
      ]
    },
    {
      "cell_type": "markdown",
      "metadata": {
        "id": "5x-Mgna0sA8W"
      },
      "source": [
        "Wait, what!? We expected just one unit eigenvector, not two. The second vector is almost equal to $\\begin{pmatrix}-1 \\\\ 0 \\end{pmatrix}$, which is on the same line as the first vector $\\begin{pmatrix}1 \\\\ 0 \\end{pmatrix}$. This is due to floating point errors. We can safely ignore vectors that are (almost) colinear (ie. on the same line)."
      ]
    },
    {
      "cell_type": "markdown",
      "metadata": {
        "id": "2CKEzqQ4sA8X"
      },
      "source": [
        "## Trace\n",
        "The trace of a square matrix $M$, noted $tr(M)$ is the sum of the values on its main diagonal. For example:"
      ]
    },
    {
      "cell_type": "code",
      "metadata": {
        "id": "T3Cecoy2sA8X",
        "outputId": "bbabcf86-61c5-4dd2-b445-a84f697caddb"
      },
      "source": [
        "D = np.array([\n",
        "        [100, 200, 300],\n",
        "        [ 10,  20,  30],\n",
        "        [  1,   2,   3],\n",
        "    ])\n",
        "np.trace(D)"
      ],
      "execution_count": null,
      "outputs": [
        {
          "data": {
            "text/plain": [
              "123"
            ]
          },
          "execution_count": 136,
          "metadata": {},
          "output_type": "execute_result"
        }
      ]
    },
    {
      "cell_type": "markdown",
      "metadata": {
        "id": "pK6C0FgXsA8X"
      },
      "source": [
        "The trace does not have a simple geometric interpretation (in general), but it has a number of properties that make it useful in many areas:\n",
        "* $tr(A + B) = tr(A) + tr(B)$\n",
        "* $tr(A \\cdot B) = tr(B \\cdot A)$\n",
        "* $tr(A \\cdot B \\cdot \\cdots \\cdot Y \\cdot Z) = tr(Z \\cdot A \\cdot B \\cdot \\cdots \\cdot Y)$\n",
        "* $tr(A^T \\cdot B) = tr(A \\cdot B^T) = tr(B^T \\cdot A) = tr(B \\cdot A^T) = \\sum_{i,j}X_{i,j} \\times Y_{i,j}$\n",
        "* …\n",
        "\n",
        "It does, however, have a useful geometric interpretation in the case of projection matrices (such as $F_{project}$ that we discussed earlier): it corresponds to the number of dimensions after projection. For example:"
      ]
    },
    {
      "cell_type": "code",
      "metadata": {
        "id": "UVA2l7-YsA8X",
        "outputId": "83669730-4204-421f-d3bb-7ffab1be5155"
      },
      "source": [
        "np.trace(F_project)"
      ],
      "execution_count": null,
      "outputs": [
        {
          "data": {
            "text/plain": [
              "1"
            ]
          },
          "execution_count": 137,
          "metadata": {},
          "output_type": "execute_result"
        }
      ]
    },
    {
      "cell_type": "markdown",
      "metadata": {
        "id": "4LtQxEY9sA8Y"
      },
      "source": [
        "# What next?\n",
        "This concludes this introduction to Linear Algebra. Although these basics cover most of what you will need to know for Machine Learning, if you wish to go deeper into this topic there are many options available: Linear Algebra [books](http://linear.axler.net/), [Khan Academy](https://www.khanacademy.org/math/linear-algebra) lessons, or just [Wikipedia](https://en.wikipedia.org/wiki/Linear_algebra) pages. "
      ]
    }
  ]
}